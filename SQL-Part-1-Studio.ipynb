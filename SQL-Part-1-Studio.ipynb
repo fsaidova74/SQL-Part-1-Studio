{
    "metadata": {
        "kernelspec": {
            "name": "SQL",
            "display_name": "SQL",
            "language": "sql"
        },
        "language_info": {
            "name": "sql",
            "version": ""
        },
        "extensions": {
            "azuredatastudio": {
                "version": 1,
                "views": []
            }
        }
    },
    "nbformat_minor": 2,
    "nbformat": 4,
    "cells": [
        {
            "cell_type": "markdown",
            "source": [
                "# SQL Part 1 Studio\n",
                "\n",
                "### Let's practice your SQL quering skills!  For each question, work along in the notebook adding your query and answering the questions. \n",
                "\n",
                "### **DataSet**\n",
                "\n",
                "### <span style=\"font-size: 14px; font-family: -apple-system, BlinkMacSystemFont, sans-serif;\">We will be using the Goodbooks-10k dataset from the exercises in the prep work.&nbsp; Feel free to reference your notebook.</span>\n",
                "\n",
                "- The dataset can be found here: [goodbooks-10k](https://www.kaggle.com/zygmunt/goodbooks-10k)\n",
                "- You can access the **BooksDB** in the Launchcode server.\n",
                "\n",
                "### **Business Issue**\n",
                "\n",
                "You work for a small independant book store and you want to increase sales by running various promotions.  Start by becoming more familar with the BooksDB."
            ],
            "metadata": {
                "azdata_cell_guid": "b9034d8a-b631-48bf-a895-1012a6ffa784"
            }
        },
        {
            "cell_type": "markdown",
            "source": [
                "## Part 1. BooksDB Questions\n",
                "\n",
                "<span style=\"color: rgba(0, 0, 0, 0.87); font-family: -apple-system, system-ui, &quot;Segoe UI&quot;, Helvetica, Arial, sans-serif, &quot;Apple Color Emoji&quot;, &quot;Segoe UI Emoji&quot;, &quot;Segoe UI Symbol&quot;; background-color: rgb(255, 255, 255);\">Question 1:&nbsp; Write a query of the books table, returning the TOP 100 results and&nbsp; includes, book_id, authors, title, average_rating.&nbsp; Use an alias for at least one column and in descending order of rating.&nbsp; What is the number one book?</span>"
            ],
            "metadata": {
                "azdata_cell_guid": "6e55eb1c-4a14-4076-90d2-95ed17a6309f",
                "tags": [
                    "hide_input"
                ]
            },
            "attachments": {}
        },
        {
            "cell_type": "code",
            "source": [
                "-- return top 100 results\n",
                "SELECT top 1000 book_id, authors, title, average_rating \n",
                "FROM BooksDB.dbo.books\n",
                "ORDER BY average_rating DESC;"
            ],
            "metadata": {
                "azdata_cell_guid": "470b0ca4-9a32-4b46-a42e-bbb645101769",
                "tags": []
            },
            "outputs": [
                {
                    "output_type": "display_data",
                    "data": {
                        "text/html": "(1000 rows affected)"
                    },
                    "metadata": {}
                },
                {
                    "output_type": "display_data",
                    "data": {
                        "text/html": "Total execution time: 00:00:00.264"
                    },
                    "metadata": {}
                },
                {
                    "output_type": "execute_result",
                    "metadata": {},
                    "execution_count": 22,
                    "data": {
                        "application/vnd.dataresource+json": {
                            "schema": {
                                "fields": [
                                    {
                                        "name": "book_id"
                                    },
                                    {
                                        "name": "authors"
                                    },
                                    {
                                        "name": "title"
                                    },
                                    {
                                        "name": "average_rating"
                                    }
                                ]
                            },
                            "data": [
                                {
                                    "0": "24812",
                                    "1": "Bill Watterson",
                                    "2": "The Complete Calvin and Hobbes",
                                    "3": "4.82"
                                },
                                {
                                    "0": "8",
                                    "1": "J.K. Rowling, Mary GrandPré",
                                    "2": "Harry Potter Boxed Set, Books 1-5 (Harry Potter, #1-5)",
                                    "3": "4.77"
                                },
                                {
                                    "0": "17332218",
                                    "1": "Brandon Sanderson",
                                    "2": "Words of Radiance (The Stormlight Archive, #2)",
                                    "3": "4.77"
                                },
                                {
                                    "0": "5031805",
                                    "1": "Anonymous, Lane T. Dennis, Wayne A. Grudem",
                                    "2": "ESV Study Bible",
                                    "3": "4.76"
                                },
                                {
                                    "0": "95602",
                                    "1": "Francine Rivers",
                                    "2": "Mark of the Lion Trilogy",
                                    "3": "4.76"
                                },
                                {
                                    "0": "24814",
                                    "1": "Bill Watterson",
                                    "2": "It's a Magical World: A Calvin and Hobbes Collection",
                                    "3": "4.75"
                                },
                                {
                                    "0": "862041",
                                    "1": "J.K. Rowling",
                                    "2": "Harry Potter Boxset (Harry Potter, #1-7)",
                                    "3": "4.74"
                                },
                                {
                                    "0": "70489",
                                    "1": "Bill Watterson",
                                    "2": "There's Treasure Everywhere: A Calvin and Hobbes Collection",
                                    "3": "4.74"
                                },
                                {
                                    "0": "59715",
                                    "1": "Bill Watterson",
                                    "2": "The Authoritative Calvin and Hobbes: A Calvin and Hobbes Treasury",
                                    "3": "4.73"
                                },
                                {
                                    "0": "24815",
                                    "1": "Bill Watterson",
                                    "2": "The Indispensable Calvin and Hobbes",
                                    "3": "4.73"
                                },
                                {
                                    "0": "10",
                                    "1": "J.K. Rowling",
                                    "2": "Harry Potter Collection (Harry Potter, #1-6)",
                                    "3": "4.73"
                                },
                                {
                                    "0": "17927395",
                                    "1": "Sarah J. Maas",
                                    "2": "A Court of Mist and Fury (A Court of Thorns and Roses, #2)",
                                    "3": "4.72"
                                },
                                {
                                    "0": "70487",
                                    "1": "Bill Watterson",
                                    "2": "Attack of the Deranged Mutant Killer Monster Snow Goons",
                                    "3": "4.72"
                                },
                                {
                                    "0": "24816",
                                    "1": "Bill Watterson",
                                    "2": "Homicidal Psycho Jungle Cat: A Calvin and Hobbes Collection",
                                    "3": "4.71"
                                },
                                {
                                    "0": "121792",
                                    "1": "Bill Watterson",
                                    "2": "The Revenge of the Baby-Sat",
                                    "3": "4.71"
                                },
                                {
                                    "0": "2350129",
                                    "1": "The Church of Jesus Christ of Latter-day Saints",
                                    "2": "Preach My Gospel: A Guide To Missionary Service",
                                    "3": "4.71"
                                },
                                {
                                    "0": "24818",
                                    "1": "Bill Watterson",
                                    "2": "The Days Are Just Packed: A Calvin and Hobbes Collection",
                                    "3": "4.68"
                                },
                                {
                                    "0": "265205",
                                    "1": "Anonymous, Ronald A. Beers, Ronald A. Beers",
                                    "2": "Life Application Study Bible: NIV",
                                    "3": "4.67"
                                },
                                {
                                    "0": "9329354",
                                    "1": "Brandon Sanderson",
                                    "2": "The Way of Kings, Part 1 (The Stormlight Archive #1.1)",
                                    "3": "4.67"
                                },
                                {
                                    "0": "24494",
                                    "1": "Bill Watterson",
                                    "2": "The Calvin and Hobbes Lazy Sunday Book",
                                    "3": "4.66"
                                },
                                {
                                    "0": "5883777",
                                    "1": "Anonymous",
                                    "2": "The Holy Bible: English Standard Version",
                                    "3": "4.66"
                                },
                                {
                                    "0": "99298",
                                    "1": "J.K. Rowling, Mary GrandPré",
                                    "2": "The Harry Potter Collection 1-4 (Harry Potter, #1-4)",
                                    "3": "4.66"
                                },
                                {
                                    "0": "43070",
                                    "1": "Bill Watterson",
                                    "2": "The Essential Calvin and Hobbes: A Calvin and Hobbes Treasury",
                                    "3": "4.65"
                                },
                                {
                                    "0": "18337259",
                                    "1": "Daniel Abraham, George R.R. Martin, Tommy Patterson",
                                    "2": "A Game of Thrones: Comic Book, Issue 1",
                                    "3": "4.65"
                                },
                                {
                                    "0": "23753",
                                    "1": "Neil Gaiman, Mike Dringenberg, Chris Bachalo, Michael Zulli, Kelly Jones, Charles Vess, Colleen Doran, Malcolm Jones III, Steve Parkhouse, Daniel Vozzo, Lee Loughridge, Steve Oliff, Todd Klein, Dave McKean, Sam Kieth",
                                    "2": "The Absolute Sandman, Volume One",
                                    "3": "4.65"
                                },
                                {
                                    "0": "7235533",
                                    "1": "Brandon Sanderson",
                                    "2": "The Way of Kings (The Stormlight Archive, #1)",
                                    "3": "4.64"
                                },
                                {
                                    "0": "9814682",
                                    "1": "George R.R. Martin",
                                    "2": "A Song of Ice and Fire (A Song of Ice and Fire, #1-4)",
                                    "3": "4.63"
                                },
                                {
                                    "0": "24813",
                                    "1": "Bill Watterson",
                                    "2": "The Calvin and Hobbes Tenth Anniversary Book",
                                    "3": "4.63"
                                },
                                {
                                    "0": "12177850",
                                    "1": "George R.R. Martin",
                                    "2": "A Song of Ice and Fire (A Song of Ice and Fire, #1-5)",
                                    "3": "4.63"
                                },
                                {
                                    "0": "46292",
                                    "1": "Hafez",
                                    "2": "The Divan",
                                    "3": "4.63"
                                },
                                {
                                    "0": "481749",
                                    "1": "James E. Talmage",
                                    "2": "Jesus the Christ",
                                    "3": "4.63"
                                },
                                {
                                    "0": "6801614",
                                    "1": "Eiichirō Oda",
                                    "2": "One Piece, Volume 38: Rocketman!! (One Piece, #38)",
                                    "3": "4.63"
                                },
                                {
                                    "0": "32075671",
                                    "1": "Angie Thomas",
                                    "2": "The Hate U Give",
                                    "3": "4.62"
                                },
                                {
                                    "0": "22299763",
                                    "1": "Leigh Bardugo",
                                    "2": "Crooked Kingdom (Six of Crows, #2)",
                                    "3": "4.62"
                                },
                                {
                                    "0": "2223324",
                                    "1": "John   Williams",
                                    "2": "Harry Potter and the Chamber of Secrets: Sheet Music for Flute with C.D",
                                    "3": "4.61"
                                },
                                {
                                    "0": "6339989",
                                    "1": "Richelle Mead",
                                    "2": "Vampire Academy Collection (Vampire Academy, #1-3)",
                                    "3": "4.61"
                                },
                                {
                                    "0": "280111",
                                    "1": "Anonymous",
                                    "2": "Holy Bible: New International Version",
                                    "3": "4.61"
                                },
                                {
                                    "0": "77727",
                                    "1": "Bill Watterson, G.B. Trudeau",
                                    "2": "Calvin and Hobbes",
                                    "3": "4.61"
                                },
                                {
                                    "0": "136251",
                                    "1": "J.K. Rowling, Mary GrandPré",
                                    "2": "Harry Potter and the Deathly Hallows (Harry Potter, #7)",
                                    "3": "4.61"
                                },
                                {
                                    "0": "596259",
                                    "1": "Gordon B. Hinckley",
                                    "2": "Standing for Something: 10 Neglected Virtues That Will Heal Our Hearts and Homes",
                                    "3": "4.61"
                                },
                                {
                                    "0": "47697",
                                    "1": "Alisa Kwitney, Neil Gaiman",
                                    "2": "The Sandman: King of Dreams",
                                    "3": "4.61"
                                },
                                {
                                    "0": "7025086",
                                    "1": "Christopher Yost, Pasqual Ferry, Orson Scott Card",
                                    "2": "Ender's Game, Volume 2: Command School",
                                    "3": "4.6"
                                },
                                {
                                    "0": "18006496",
                                    "1": "Sarah J. Maas",
                                    "2": "Queen of Shadows (Throne of Glass, #4)",
                                    "3": "4.6"
                                },
                                {
                                    "0": "95617",
                                    "1": "Francine Rivers, Richard Ferrone",
                                    "2": "A Voice in the Wind (Mark of the Lion, #1)",
                                    "3": "4.6"
                                },
                                {
                                    "0": "46601",
                                    "1": "Francine Rivers",
                                    "2": "An Echo in the Darkness (Mark of the Lion, #2)",
                                    "3": "4.6"
                                },
                                {
                                    "0": "2299110",
                                    "1": "Sherrilyn Kenyon",
                                    "2": "Acheron (Dark-Hunter #14)",
                                    "3": "4.59"
                                },
                                {
                                    "0": "119",
                                    "1": "Gary Russell",
                                    "2": "The Lord of the Rings: The Art of The Fellowship of the Ring",
                                    "3": "4.59"
                                },
                                {
                                    "0": "71252",
                                    "1": "Neil Gaiman, Marc Hempel, Richard Case, D'Israeli, Teddy Kristiansen, Glyn Dillon, Charles Vess, Dean Ormston, Kevin Nowlan, Todd Klein, Frank McConnell",
                                    "2": "The Kindly Ones (The Sandman #9)",
                                    "3": "4.59"
                                },
                                {
                                    "0": "349254",
                                    "1": "Jude Fisher",
                                    "2": "The Lord of the Rings: The Return of the King: Visual Companion",
                                    "3": "4.59"
                                },
                                {
                                    "0": "18335634",
                                    "1": "Cassandra Clare",
                                    "2": "Clockwork Princess (The Infernal Devices, #3)",
                                    "3": "4.59"
                                },
                                {
                                    "0": "30",
                                    "1": "J.R.R. Tolkien",
                                    "2": "J.R.R. Tolkien 4-Book Boxed Set: The Hobbit and The Lord of the Rings",
                                    "3": "4.59"
                                },
                                {
                                    "0": "11106458",
                                    "1": "Cassandra Clare",
                                    "2": "The Mortal Instruments (The Mortal Instruments #1-4)",
                                    "3": "4.59"
                                },
                                {
                                    "0": "9832370",
                                    "1": "BookRags",
                                    "2": "BookRags Summary:  A Storm of Swords",
                                    "3": "4.59"
                                },
                                {
                                    "0": "14367051",
                                    "1": "Cassandra Clare",
                                    "2": "City of Bones / City of Ashes / City of Glass / City of Fallen Angels / City of Lost Souls (The Mortal Instruments, #1-5)",
                                    "3": "4.59"
                                },
                                {
                                    "0": "17961",
                                    "1": "Jorge Luis Borges, Andrew Hurley",
                                    "2": "Collected Fictions",
                                    "3": "4.58"
                                },
                                {
                                    "0": "15767586",
                                    "1": "Sherrilyn Kenyon",
                                    "2": "Styxx (Dark-Hunter, #22)",
                                    "3": "4.58"
                                },
                                {
                                    "0": "892295",
                                    "1": "Arthur Conan Doyle, William S. Baring-Gould",
                                    "2": "The Annotated Sherlock Holmes: The Four Novels and the Fifty-Six Short Stories Complete (2 Volume Set)",
                                    "3": "4.58"
                                },
                                {
                                    "0": "4808763",
                                    "1": "Isaac Asimov, Bob E. Flick, Jim Gallant",
                                    "2": "The Last Question",
                                    "3": "4.58"
                                },
                                {
                                    "0": "28260587",
                                    "1": "Sarah J. Maas",
                                    "2": "Empire of Storms (Throne of Glass, #5)",
                                    "3": "4.58"
                                },
                                {
                                    "0": "20342617",
                                    "1": "Bryan Stevenson",
                                    "2": "Just Mercy: A Story of Justice and Redemption",
                                    "3": "4.58"
                                },
                                {
                                    "0": "3165162",
                                    "1": "Rick Riordan",
                                    "2": "Percy Jackson and the Olympians (Percy Jackson and the Olympians, #1-3)",
                                    "3": "4.58"
                                },
                                {
                                    "0": "4634266",
                                    "1": "Masashi Kishimoto",
                                    "2": "NARUTO -ナルト- 巻ノ四十三",
                                    "3": "4.57"
                                },
                                {
                                    "0": "8718952",
                                    "1": "Richelle Mead",
                                    "2": "Vampire Academy Box Set (Vampire Academy, #1-4)",
                                    "3": "4.57"
                                },
                                {
                                    "0": "17131869",
                                    "1": "Brian K. Vaughan, Fiona Staples",
                                    "2": "Saga, Vol. 2 (Saga, #2)",
                                    "3": "4.57"
                                },
                                {
                                    "0": "6485421",
                                    "1": "Cassandra Clare",
                                    "2": "The Mortal Instruments Boxed Set: City of Bones; City of Ashes; City of Glass (The Mortal Instruments, #1-3)",
                                    "3": "4.57"
                                },
                                {
                                    "0": "1215032",
                                    "1": "Patrick Rothfuss",
                                    "2": "The Wise Man's Fear (The Kingkiller Chronicle, #2)",
                                    "3": "4.57"
                                },
                                {
                                    "0": "545425",
                                    "1": "Safiy al-Rahman al-Mubarakfuri",
                                    "2": "الرحيق المختوم",
                                    "3": "4.57"
                                },
                                {
                                    "0": "6443349",
                                    "1": "Rick Riordan, Tk",
                                    "2": "Percy Jackson and the Olympians Boxed Set (Percy Jackson and the Olympians, #1-5)",
                                    "3": "4.57"
                                },
                                {
                                    "0": "17333174",
                                    "1": "Ilona Andrews",
                                    "2": "Magic Binds (Kate Daniels, #9)",
                                    "3": "4.57"
                                },
                                {
                                    "0": "29236299",
                                    "1": "Amie Kaufman, Jay Kristoff, Marie Lu",
                                    "2": "Gemina (The Illuminae Files, #2)",
                                    "3": "4.56"
                                },
                                {
                                    "0": "1317181",
                                    "1": "J.K. Rowling",
                                    "2": "Harry Potter and the Order of the Phoenix (Harry Potter, #5, Part 1)",
                                    "3": "4.56"
                                },
                                {
                                    "0": "15743078",
                                    "1": "Veronica Roth",
                                    "2": "The Divergent Series 2-Book Collection (Divergent, #1-2)",
                                    "3": "4.56"
                                },
                                {
                                    "0": "147915",
                                    "1": "George R.R. Martin",
                                    "2": "A Storm of Swords: Blood and Gold (A Song of Ice and Fire, #3: Part 2 of 2)",
                                    "3": "4.56"
                                },
                                {
                                    "0": "19358975",
                                    "1": "Brian K. Vaughan, Fiona Staples",
                                    "2": "Saga, Vol. 3 (Saga, #3)",
                                    "3": "4.56"
                                },
                                {
                                    "0": "10785687",
                                    "1": "Bob McCabe",
                                    "2": "Harry Potter Page to Screen: The Complete Filmmaking Journey",
                                    "3": "4.56"
                                },
                                {
                                    "0": "17880714",
                                    "1": "K. Bromberg",
                                    "2": "Crashed (Driven, #3)",
                                    "3": "4.56"
                                },
                                {
                                    "0": "8346300",
                                    "1": "Andrew Williamson, Andrew Williamson",
                                    "2": "Harry Potter: A Pop-Up Book: Based on the Film Phenomenon",
                                    "3": "4.55"
                                },
                                {
                                    "0": "25105",
                                    "1": "Neil Gaiman, Jill Thompson, Vince Locke, Peter Straub",
                                    "2": "Brief Lives (The Sandman #7)",
                                    "3": "4.55"
                                },
                                {
                                    "0": "6604209",
                                    "1": "Brandon Sanderson",
                                    "2": "Mistborn Trilogy Boxed Set (Mistborn, #1-3)",
                                    "3": "4.55"
                                },
                                {
                                    "0": "19486421",
                                    "1": "Jim Butcher",
                                    "2": "Skin Game (The Dresden Files, #15)",
                                    "3": "4.55"
                                },
                                {
                                    "0": "186074",
                                    "1": "Patrick Rothfuss",
                                    "2": "The Name of the Wind (The Kingkiller Chronicle, #1)",
                                    "3": "4.55"
                                },
                                {
                                    "0": "14905",
                                    "1": "Jane Austen",
                                    "2": "The Complete Novels",
                                    "3": "4.55"
                                },
                                {
                                    "0": "13184992",
                                    "1": "Kristen Ashley",
                                    "2": "Rock Chick Regret (Rock Chick, #7)",
                                    "3": "4.55"
                                },
                                {
                                    "0": "71823",
                                    "1": "Stephen King",
                                    "2": "The Green Mile, Part 6: Coffey on the Mile",
                                    "3": "4.55"
                                },
                                {
                                    "0": "8163161",
                                    "1": "Bisco Hatori",
                                    "2": "Ouran High School Host Club, Vol. 15 (Ouran High School Host Club, #15)",
                                    "3": "4.54"
                                },
                                {
                                    "0": "20706320",
                                    "1": "Chris Colfer, Brandon Dorman",
                                    "2": "A Grimm Warning (The Land of Stories, #3)",
                                    "3": "4.54"
                                },
                                {
                                    "0": "23766634",
                                    "1": "Sarah J. Maas",
                                    "2": "A Court of Wings and Ruin (A Court of Thorns and Roses, #3)",
                                    "3": "4.54"
                                },
                                {
                                    "0": "89959",
                                    "1": "Founding Fathers",
                                    "2": "The Constitution of the United States of America",
                                    "3": "4.54"
                                },
                                {
                                    "0": "62291",
                                    "1": "George R.R. Martin",
                                    "2": "A Storm of Swords (A Song of Ice and Fire, #3)",
                                    "3": "4.54"
                                },
                                {
                                    "0": "21853621",
                                    "1": "Kristin Hannah",
                                    "2": "The Nightingale",
                                    "3": "4.54"
                                },
                                {
                                    "0": "1",
                                    "1": "J.K. Rowling, Mary GrandPré",
                                    "2": "Harry Potter and the Half-Blood Prince (Harry Potter, #6)",
                                    "3": "4.54"
                                },
                                {
                                    "0": "12127810",
                                    "1": "Rick Riordan",
                                    "2": "The House of Hades (The Heroes of Olympus, #4)",
                                    "3": "4.54"
                                },
                                {
                                    "0": "381421",
                                    "1": "Sarah  Young",
                                    "2": "Jesus Calling: Enjoying Peace in His Presence",
                                    "3": "4.54"
                                },
                                {
                                    "0": "6585201",
                                    "1": "Jim Butcher",
                                    "2": "Changes (The Dresden Files, #12)",
                                    "3": "4.54"
                                },
                                {
                                    "0": "25101",
                                    "1": "Neil Gaiman, Matt Wagner, George Pratt, Dick Giordano, Kelley Jones, P. Craig Russell, Mike Dringenberg, Malcolm Jones III, Todd Klein, Harlan Ellison",
                                    "2": "Season of Mists (The Sandman #4)",
                                    "3": "4.54"
                                },
                                {
                                    "0": "36",
                                    "1": "Chris   Smith, Christopher Lee, Richard Taylor",
                                    "2": "The Lord of the Rings: Weapons and Warfare",
                                    "3": "4.53"
                                },
                                {
                                    "0": "5061675",
                                    "1": "George R.R. Martin",
                                    "2": "A Game of Thrones / A Clash of Kings (A Song of Ice and Fire, #1-2)",
                                    "3": "4.53"
                                },
                                {
                                    "0": "25104",
                                    "1": "Neil Gaiman, Michael Zulli, Jon J. Muth, Charles Vess, Mikal Gilmore",
                                    "2": "The Wake (The Sandman #10)",
                                    "3": "4.53"
                                },
                                {
                                    "0": "15195",
                                    "1": "Art Spiegelman",
                                    "2": "The Complete Maus (Maus, #1-2)",
                                    "3": "4.53"
                                },
                                {
                                    "0": "20613470",
                                    "1": "Sarah J. Maas",
                                    "2": "Heir of Fire (Throne of Glass, #3)",
                                    "3": "4.53"
                                },
                                {
                                    "0": "6",
                                    "1": "J.K. Rowling, Mary GrandPré",
                                    "2": "Harry Potter and the Goblet of Fire (Harry Potter, #4)",
                                    "3": "4.53"
                                },
                                {
                                    "0": "5",
                                    "1": "J.K. Rowling, Mary GrandPré, Rufus Beck",
                                    "2": "Harry Potter and the Prisoner of Azkaban (Harry Potter, #3)",
                                    "3": "4.53"
                                },
                                {
                                    "0": "23157777",
                                    "1": "Robin Hobb",
                                    "2": "Fool's Quest  (The Fitz and The Fool, #2)",
                                    "3": "4.53"
                                },
                                {
                                    "0": "7352220",
                                    "1": "Yana Toboso",
                                    "2": "Black Butler, Vol. 3 (Black Butler, #3)",
                                    "3": "4.53"
                                },
                                {
                                    "0": "14744381",
                                    "1": "Robert Kirkman, Charlie Adlard",
                                    "2": "The Walking Dead, Compendium 2",
                                    "3": "4.53"
                                },
                                {
                                    "0": "5986375",
                                    "1": "David Foster Wallace",
                                    "2": "This Is Water: Some Thoughts, Delivered on a Significant Occasion, about Living a Compassionate Life",
                                    "3": "4.53"
                                },
                                {
                                    "0": "12878300",
                                    "1": "Eric Blehm",
                                    "2": "Fearless: The Heroic Story of One Navy SEAL's Sacrifice in the Hunt for Osama Bin Laden and the Unwavering Devotion of the Woman Who Loved Him",
                                    "3": "4.53"
                                },
                                {
                                    "0": "10790276",
                                    "1": "Randy Alcorn, Alex Kendrick, Stephen Kendrick",
                                    "2": "Courageous",
                                    "3": "4.53"
                                },
                                {
                                    "0": "6081686",
                                    "1": "Hiro Fujiwara",
                                    "2": "Maid-sama! Vol. 02 (Maid-sama! #2)",
                                    "3": "4.53"
                                },
                                {
                                    "0": "5417",
                                    "1": "Stephen King",
                                    "2": "Carrie / 'Salem's Lot / The Shining",
                                    "3": "4.52"
                                },
                                {
                                    "0": "1070527",
                                    "1": "Michael Dante DiMartino, Bryan Konietzko",
                                    "2": "Avatar Volume 1: The Last Airbender (Avatar #1)",
                                    "3": "4.52"
                                },
                                {
                                    "0": "19138879",
                                    "1": "Hajime Isayama, Hikaru Suruga, Gan Sunaaku",
                                    "2": "Attack on Titan: No Regrets, Volume 01",
                                    "3": "4.52"
                                },
                                {
                                    "0": "228199",
                                    "1": "Stephen King",
                                    "2": "The Green Mile, Part 4: The Bad Death of Eduard Delacroix",
                                    "3": "4.52"
                                },
                                {
                                    "0": "181400",
                                    "1": "Angela Elwell Hunt, Tim Jonke",
                                    "2": "The Tale of Three Trees",
                                    "3": "4.52"
                                },
                                {
                                    "0": "39664",
                                    "1": "Stephen King",
                                    "2": "Rita Hayworth and Shawshank Redemption: A Story from Different Seasons",
                                    "3": "4.52"
                                },
                                {
                                    "0": "216048",
                                    "1": "Patricia Polacco",
                                    "2": "Thank You, Mr. Falker",
                                    "3": "4.52"
                                },
                                {
                                    "0": "12119529",
                                    "1": "Ilona Andrews",
                                    "2": "Magic Breaks (Kate Daniels, #7)",
                                    "3": "4.52"
                                },
                                {
                                    "0": "7746259",
                                    "1": "Roberto Aguirre-Sacasa, Mike Perkins, Laura       Martin, Stephen King",
                                    "2": "The Stand: Soul Survivors",
                                    "3": "4.52"
                                },
                                {
                                    "0": "49006",
                                    "1": "Erin Hunter",
                                    "2": "The Darkest Hour (Warriors, #6)",
                                    "3": "4.52"
                                },
                                {
                                    "0": "17880708",
                                    "1": "K. Bromberg",
                                    "2": "Fueled (Driven, #2)",
                                    "3": "4.51"
                                },
                                {
                                    "0": "841628",
                                    "1": "Douglas Adams",
                                    "2": "The Hitchhiker's Guide to the Galaxy: A Trilogy in Four Parts",
                                    "3": "4.51"
                                },
                                {
                                    "0": "12216302",
                                    "1": "Jim Butcher",
                                    "2": "Cold Days (The Dresden Files, #14)",
                                    "3": "4.51"
                                },
                                {
                                    "0": "18512",
                                    "1": "J.R.R. Tolkien",
                                    "2": "The Return of the King (The Lord of the Rings, #3)",
                                    "3": "4.51"
                                },
                                {
                                    "0": "11742691",
                                    "1": "Kate Egan",
                                    "2": "The Hunger Games: Official Illustrated Movie Companion",
                                    "3": "4.51"
                                },
                                {
                                    "0": "20829994",
                                    "1": "Rick Riordan, John Rocco",
                                    "2": "Percy Jackson's Greek Gods (A Percy Jackson and the Olympians Guide)",
                                    "3": "4.51"
                                },
                                {
                                    "0": "5153799",
                                    "1": "J.R. Ward",
                                    "2": "Father Mine (Black Dagger Brotherhood, #6.5)",
                                    "3": "4.51"
                                },
                                {
                                    "0": "17158513",
                                    "1": "C.S. Pacat",
                                    "2": "Captive Prince: Volume Two (Captive Prince, #2)",
                                    "3": "4.51"
                                },
                                {
                                    "0": "434764",
                                    "1": "Stephen E. Robinson",
                                    "2": "Believing Christ: The Parable of the Bicycle and Other Good News",
                                    "3": "4.51"
                                },
                                {
                                    "0": "228200",
                                    "1": "Stephen King",
                                    "2": "The Green Mile, Part 5: Night Journey",
                                    "3": "4.51"
                                },
                                {
                                    "0": "24019187",
                                    "1": "Brandon Stanton",
                                    "2": "Humans of New York: Stories",
                                    "3": "4.5"
                                },
                                {
                                    "0": "13489518",
                                    "1": "Quinn Loftis",
                                    "2": "Out of the Dark (The Grey Wolves, #4)",
                                    "3": "4.5"
                                },
                                {
                                    "0": "228198",
                                    "1": "Stephen King",
                                    "2": "The Green Mile, Part 3: Coffey's Hands",
                                    "3": "4.5"
                                },
                                {
                                    "0": "11227043",
                                    "1": "Kristen Ashley",
                                    "2": "Rock Chick Revenge (Rock Chick, #5)",
                                    "3": "4.5"
                                },
                                {
                                    "0": "17287009",
                                    "1": "Brandon Stanton",
                                    "2": "Humans of New York",
                                    "3": "4.5"
                                },
                                {
                                    "0": "17158532",
                                    "1": "C.S. Pacat",
                                    "2": "Kings Rising (Captive Prince, #3)",
                                    "3": "4.5"
                                },
                                {
                                    "0": "16164271",
                                    "1": "Joe Hill, Gabriel Rodríguez",
                                    "2": "Locke & Key, Vol. 6: Alpha & Omega",
                                    "3": "4.5"
                                },
                                {
                                    "0": "45974",
                                    "1": "Fernando Pessoa, Richard Zenith",
                                    "2": "The Book of Disquiet",
                                    "3": "4.5"
                                },
                                {
                                    "0": "204041",
                                    "1": "Masashi Kishimoto, Frances Wall",
                                    "2": "Naruto, Vol. 11: Impassioned Efforts (Naruto, #11)",
                                    "3": "4.5"
                                },
                                {
                                    "0": "13490570",
                                    "1": "Joe Hill, Gabriel Rodríguez",
                                    "2": "Locke & Key, Vol. 5: Clockworks",
                                    "3": "4.5"
                                },
                                {
                                    "0": "188572",
                                    "1": "Arthur Conan Doyle",
                                    "2": "The Complete Sherlock Holmes",
                                    "3": "4.5"
                                },
                                {
                                    "0": "4502507",
                                    "1": "Rick Riordan",
                                    "2": "The Last Olympian (Percy Jackson and the Olympians, #5)",
                                    "3": "4.5"
                                },
                                {
                                    "0": "7743175",
                                    "1": "Robert Jordan, Brandon Sanderson",
                                    "2": "A Memory of Light (Wheel of Time, #14)",
                                    "3": "4.5"
                                },
                                {
                                    "0": "11710373",
                                    "1": "Diana Gabaldon",
                                    "2": "Written in My Own Heart's Blood (Outlander, #8)",
                                    "3": "4.5"
                                },
                                {
                                    "0": "18966806",
                                    "1": "Pierce Brown",
                                    "2": "Morning Star (Red Rising, #3)",
                                    "3": "4.5"
                                },
                                {
                                    "0": "768889",
                                    "1": "George R.R. Martin",
                                    "2": "A Storm of Swords: Steel and Snow (A Song of Ice and Fire, #3: Part 1 of 2)",
                                    "3": "4.49"
                                },
                                {
                                    "0": "569564",
                                    "1": "William Shakespeare",
                                    "2": "The Complete Works",
                                    "3": "4.49"
                                },
                                {
                                    "0": "13206900",
                                    "1": "Marissa Meyer",
                                    "2": "Winter (The Lunar Chronicles, #4)",
                                    "3": "4.49"
                                },
                                {
                                    "0": "7938275",
                                    "1": "Suzanne Collins",
                                    "2": "The Hunger Games Trilogy Boxset (The Hunger Games, #1-3)",
                                    "3": "4.49"
                                },
                                {
                                    "0": "17167166",
                                    "1": "Sarah J. Maas",
                                    "2": "Crown of Midnight (Throne of Glass, #2)",
                                    "3": "4.49"
                                },
                                {
                                    "0": "870",
                                    "1": "Hiromu Arakawa, Akira Watanabe",
                                    "2": "Fullmetal Alchemist, Vol. 1 (Fullmetal Alchemist, #1)",
                                    "3": "4.49"
                                },
                                {
                                    "0": "99110",
                                    "1": "A.A. Milne, Ernest H. Shepard",
                                    "2": "The Complete Tales and Poems of Winnie-the-Pooh (Winnie-the-Pooh, #1-4)",
                                    "3": "4.49"
                                },
                                {
                                    "0": "29780253",
                                    "1": "Trevor Noah",
                                    "2": "Born a Crime: Stories From a South African Childhood",
                                    "3": "4.49"
                                },
                                {
                                    "0": "6792458",
                                    "1": "Michelle Alexander",
                                    "2": "The New Jim Crow: Mass Incarceration in the Age of Colorblindness",
                                    "3": "4.49"
                                },
                                {
                                    "0": "13605723",
                                    "1": "Jennifer L. Armentrout",
                                    "2": "Sentinel (Covenant, #5)",
                                    "3": "4.49"
                                },
                                {
                                    "0": "28862528",
                                    "1": "Brian K. Vaughan, Fiona Staples",
                                    "2": "Saga, Vol. 6 (Saga, #6)",
                                    "3": "4.49"
                                },
                                {
                                    "0": "17722973",
                                    "1": "Chris Colfer, Brandon Dorman",
                                    "2": "The Enchantress Returns (The Land of Stories, #2)",
                                    "3": "4.49"
                                },
                                {
                                    "0": "92227",
                                    "1": "Stephen King",
                                    "2": "The Green Mile, Part 1: The Two Dead Girls",
                                    "3": "4.49"
                                },
                                {
                                    "0": "1693617",
                                    "1": "Don Ferguson",
                                    "2": "Disney's the Lion King",
                                    "3": "4.49"
                                },
                                {
                                    "0": "11544421",
                                    "1": "Ilona Andrews",
                                    "2": "Magic Rises (Kate Daniels, #6)",
                                    "3": "4.49"
                                },
                                {
                                    "0": "220826",
                                    "1": "Sabahattin Ali",
                                    "2": "Kürk Mantolu Madonna",
                                    "3": "4.49"
                                },
                                {
                                    "0": "11665750",
                                    "1": "Kristen Ashley",
                                    "2": "At Peace (The 'Burg, #2)",
                                    "3": "4.49"
                                },
                                {
                                    "0": "11432",
                                    "1": "Karen Kingsbury, Gary Smalley",
                                    "2": "Reunion (Redemption, #5)",
                                    "3": "4.49"
                                },
                                {
                                    "0": "15813668",
                                    "1": "Darynda Jones",
                                    "2": "Fifth Grave Past the Light (Charley Davidson, #5)",
                                    "3": "4.49"
                                },
                                {
                                    "0": "653559",
                                    "1": "Malvina G. Vogel, Arthur Conan Doyle",
                                    "2": "Sherlock Holmes and the Case of the Hound of the Baskervilles (Illustrated Classic Editions)",
                                    "3": "4.49"
                                },
                                {
                                    "0": "65633",
                                    "1": "Perry Moore, Andrew Adamson, C.S. Lewis",
                                    "2": "The Chronicles of Narnia - The Lion, the Witch, and the Wardrobe Official Illustrated Movie Companion",
                                    "3": "4.48"
                                },
                                {
                                    "0": "1350249",
                                    "1": "Justine Korman Fontes",
                                    "2": "The Lion King (Disney's Wonderful World of Reading)",
                                    "3": "4.48"
                                },
                                {
                                    "0": "8113344",
                                    "1": "Derek Landy",
                                    "2": "Mortal Coil (Skulduggery Pleasant, #5)",
                                    "3": "4.48"
                                },
                                {
                                    "0": "17950614",
                                    "1": "Neal Shusterman",
                                    "2": "UnDivided (Unwind, #4)",
                                    "3": "4.48"
                                },
                                {
                                    "0": "8539798",
                                    "1": "Kazue Kato",
                                    "2": "Blue exorcist, Tome 2",
                                    "3": "4.48"
                                },
                                {
                                    "0": "132314",
                                    "1": "Edgar Allan Poe",
                                    "2": "The Complete Tales and Poems",
                                    "3": "4.48"
                                },
                                {
                                    "0": "6867952",
                                    "1": "Yana Toboso, Tomo Kimura",
                                    "2": "Black Butler, Vol. 2 (Black Butler, #2)",
                                    "3": "4.48"
                                },
                                {
                                    "0": "13363270",
                                    "1": "Quinn Loftis",
                                    "2": "Just One Drop (The Grey Wolves, #3)",
                                    "3": "4.48"
                                },
                                {
                                    "0": "100322",
                                    "1": "Assata Shakur, Angela Y. Davis, Lennox S. Hinds",
                                    "2": "Assata: An Autobiography",
                                    "3": "4.48"
                                },
                                {
                                    "0": "1275105",
                                    "1": "Charles M. Schulz",
                                    "2": "A Charlie Brown Christmas",
                                    "3": "4.48"
                                },
                                {
                                    "0": "25852784",
                                    "1": "Matthew Desmond",
                                    "2": "Evicted: Poverty and Profit in the American City",
                                    "3": "4.48"
                                },
                                {
                                    "0": "101255",
                                    "1": "Harold McGee",
                                    "2": "On Food and Cooking: The Science and Lore of the Kitchen",
                                    "3": "4.48"
                                },
                                {
                                    "0": "8069828",
                                    "1": "Cinda Williams Chima",
                                    "2": "The Crimson Crown (Seven Realms, #4)",
                                    "3": "4.48"
                                },
                                {
                                    "0": "91203",
                                    "1": "Erich Maria Remarque",
                                    "2": "Three Comrades",
                                    "3": "4.48"
                                },
                                {
                                    "0": "11873368",
                                    "1": "Kate Egan",
                                    "2": "The World of the Hunger Games (Hunger Games Trilogy)",
                                    "3": "4.48"
                                },
                                {
                                    "0": "25103",
                                    "1": "Neil Gaiman, Mike Allred, Gary Amaro, Mark Buckingham, David Giordano, Tony Harris, Steve Leialoha, Vince Locke, Shea Anton Pensa, Alec Stevens, Bryan Talbot, John Watkiss, Todd Klein, Michael Zulli, Stephen King",
                                    "2": "Worlds' End (The Sandman #8)",
                                    "3": "4.48"
                                },
                                {
                                    "0": "12962439",
                                    "1": "Daniel Abraham, George R.R. Martin, Tommy Patterson",
                                    "2": "A Game of Thrones: The Graphic Novel, Vol. 1",
                                    "3": "4.48"
                                },
                                {
                                    "0": "18243700",
                                    "1": "Sarah J. Maas",
                                    "2": "The Assassin's Blade (Throne of Glass, #0.1-0.5)",
                                    "3": "4.48"
                                },
                                {
                                    "0": "8755785",
                                    "1": "Cassandra Clare",
                                    "2": "City of Heavenly Fire (The Mortal Instruments, #6)",
                                    "3": "4.48"
                                },
                                {
                                    "0": "11422",
                                    "1": "Francine Rivers",
                                    "2": "Redeeming Love",
                                    "3": "4.48"
                                },
                                {
                                    "0": "659469",
                                    "1": "Chuck Dixon, J.R.R. Tolkien, David Wenzel, Sean Deming",
                                    "2": "The Hobbit: Graphic Novel",
                                    "3": "4.48"
                                },
                                {
                                    "0": "7952502",
                                    "1": "Brian Sibley",
                                    "2": "Harry Potter: Film Wizardry",
                                    "3": "4.48"
                                },
                                {
                                    "0": "3412815",
                                    "1": "Eric Wilson",
                                    "2": "Fireproof",
                                    "3": "4.47"
                                },
                                {
                                    "0": "25494343",
                                    "1": "Cassandra Clare",
                                    "2": "Lady Midnight (The Dark Artifices, #1)",
                                    "3": "4.47"
                                },
                                {
                                    "0": "13569581",
                                    "1": "Anthony  Ryan",
                                    "2": "Blood Song (Raven's Shadow, #1)",
                                    "3": "4.47"
                                },
                                {
                                    "0": "47989",
                                    "1": "Terry Pratchett",
                                    "2": "Night Watch (Discworld, #29; City Watch, #6)",
                                    "3": "4.47"
                                },
                                {
                                    "0": "12127750",
                                    "1": "Rick Riordan",
                                    "2": "The Mark of Athena (The Heroes of Olympus, #3)",
                                    "3": "4.47"
                                },
                                {
                                    "0": "33",
                                    "1": "J.R.R. Tolkien",
                                    "2": "The Lord of the Rings (The Lord of the Rings, #1-3)",
                                    "3": "4.47"
                                },
                                {
                                    "0": "256008",
                                    "1": "Larry McMurtry",
                                    "2": "Lonesome Dove",
                                    "3": "4.47"
                                },
                                {
                                    "0": "22738563",
                                    "1": "Chimamanda Ngozi Adichie",
                                    "2": "We Should All Be Feminists",
                                    "3": "4.47"
                                },
                                {
                                    "0": "23093367",
                                    "1": "Brian K. Vaughan, Fiona Staples",
                                    "2": "Saga, Vol. 4 (Saga, #4)",
                                    "3": "4.47"
                                },
                                {
                                    "0": "426504",
                                    "1": "Jorge Luis Borges, Anthony Kerrigan, Anthony Bonner",
                                    "2": "Ficciones",
                                    "3": "4.47"
                                },
                                {
                                    "0": "7098304",
                                    "1": "Kresley Cole",
                                    "2": "Demon from the Dark (Immortals After Dark #10)",
                                    "3": "4.47"
                                },
                                {
                                    "0": "106393",
                                    "1": "Sister Souljah",
                                    "2": "The Coldest Winter Ever",
                                    "3": "4.47"
                                },
                                {
                                    "0": "1894269",
                                    "1": "Robert Kirkman",
                                    "2": "The Walking Dead, Vol. 08: Made to Suffer",
                                    "3": "4.47"
                                },
                                {
                                    "0": "26200563",
                                    "1": "Lin-Manuel Miranda, Jeremy McCarter",
                                    "2": "Hamilton: The Revolution",
                                    "3": "4.47"
                                },
                                {
                                    "0": "1013383",
                                    "1": "Julia Donaldson, Axel Scheffler",
                                    "2": "The Gruffalo",
                                    "3": "4.47"
                                },
                                {
                                    "0": "906560",
                                    "1": "Corrie ten Boom",
                                    "2": "Tramp for the Lord",
                                    "3": "4.47"
                                },
                                {
                                    "0": "8712343",
                                    "1": "Nalini Singh",
                                    "2": "Kiss of Snow (Psy-Changeling #10)",
                                    "3": "4.47"
                                },
                                {
                                    "0": "228194",
                                    "1": "Stephen King",
                                    "2": "The Green Mile, Part 2: The Mouse on the Mile",
                                    "3": "4.47"
                                },
                                {
                                    "0": "18110808",
                                    "1": "Tijan",
                                    "2": "Fallen Crest Public (Fallen Crest High, #3)",
                                    "3": "4.47"
                                },
                                {
                                    "0": "1298171",
                                    "1": "Andrew Stanton, Walt Disney Company",
                                    "2": "Finding Nemo",
                                    "3": "4.47"
                                },
                                {
                                    "0": "8269450",
                                    "1": "Kelley Armstrong",
                                    "2": "Darkest Powers Trilogy (Darkest Powers, #1-3)",
                                    "3": "4.47"
                                },
                                {
                                    "0": "17333171",
                                    "1": "Ilona Andrews",
                                    "2": "Magic Shifts (Kate Daniels, #8)",
                                    "3": "4.47"
                                },
                                {
                                    "0": "5697",
                                    "1": "Anton Chekhov, Richard Pevear, Larissa Volokhonsky",
                                    "2": "The Complete Short Novels",
                                    "3": "4.47"
                                },
                                {
                                    "0": "6448482",
                                    "1": "Atsushi Ohkubo",
                                    "2": "Soul Eater, Vol. 02 (Soul Eater, #2)",
                                    "3": "4.47"
                                },
                                {
                                    "0": "46908",
                                    "1": "Natsuki Takaya, Alethea Nibley, Athena Nibley",
                                    "2": "Fruits Basket, Vol. 14",
                                    "3": "4.46"
                                },
                                {
                                    "0": "11410104",
                                    "1": "Jenny Han",
                                    "2": "The Summer I Turned Pretty Trilogy: The Summer I Turned Pretty; It's Not Summer Without You; We'll Always Have Summer",
                                    "3": "4.46"
                                },
                                {
                                    "0": "18943009",
                                    "1": "R.K. Lilley",
                                    "2": "Rock Bottom (Tristan & Danika, #2)",
                                    "3": "4.46"
                                },
                                {
                                    "0": "315882",
                                    "1": "Ellen Levine, Kadir Nelson",
                                    "2": "Henry's Freedom Box: A True Story from the Underground Railroad",
                                    "3": "4.46"
                                },
                                {
                                    "0": "10813469",
                                    "1": "Kristen Ashley",
                                    "2": "Rock Chick Renegade (Rock Chick, #4)",
                                    "3": "4.46"
                                },
                                {
                                    "0": "9528186",
                                    "1": "Lambert M. Surhone",
                                    "2": "Pretty Little Liars (TV Series)",
                                    "3": "4.46"
                                },
                                {
                                    "0": "12458287",
                                    "1": "Kristen Ashley",
                                    "2": "The Golden Dynasty (Fantasyland, #2)",
                                    "3": "4.46"
                                },
                                {
                                    "0": "15752757",
                                    "1": "Kristen Ashley",
                                    "2": "Rock Chick Revolution (Rock Chick, #8)",
                                    "3": "4.46"
                                },
                                {
                                    "0": "194870",
                                    "1": "Beatrix Potter",
                                    "2": "The Complete Adventures of Peter Rabbit",
                                    "3": "4.46"
                                },
                                {
                                    "0": "1011359",
                                    "1": "Bisco Hatori",
                                    "2": "Ouran High School Host Club, Vol. 2 (Ouran High School Host Club, #2)",
                                    "3": "4.46"
                                },
                                {
                                    "0": "28220985",
                                    "1": "Louise Penny",
                                    "2": "A Great Reckoning (Chief Inspector Armand Gamache, #12)",
                                    "3": "4.46"
                                },
                                {
                                    "0": "27220736",
                                    "1": "Phil Knight",
                                    "2": "Shoe Dog: A Memoir by the Creator of NIKE",
                                    "3": "4.46"
                                },
                                {
                                    "0": "17717",
                                    "1": "Jorge Luis Borges, Donald A. Yates, James E. Irby, André Maurois",
                                    "2": "Labyrinths:  Selected Stories and Other Writings",
                                    "3": "4.46"
                                },
                                {
                                    "0": "594361",
                                    "1": "Justine Korman Fontes, Don Williams, Walt Disney Company",
                                    "2": "The Lion King: A little Golden Book",
                                    "3": "4.46"
                                },
                                {
                                    "0": "12652457",
                                    "1": "Brent Weeks",
                                    "2": "The Broken Eye (Lightbringer, #3)",
                                    "3": "4.46"
                                },
                                {
                                    "0": "11100431",
                                    "1": "Michael J. Sullivan",
                                    "2": "Heir of Novron (The Riyria Revelations, #5-6)",
                                    "3": "4.46"
                                },
                                {
                                    "0": "6479550",
                                    "1": "Ilona Andrews",
                                    "2": "Magic Bleeds (Kate Daniels, #4)",
                                    "3": "4.46"
                                },
                                {
                                    "0": "7822895",
                                    "1": "Stieg Larsson, Reg Keeland",
                                    "2": "The Millennium Trilogy (Millennium Trilogy, #1-3)",
                                    "3": "4.46"
                                },
                                {
                                    "0": "13206828",
                                    "1": "Marissa Meyer",
                                    "2": "Cress (The Lunar Chronicles, #3)",
                                    "3": "4.46"
                                },
                                {
                                    "0": "2767793",
                                    "1": "Brandon Sanderson",
                                    "2": "The Hero of Ages (Mistborn, #3)",
                                    "3": "4.46"
                                },
                                {
                                    "0": "2",
                                    "1": "J.K. Rowling, Mary GrandPré",
                                    "2": "Harry Potter and the Order of the Phoenix (Harry Potter, #5)",
                                    "3": "4.46"
                                },
                                {
                                    "0": "10025305",
                                    "1": "Cassandra Clare",
                                    "2": "Clockwork Prince (The Infernal Devices, #2)",
                                    "3": "4.46"
                                },
                                {
                                    "0": "18966819",
                                    "1": "Pierce Brown",
                                    "2": "Golden Son (Red Rising, #2)",
                                    "3": "4.46"
                                },
                                {
                                    "0": "3586",
                                    "1": "Arthur Conan Doyle, Kyle Freeman",
                                    "2": "The Complete Sherlock Holmes, Vol 2",
                                    "3": "4.46"
                                },
                                {
                                    "0": "23437156",
                                    "1": "Leigh Bardugo",
                                    "2": "Six of Crows (Six of Crows, #1)",
                                    "3": "4.46"
                                },
                                {
                                    "0": "7304203",
                                    "1": "Karen Marie Moning",
                                    "2": "Shadowfever (Fever, #5)",
                                    "3": "4.46"
                                },
                                {
                                    "0": "12499290",
                                    "1": "Brent Weeks",
                                    "2": "The Blinding Knife (Lightbringer, #2)",
                                    "3": "4.45"
                                },
                                {
                                    "0": "3475161",
                                    "1": "Jim Butcher",
                                    "2": "Turn Coat (The Dresden Files, #11)",
                                    "3": "4.45"
                                },
                                {
                                    "0": "4667024",
                                    "1": "Kathryn Stockett",
                                    "2": "The Help",
                                    "3": "4.45"
                                },
                                {
                                    "0": "13496",
                                    "1": "George R.R. Martin",
                                    "2": "A Game of Thrones (A Song of Ice and Fire, #1)",
                                    "3": "4.45"
                                },
                                {
                                    "0": "42900",
                                    "1": "J.R. Ward",
                                    "2": "Lover Awakened (Black Dagger Brotherhood, #3)",
                                    "3": "4.45"
                                },
                                {
                                    "0": "44186",
                                    "1": "Jon Stone, Michael J. Smollin",
                                    "2": "The Monster at the End of this Book",
                                    "3": "4.45"
                                },
                                {
                                    "0": "56728",
                                    "1": "Max Lucado",
                                    "2": "You Are Special (Wemmicksville, #1)",
                                    "3": "4.45"
                                },
                                {
                                    "0": "20639274",
                                    "1": "Mia Sheridan",
                                    "2": "Archer's Voice",
                                    "3": "4.45"
                                },
                                {
                                    "0": "25106",
                                    "1": "Neil Gaiman, Bryan Talbot, Stan Woch, P. Craig Russell, Shawn McManus, John Watkiss, Jill Thompson, Duncan Eagleson, Kent Williams, Todd Klein",
                                    "2": "Fables and Reflections (The Sandman #6)",
                                    "3": "4.45"
                                },
                                {
                                    "0": "10661081",
                                    "1": "Michelle Rowen, Richelle Mead",
                                    "2": "Vampire Academy: The Ultimate Guide (Vampire Academy)",
                                    "3": "4.45"
                                },
                                {
                                    "0": "18739426",
                                    "1": "Brandon Sanderson",
                                    "2": "The Bands of Mourning (Mistborn, #6)",
                                    "3": "4.45"
                                },
                                {
                                    "0": "8138071",
                                    "1": "Kim Harrison",
                                    "2": "Pale Demon (The Hollows, #9)",
                                    "3": "4.45"
                                },
                                {
                                    "0": "233691",
                                    "1": "Gary Larson",
                                    "2": "The Far Side Gallery 3",
                                    "3": "4.45"
                                },
                                {
                                    "0": "334818",
                                    "1": "Barbara Cooney",
                                    "2": "Miss Rumphius",
                                    "3": "4.45"
                                },
                                {
                                    "0": "5289",
                                    "1": "Oscar Wilde, Merlin Holland",
                                    "2": "Complete Works of Oscar Wilde",
                                    "3": "4.45"
                                },
                                {
                                    "0": "3581",
                                    "1": "Arthur Conan Doyle",
                                    "2": "Sherlock Holmes: The Complete Novels and Stories, Volume I",
                                    "3": "4.45"
                                },
                                {
                                    "0": "13241659",
                                    "1": "Kim Harrison",
                                    "2": "Ever After (The Hollows, #11)",
                                    "3": "4.45"
                                },
                                {
                                    "0": "464260",
                                    "1": "James     Baldwin, Kıvanç Güney",
                                    "2": "The Fire Next Time",
                                    "3": "4.45"
                                },
                                {
                                    "0": "26661",
                                    "1": "Beth Moore",
                                    "2": "Praying God's Word: Breaking Free From Spiritual Strongholds",
                                    "3": "4.45"
                                },
                                {
                                    "0": "11436",
                                    "1": "Karen Kingsbury, Gary Smalley",
                                    "2": "Rejoice (Redemption, #4)",
                                    "3": "4.45"
                                },
                                {
                                    "0": "25293695",
                                    "1": "J.R. Ward",
                                    "2": "The Beast (Black Dagger Brotherhood, #14)",
                                    "3": "4.45"
                                },
                                {
                                    "0": "7278837",
                                    "1": "Jeff Kinney",
                                    "2": "Diary of a Wimpy Kid: #1-4",
                                    "3": "4.45"
                                },
                                {
                                    "0": "1087207",
                                    "1": "Bisco Hatori",
                                    "2": "Ouran High School Host Club, Vol. 4 (Ouran High School Host Club, #4)",
                                    "3": "4.45"
                                },
                                {
                                    "0": "23341855",
                                    "1": "Kristen Ashley",
                                    "2": "Ride Steady (Chaos, #3)",
                                    "3": "4.45"
                                },
                                {
                                    "0": "46906",
                                    "1": "Natsuki Takaya, Alethea Nibley, Athena Nibley",
                                    "2": "Fruits Basket, Vol. 15",
                                    "3": "4.45"
                                },
                                {
                                    "0": "7261549",
                                    "1": "Derek Landy",
                                    "2": "Dark Days (Skulduggery Pleasant, #4)",
                                    "3": "4.45"
                                },
                                {
                                    "0": "24938",
                                    "1": "Stephen Schwartz, Gregory Maguire",
                                    "2": "Wicked - Piano/Vocal Arrangement",
                                    "3": "4.45"
                                },
                                {
                                    "0": "31819",
                                    "1": "David Baggett, Shawn E. Klein",
                                    "2": "Harry Potter and Philosophy: If Aristotle Ran Hogwarts",
                                    "3": "4.45"
                                },
                                {
                                    "0": "1087205",
                                    "1": "Bisco Hatori",
                                    "2": "Ouran High School Host Club, Vol. 3 (Ouran High School Host Club, #3)",
                                    "3": "4.44"
                                },
                                {
                                    "0": "11430",
                                    "1": "Karen Kingsbury, Gary Smalley",
                                    "2": "Return (Redemption, #3)",
                                    "3": "4.44"
                                },
                                {
                                    "0": "9677870",
                                    "1": "Hervé Tullet, Christopher Franceschelli",
                                    "2": "Press Here",
                                    "3": "4.44"
                                },
                                {
                                    "0": "204045",
                                    "1": "Masashi Kishimoto",
                                    "2": "Naruto, Vol. 05: Exam Hell (Naruto, #5)",
                                    "3": "4.44"
                                },
                                {
                                    "0": "13065142",
                                    "1": "Kristen Ashley",
                                    "2": "Rock Chick Reckoning (Rock Chick, #6)",
                                    "3": "4.44"
                                },
                                {
                                    "0": "43915",
                                    "1": "Raymond E. Feist, Michael Avon Oeming, Bryan J.L. Glass, Ryan Stegman",
                                    "2": "Magician: Apprentice  (Raymond E. Feist's Magician: Apprentice #1)",
                                    "3": "4.44"
                                },
                                {
                                    "0": "13580951",
                                    "1": "Ally Carter",
                                    "2": "United We Spy (Gallagher Girls, #6)",
                                    "3": "4.44"
                                },
                                {
                                    "0": "12958487",
                                    "1": "Kristen Ashley",
                                    "2": "Lady Luck (Colorado Mountain, #3)",
                                    "3": "4.44"
                                },
                                {
                                    "0": "8447255",
                                    "1": "Steven Erikson",
                                    "2": "The Crippled God (The Malazan Book of the Fallen, #10)",
                                    "3": "4.44"
                                },
                                {
                                    "0": "9674335",
                                    "1": "Joe Hill, Gabriel Rodríguez",
                                    "2": "Locke & Key, Vol. 4: Keys to the Kingdom",
                                    "3": "4.44"
                                },
                                {
                                    "0": "285500",
                                    "1": "Founding Fathers",
                                    "2": "The Declaration of Independence and The Constitution of the United States",
                                    "3": "4.44"
                                },
                                {
                                    "0": "5936",
                                    "1": "Pablo Neruda, Ilan Stavans",
                                    "2": "The Poetry of Pablo Neruda",
                                    "3": "4.44"
                                },
                                {
                                    "0": "25451555",
                                    "1": "Brian K. Vaughan, Fiona Staples",
                                    "2": "Saga, Vol. 5 (Saga, #5)",
                                    "3": "4.44"
                                },
                                {
                                    "0": "673252",
                                    "1": "Brynne Stephens, Lela Dowling, Cynthia Martin, Anne McCaffrey",
                                    "2": "Anne McCaffrey's Dragonflight #1",
                                    "3": "4.44"
                                },
                                {
                                    "0": "284996",
                                    "1": "Flannery O'Connor",
                                    "2": "The Complete Stories",
                                    "3": "4.44"
                                },
                                {
                                    "0": "304079",
                                    "1": "Jalaluddin Rumi, Coleman Barks",
                                    "2": "The Essential Rumi",
                                    "3": "4.44"
                                },
                                {
                                    "0": "4345498",
                                    "1": "Ilona Andrews",
                                    "2": "Magic Strikes (Kate Daniels, #3)",
                                    "3": "4.44"
                                },
                                {
                                    "0": "13644052",
                                    "1": "Jennifer L. Armentrout",
                                    "2": "Origin (Lux, #4)",
                                    "3": "4.44"
                                },
                                {
                                    "0": "90072",
                                    "1": "Robert Kapilow, Dr. Seuss",
                                    "2": "Dr. Seuss's Green Eggs and Ham: For Soprano, Boy Soprano, and Orchestra",
                                    "3": "4.44"
                                },
                                {
                                    "0": "3",
                                    "1": "J.K. Rowling, Mary GrandPré",
                                    "2": "Harry Potter and the Sorcerer's Stone (Harry Potter, #1)",
                                    "3": "4.44"
                                },
                                {
                                    "0": "9520360",
                                    "1": "Rick Riordan",
                                    "2": "The Son of Neptune (The Heroes of Olympus, #2)",
                                    "3": "4.44"
                                },
                                {
                                    "0": "13188676",
                                    "1": "Tahereh Mafi",
                                    "2": "Ignite Me (Shatter Me, #3)",
                                    "3": "4.44"
                                },
                                {
                                    "0": "7351574",
                                    "1": "Mark Cotta Vaz",
                                    "2": "Eclipse: The Complete Illustrated Movie Companion (The Twilight Saga: The Official Illustrated Movie Companion, #3)",
                                    "3": "4.44"
                                },
                                {
                                    "0": "27362503",
                                    "1": "Colleen Hoover",
                                    "2": "It Ends with Us",
                                    "3": "4.44"
                                },
                                {
                                    "0": "25099",
                                    "1": "Neil Gaiman, Steve Parkhouse, Chris Bachalo, Michael Zulli, Mike Dringenberg, Malcolm Jones III, Todd Klein, Clive Barker",
                                    "2": "The Doll's House (The Sandman #2)",
                                    "3": "4.44"
                                },
                                {
                                    "0": "875441",
                                    "1": "Lawrence Hill",
                                    "2": "Someone Knows My Name",
                                    "3": "4.44"
                                },
                                {
                                    "0": "6050298",
                                    "1": "Karen Marie Moning",
                                    "2": "Dreamfever (Fever, #4)",
                                    "3": "4.43"
                                },
                                {
                                    "0": "17255265",
                                    "1": "Jodi Ellen Malpas",
                                    "2": "This Man Confessed (This Man, #3)",
                                    "3": "4.43"
                                },
                                {
                                    "0": "6344097",
                                    "1": "Roberto Aguirre-Sacasa, Stephen King, Mike Perkins, Laura       Martin",
                                    "2": "The Stand: Captain Trips",
                                    "3": "4.43"
                                },
                                {
                                    "0": "927979",
                                    "1": "Jim Butcher",
                                    "2": "Small Favor (The Dresden Files, #10)",
                                    "3": "4.43"
                                },
                                {
                                    "0": "6465707",
                                    "1": "Robert Kirkman",
                                    "2": "The Walking Dead, Compendium 1",
                                    "3": "4.43"
                                },
                                {
                                    "0": "17683",
                                    "1": "Jim Butcher",
                                    "2": "Dead Beat (The Dresden Files, #7)",
                                    "3": "4.43"
                                },
                                {
                                    "0": "68428",
                                    "1": "Brandon Sanderson",
                                    "2": "The Final Empire (Mistborn, #1)",
                                    "3": "4.43"
                                },
                                {
                                    "0": "1923820",
                                    "1": "Anonymous",
                                    "2": "Holy Bible: King James Version",
                                    "3": "4.43"
                                },
                                {
                                    "0": "11387515",
                                    "1": "R.J. Palacio",
                                    "2": "Wonder",
                                    "3": "4.43"
                                },
                                {
                                    "0": "10965",
                                    "1": "Diana Gabaldon",
                                    "2": "A Breath of Snow and Ashes (Outlander, #6)",
                                    "3": "4.43"
                                },
                                {
                                    "0": "408615",
                                    "1": "Immaculée Ilibagiza, Steve Erwin",
                                    "2": "Left to Tell: Discovering God Amidst the Rwandan Holocaust",
                                    "3": "4.43"
                                },
                                {
                                    "0": "99111",
                                    "1": "A.A. Milne, Ernest H. Shepard",
                                    "2": "The World of Winnie-the-Pooh (Winnie-the-Pooh, #1-2)",
                                    "3": "4.43"
                                },
                                {
                                    "0": "25102",
                                    "1": "Neil Gaiman, Shawn McManus, Colleen Doran, Bryan Talbot, George Pratt, Stan Woch, Dick Giordano, Todd Klein",
                                    "2": "A Game of You (The Sandman #5)",
                                    "3": "4.43"
                                },
                                {
                                    "0": "8559047",
                                    "1": "Ilona Andrews",
                                    "2": "Magic Slays (Kate Daniels, #5)",
                                    "3": "4.43"
                                },
                                {
                                    "0": "13644055",
                                    "1": "Jennifer L. Armentrout",
                                    "2": "Opposition (Lux, #5)",
                                    "3": "4.43"
                                },
                                {
                                    "0": "4902793",
                                    "1": "Charlaine Harris",
                                    "2": "Sookie Stackhouse 7-copy Boxed Set (Sookie Stackhouse, #1-7)",
                                    "3": "4.43"
                                },
                                {
                                    "0": "13448656",
                                    "1": "Kristen Ashley",
                                    "2": "Motorcycle Man (Dream Man, #4)",
                                    "3": "4.43"
                                },
                                {
                                    "0": "8724779",
                                    "1": "P.C. Cast, Kristin Cast",
                                    "2": "Marked / Betrayed / Chosen / Untamed / Hunted (House of Night #1-5)",
                                    "3": "4.43"
                                },
                                {
                                    "0": "74169",
                                    "1": "Max Lucado",
                                    "2": "Facing Your Giants: A David and Goliath Story for Everyday People",
                                    "3": "4.43"
                                },
                                {
                                    "0": "17285883",
                                    "1": "Kim Harrison",
                                    "2": "The Undead Pool (The Hollows, #12)",
                                    "3": "4.43"
                                },
                                {
                                    "0": "35233",
                                    "1": "Robert Jordan",
                                    "2": "The Wheel of Time: Boxed Set #1 (Wheel of Time, #1-3)",
                                    "3": "4.43"
                                },
                                {
                                    "0": "1493253",
                                    "1": "Yoshihiro Togashi, 冨樫 義博",
                                    "2": "Hunter x Hunter, Vol. 01 (Hunter x Hunter, #1)",
                                    "3": "4.43"
                                },
                                {
                                    "0": "18667307",
                                    "1": "Sui Ishida, 石田 スイ",
                                    "2": "Tokyo Ghoul, tome 1 (Tokyo Ghoul, #1)",
                                    "3": "4.43"
                                },
                                {
                                    "0": "8320534",
                                    "1": "Bryan J.L. Glass, Tim Seeley, Hugo Petrus, Raymond E. Feist",
                                    "2": "Raymond E. Feist's Magician Master",
                                    "3": "4.43"
                                },
                                {
                                    "0": "10790516",
                                    "1": "Kresley Cole",
                                    "2": "Lothaire (Immortals After Dark #12)",
                                    "3": "4.43"
                                },
                                {
                                    "0": "763429",
                                    "1": "Robert Kirkman, Charlie Adlard, Cliff Rathburn, Rus Wooton",
                                    "2": "The Walking Dead, Book Three (The Walking Dead #25-36)",
                                    "3": "4.43"
                                },
                                {
                                    "0": "13502970",
                                    "1": "Amy A. Bartol",
                                    "2": "Incendiary (The Premonition, #4)",
                                    "3": "4.43"
                                },
                                {
                                    "0": "13096848",
                                    "1": "Gene Luen Yang, Michael Dante DiMartino, Gurihiru, Bryan Konietzko",
                                    "2": "Avatar: The Last Airbender (The Promise, #2)",
                                    "3": "4.43"
                                },
                                {
                                    "0": "441618",
                                    "1": "Beth Moore",
                                    "2": "Breaking Free: Discover the Victory of Total Surrender",
                                    "3": "4.43"
                                },
                                {
                                    "0": "320700",
                                    "1": "Stephen Jones, H.P. Lovecraft, Kim Newman, Brian Mooney, Nicholas Royle, David Langford, Michael Marshall Smith, Brian Lumley, Neil Gaiman, Basil Copper, Jack Yeovil, Guy N. Smith, Adrian Cole, D.F. Lewis, Ramsey Campbell, David Sutton, Peter Tremayne",
                                    "2": "Shadows over Innsmouth",
                                    "3": "4.43"
                                },
                                {
                                    "0": "4488657",
                                    "1": "صلاح جاهين, يحيى حقي",
                                    "2": "رباعيات صلاح جاهين",
                                    "3": "4.43"
                                },
                                {
                                    "0": "20426917",
                                    "1": "Kim Harrison",
                                    "2": "The Witch With No Name (The Hollows, #13)",
                                    "3": "4.43"
                                },
                                {
                                    "0": "9799572",
                                    "1": "Kristen Ashley",
                                    "2": "Rock Chick Redemption (Rock Chick, #3)",
                                    "3": "4.43"
                                },
                                {
                                    "0": "20912424",
                                    "1": "Kimberly Brubaker Bradley, مرضیه ورشوساز",
                                    "2": "The War that Saved My Life (The War That Saved My Life #1)",
                                    "3": "4.43"
                                },
                                {
                                    "0": "11389341",
                                    "1": "Timothy J. Keller, Kathy  Keller",
                                    "2": "The Meaning of Marriage: Facing the Complexities of Commitment with the Wisdom of God",
                                    "3": "4.43"
                                },
                                {
                                    "0": "102030",
                                    "1": "Eiji Yoshikawa, Charles Terry, Edwin O. Reischauer",
                                    "2": "Musashi",
                                    "3": "4.43"
                                },
                                {
                                    "0": "8315872",
                                    "1": "J.D. Robb, Nora Roberts",
                                    "2": "Treachery in Death (In Death, #32)",
                                    "3": "4.43"
                                },
                                {
                                    "0": "61899",
                                    "1": "Lois McMaster Bujold",
                                    "2": "A Civil Campaign (Vorkosigan Saga, #12)",
                                    "3": "4.43"
                                },
                                {
                                    "0": "13618",
                                    "1": "Tsugumi Ohba, Takeshi Obata",
                                    "2": "Death Note, Vol. 3: Hard Run (Death Note, #3)",
                                    "3": "4.42"
                                },
                                {
                                    "0": "22669832",
                                    "1": "Kim Holden",
                                    "2": "Bright Side (Bright Side, #1)",
                                    "3": "4.42"
                                },
                                {
                                    "0": "16074748",
                                    "1": "Rachel Renée Russell",
                                    "2": "Tales from a Not-So-Happy Heartbreaker (Dork Diaries, #6)",
                                    "3": "4.42"
                                },
                                {
                                    "0": "86524",
                                    "1": "Robert A. Caro",
                                    "2": "The Path to Power (The Years of Lyndon Johnson, #1)",
                                    "3": "4.42"
                                },
                                {
                                    "0": "77427",
                                    "1": "Patrick O'Brian",
                                    "2": "H.M.S. Surprise",
                                    "3": "4.42"
                                },
                                {
                                    "0": "13565676",
                                    "1": "Sarah J. Maas",
                                    "2": "The Assassin and the Empire (Throne of Glass, #0.5)",
                                    "3": "4.42"
                                },
                                {
                                    "0": "336245",
                                    "1": "Erin Hunter",
                                    "2": "A Dangerous Path (Warriors, #5)",
                                    "3": "4.42"
                                },
                                {
                                    "0": "6122735",
                                    "1": "Brent Weeks",
                                    "2": "The Night Angel Trilogy (Night Angel, #1-3)",
                                    "3": "4.42"
                                },
                                {
                                    "0": "478951",
                                    "1": "Steven Erikson",
                                    "2": "The Bonehunters (Malazan Book of the Fallen, #6)",
                                    "3": "4.42"
                                },
                                {
                                    "0": "11437",
                                    "1": "Raymond Carver",
                                    "2": "Where I'm Calling From: New and Selected Stories",
                                    "3": "4.42"
                                },
                                {
                                    "0": "11227040",
                                    "1": "Kristen Ashley",
                                    "2": "Sweet Dreams (Colorado Mountain, #2)",
                                    "3": "4.42"
                                },
                                {
                                    "0": "77281",
                                    "1": "Gary Larson",
                                    "2": "The Far Side Gallery",
                                    "3": "4.42"
                                },
                                {
                                    "0": "32127",
                                    "1": "Ina May Gaskin",
                                    "2": "Ina May's Guide to Childbirth",
                                    "3": "4.42"
                                },
                                {
                                    "0": "158516",
                                    "1": "Ilya Ilf, Eugene Petrov, Maurice Friedberg, John H.C. Richardson",
                                    "2": "The Twelve Chairs",
                                    "3": "4.42"
                                },
                                {
                                    "0": "13619",
                                    "1": "Tsugumi Ohba, Takeshi Obata",
                                    "2": "Death Note, Vol. 2: Confluence (Death Note, #2)",
                                    "3": "4.42"
                                },
                                {
                                    "0": "10402992",
                                    "1": "J.D. Robb, Susan Ericksen",
                                    "2": "New York to Dallas (In Death, #33)",
                                    "3": "4.42"
                                },
                                {
                                    "0": "13547289",
                                    "1": "Rachel Renée Russell",
                                    "2": "Tales from a Not-So-Smart Miss Know-It-All (Dork Diaries, #5)",
                                    "3": "4.42"
                                },
                                {
                                    "0": "8038219",
                                    "1": "Gena Showalter",
                                    "2": "The Darkest Surrender  (Lords of the Underworld #8)",
                                    "3": "4.42"
                                },
                                {
                                    "0": "17562900",
                                    "1": "Patricia Briggs",
                                    "2": "Night Broken (Mercy Thompson, #8)",
                                    "3": "4.42"
                                },
                                {
                                    "0": "7592279",
                                    "1": "John Flanagan",
                                    "2": "The Emperor of Nihon-Ja (Ranger's Apprentice, #10)",
                                    "3": "4.42"
                                },
                                {
                                    "0": "92143",
                                    "1": "Jeff Smith",
                                    "2": "Bone: The Complete Edition",
                                    "3": "4.42"
                                },
                                {
                                    "0": "969275",
                                    "1": "Akira Toriyama",
                                    "2": "Dragon Ball, Vol. 1: The Monkey King (Dragon Ball, #1)",
                                    "3": "4.42"
                                },
                                {
                                    "0": "6178648",
                                    "1": "Barbara Demick",
                                    "2": "Nothing to Envy: Ordinary Lives in North Korea",
                                    "3": "4.42"
                                },
                                {
                                    "0": "8253920",
                                    "1": "Robert Jordan, Brandon Sanderson",
                                    "2": "Towers of Midnight (Wheel of Time, #13)",
                                    "3": "4.42"
                                },
                                {
                                    "0": "3579",
                                    "1": "L.M. Montgomery",
                                    "2": "The Complete Anne of Green Gables Boxed Set (Anne of Green Gables, #1-8)",
                                    "3": "4.42"
                                },
                                {
                                    "0": "13615",
                                    "1": "Tsugumi Ohba, Takeshi Obata",
                                    "2": "Death Note, Vol. 1: Boredom (Death Note, #1)",
                                    "3": "4.42"
                                },
                                {
                                    "0": "546018",
                                    "1": "Alex Haley",
                                    "2": "Roots: The Saga of an American Family",
                                    "3": "4.42"
                                },
                                {
                                    "0": "15241",
                                    "1": "J.R.R. Tolkien",
                                    "2": "The Two Towers (The Lord of the Rings, #2)",
                                    "3": "4.42"
                                },
                                {
                                    "0": "561909",
                                    "1": "Corrie ten Boom, John Sherrill, Elizabeth Sherrill",
                                    "2": "The Hiding Place: The Triumphant True Story of Corrie Ten Boom",
                                    "3": "4.42"
                                },
                                {
                                    "0": "11566",
                                    "1": "Stephen King",
                                    "2": "The Green Mile",
                                    "3": "4.42"
                                },
                                {
                                    "0": "6527740",
                                    "1": "Richelle Mead",
                                    "2": "Last Sacrifice (Vampire Academy, #6)",
                                    "3": "4.42"
                                },
                                {
                                    "0": "1237398",
                                    "1": "Eiichirō Oda, Andy Nakatani",
                                    "2": "One Piece, Volume 01: Romance Dawn (One Piece, #1)",
                                    "3": "4.42"
                                },
                                {
                                    "0": "42389",
                                    "1": "Stephen E. Ambrose",
                                    "2": "Band of Brothers: E Company, 506th Regiment, 101st Airborne from Normandy to Hitler's Eagle's Nest",
                                    "3": "4.42"
                                },
                                {
                                    "0": "2832909",
                                    "1": "Diana Gabaldon",
                                    "2": "An Echo in the Bone (Outlander, #7)",
                                    "3": "4.42"
                                },
                                {
                                    "0": "13154150",
                                    "1": "Hajime Isayama, Sheldon Drzka",
                                    "2": "Attack on Titan, Vol. 1 (Attack on Titan, #1)",
                                    "3": "4.42"
                                },
                                {
                                    "0": "13600318",
                                    "1": "S.C. Stephens",
                                    "2": "Reckless (Thoughtless, #3)",
                                    "3": "4.42"
                                },
                                {
                                    "0": "7243142",
                                    "1": "Brandon Mull",
                                    "2": "Keys to the Demon Prison (Fablehaven, #5)",
                                    "3": "4.42"
                                },
                                {
                                    "0": "18419",
                                    "1": "Audrey Penn, Ruth E. Harper, Nancy M. Leak",
                                    "2": "The Kissing Hand",
                                    "3": "4.41"
                                },
                                {
                                    "0": "8709526",
                                    "1": "Richelle Mead",
                                    "2": "The Indigo Spell (Bloodlines, #3)",
                                    "3": "4.41"
                                },
                                {
                                    "0": "7788",
                                    "1": "Dr. Seuss, Various",
                                    "2": "The Cat in the Hat and Other Dr. Seuss Favorites",
                                    "3": "4.41"
                                },
                                {
                                    "0": "23692271",
                                    "1": "Yuval Noah Harari",
                                    "2": "Sapiens: A Brief History of Humankind",
                                    "3": "4.41"
                                },
                                {
                                    "0": "15197",
                                    "1": "Art Spiegelman",
                                    "2": "Maus II: A Survivor's Tale: And Here My Troubles Began (Maus, #2)",
                                    "3": "4.41"
                                },
                                {
                                    "0": "91474",
                                    "1": "Jim Butcher",
                                    "2": "Proven Guilty (The Dresden Files, #8)",
                                    "3": "4.41"
                                },
                                {
                                    "0": "91475",
                                    "1": "Jim Butcher",
                                    "2": "White Night (The Dresden Files, #9)",
                                    "3": "4.41"
                                },
                                {
                                    "0": "7046495",
                                    "1": "J.R. Ward",
                                    "2": "Lover Mine (Black Dagger Brotherhood, #8)",
                                    "3": "4.41"
                                },
                                {
                                    "0": "18705209",
                                    "1": "Rick Riordan",
                                    "2": "The Blood of Olympus (The Heroes of Olympus, #5)",
                                    "3": "4.41"
                                },
                                {
                                    "0": "25111004",
                                    "1": "Colleen Hoover",
                                    "2": "November 9",
                                    "3": "4.41"
                                },
                                {
                                    "0": "27071490",
                                    "1": "Yaa Gyasi",
                                    "2": "Homegoing",
                                    "3": "4.41"
                                },
                                {
                                    "0": "7904429",
                                    "1": "Bryan Lee O'Malley",
                                    "2": "Scott Pilgrim, Volume 6: Scott Pilgrim's Finest Hour",
                                    "3": "4.41"
                                },
                                {
                                    "0": "9761778",
                                    "1": "Jennifer L. Armentrout",
                                    "2": "Deity (Covenant, #3)",
                                    "3": "4.41"
                                },
                                {
                                    "0": "16101018",
                                    "1": "Drew Daywalt, Oliver Jeffers",
                                    "2": "The Day the Crayons Quit",
                                    "3": "4.41"
                                },
                                {
                                    "0": "6337006",
                                    "1": "Kresley Cole",
                                    "2": "Pleasure of a Dark Prince (Immortals After Dark #9)",
                                    "3": "4.41"
                                },
                                {
                                    "0": "17167084",
                                    "1": "Louise Penny",
                                    "2": "How the Light Gets In (Chief Inspector Armand Gamache, #9)",
                                    "3": "4.41"
                                },
                                {
                                    "0": "10450750",
                                    "1": "Bryan Konietzko, Michael Dante DiMartino, Aaron Ehasz, Alison Wilgus, Amy Kim Ganter, Brian Ralph, Corey Lewis, Dave Roman, Elsa Garagarza, Ethan Spaulding, Frank Pittarese, Gurihiru, J. Torres, Joaquim Dos Santos, Johane Matte, John O'Bryan, Joshua Hamilton, Justin Ridge, Kaite Mattila, May Chan, Rawles Marie Lumumba, Reagan Lodge, Tim Hedrick, Tom McWeeney",
                                    "2": "Avatar: The Last Airbender: The Lost Adventures",
                                    "3": "4.41"
                                },
                                {
                                    "0": "6871646",
                                    "1": "Eric Litwin, James Dean",
                                    "2": "Pete the Cat: I Love My White Shoes",
                                    "3": "4.41"
                                },
                                {
                                    "0": "97862",
                                    "1": "Karen Kingsbury",
                                    "2": "One Tuesday Morning (9/11, #1)",
                                    "3": "4.41"
                                },
                                {
                                    "0": "13337716",
                                    "1": "George R.R. Martin",
                                    "2": "A Dance with Dragons: After the Feast (A Song of Ice and Fire #5, Part 2 of 2)",
                                    "3": "4.41"
                                },
                                {
                                    "0": "2879",
                                    "1": "Tite Kubo",
                                    "2": "Bleach, Volume 15",
                                    "3": "4.41"
                                },
                                {
                                    "0": "7202841",
                                    "1": "Joe Hill, Gabriel Rodríguez",
                                    "2": "Locke & Key, Vol. 3: Crown of Shadows",
                                    "3": "4.41"
                                },
                                {
                                    "0": "35332",
                                    "1": "Karen Kingsbury, Gary Smalley",
                                    "2": "Remember (Redemption, #2)",
                                    "3": "4.41"
                                },
                                {
                                    "0": "30065028",
                                    "1": "J.K. Rowling",
                                    "2": "Fantastic Beasts and Where to Find Them: The Original Screenplay",
                                    "3": "4.41"
                                },
                                {
                                    "0": "877752",
                                    "1": "Natsuki Takaya, Alethea Nibley, Athena Nibley",
                                    "2": "Fruits Basket, Vol. 7",
                                    "3": "4.41"
                                },
                                {
                                    "0": "13621",
                                    "1": "Tsugumi Ohba, Takeshi Obata",
                                    "2": "Death Note, Vol. 7: Zero (Death Note, #7)",
                                    "3": "4.41"
                                },
                                {
                                    "0": "58033",
                                    "1": "William Shakespeare, Sylvan Barnet, Alvin Kernan, Russell Fraser",
                                    "2": "Four Great Tragedies: Hamlet / Othello / King Lear / Macbeth",
                                    "3": "4.41"
                                },
                                {
                                    "0": "121715",
                                    "1": "C.S. Lewis",
                                    "2": "The Weight of Glory",
                                    "3": "4.41"
                                },
                                {
                                    "0": "13167796",
                                    "1": "W. Bruce Cameron",
                                    "2": "A Dog's Journey (A Dog's Purpose, #2)",
                                    "3": "4.41"
                                },
                                {
                                    "0": "434535",
                                    "1": "James L. Ferrell",
                                    "2": "The Peacegiver: How Christ Offers to Heal Our Hearts and Homes",
                                    "3": "4.41"
                                },
                                {
                                    "0": "13070346",
                                    "1": "Quinn Loftis",
                                    "2": "Blood Rites (The Grey Wolves, #2)",
                                    "3": "4.41"
                                },
                                {
                                    "0": "12677913",
                                    "1": "Colleen Houck",
                                    "2": "Tiger's Destiny (The Tiger Saga, #4)",
                                    "3": "4.41"
                                },
                                {
                                    "0": "13605727",
                                    "1": "Jennifer L. Armentrout",
                                    "2": "Elixir (Covenant, #3.5)",
                                    "3": "4.41"
                                },
                                {
                                    "0": "86525",
                                    "1": "Robert A. Caro",
                                    "2": "Master of the Senate (The Years of Lyndon Johnson, #3)",
                                    "3": "4.41"
                                },
                                {
                                    "0": "14403",
                                    "1": "Robert Coles, George Ford",
                                    "2": "The Story of Ruby Bridges",
                                    "3": "4.41"
                                },
                                {
                                    "0": "22421",
                                    "1": "Warren Ellis, Darick Robertson, Rodney Ramos, Keith Akin",
                                    "2": "Transmetropolitan, Vol. 4: The New Scum (Transmetropolitan, #4)",
                                    "3": "4.41"
                                },
                                {
                                    "0": "16084702",
                                    "1": "E.L. James",
                                    "2": "Fifty Shades Duo: Fifty Shades Darker / Fifty Shades Freed (Fifty Shades, #2-3)",
                                    "3": "4.41"
                                },
                                {
                                    "0": "359461",
                                    "1": "Dee Henderson",
                                    "2": "The Guardian (O'Malley #2)",
                                    "3": "4.4"
                                },
                                {
                                    "0": "426030",
                                    "1": "Dee Henderson",
                                    "2": "The Healer (O'Malley #5)",
                                    "3": "4.4"
                                },
                                {
                                    "0": "17903381",
                                    "1": "HaveYouSeenThisGirL, Jan Irene Villar",
                                    "2": "Diary ng Panget",
                                    "3": "4.4"
                                },
                                {
                                    "0": "19286674",
                                    "1": "Darynda Jones",
                                    "2": "Seventh Grave and No Body (Charley Davidson, #7)",
                                    "3": "4.4"
                                },
                                {
                                    "0": "76248",
                                    "1": "William S. Baring-Gould",
                                    "2": "Sherlock Holmes of Baker Street: A Life of the World's First Consulting Detective",
                                    "3": "4.4"
                                },
                                {
                                    "0": "672948",
                                    "1": "Erich Maria Remarque",
                                    "2": "Arch of Triumph: A Novel of a Man Without a Country",
                                    "3": "4.4"
                                },
                                {
                                    "0": "4893390",
                                    "1": "Derek Landy",
                                    "2": "The Faceless Ones (Skulduggery Pleasant, #3)",
                                    "3": "4.4"
                                },
                                {
                                    "0": "11339",
                                    "1": "Pablo Neruda, Stephen Tapscott",
                                    "2": "100 Love Sonnets",
                                    "3": "4.4"
                                },
                                {
                                    "0": "13419891",
                                    "1": "Sarah J. Maas",
                                    "2": "The Assassin and the Desert (Throne of Glass, #0.3)",
                                    "3": "4.4"
                                },
                                {
                                    "0": "22420",
                                    "1": "Warren Ellis, Darick Robertson, Rodney Ramos, Patrick Stewart",
                                    "2": "Transmetropolitan, Vol. 5: Lonely City (Transmetropolitan, #5)",
                                    "3": "4.4"
                                },
                                {
                                    "0": "17465470",
                                    "1": "John Flanagan",
                                    "2": "The Royal Ranger (Ranger's Apprentice, #12)",
                                    "3": "4.4"
                                },
                                {
                                    "0": "2002",
                                    "1": "J.K. Rowling",
                                    "2": "Harry Potter Schoolbooks Box Set: Two Classic Books from the Library of Hogwarts School of Witchcraft and Wizardry",
                                    "3": "4.4"
                                },
                                {
                                    "0": "46201",
                                    "1": "Rainer Maria Rilke, Stephen Mitchell, Robert Hass",
                                    "2": "The Selected Poetry of Rainer Maria Rilke",
                                    "3": "4.4"
                                },
                                {
                                    "0": "94807",
                                    "1": "Arnold Lobel",
                                    "2": "The Frog and Toad Treasury: Frog and Toad are Friends/Frog and Toad Together/Frog and Toad All Year  (Frog and Toad #1-3)",
                                    "3": "4.4"
                                },
                                {
                                    "0": "13003565",
                                    "1": "John Flanagan",
                                    "2": "The Invaders (Brotherband Chronicles, #2)",
                                    "3": "4.4"
                                },
                                {
                                    "0": "22418",
                                    "1": "Warren Ellis, Darick Robertson, Rodney Ramos",
                                    "2": "Transmetropolitan, Vol. 3: Year of the Bastard (Transmetropolitan, #3)",
                                    "3": "4.4"
                                },
                                {
                                    "0": "771332",
                                    "1": "Eugene B. Sledge, Paul Fussell",
                                    "2": "With the Old Breed: At Peleliu and Okinawa",
                                    "3": "4.4"
                                },
                                {
                                    "0": "9897164",
                                    "1": "Jennifer L. Armentrout",
                                    "2": "Apollyon (Covenant, #4)",
                                    "3": "4.4"
                                },
                                {
                                    "0": "1305",
                                    "1": "Steven Pressfield",
                                    "2": "Gates of Fire: An Epic Novel of the Battle of Thermopylae",
                                    "3": "4.4"
                                },
                                {
                                    "0": "8811139",
                                    "1": "Michael  Grant",
                                    "2": "Light (Gone, #6)",
                                    "3": "4.4"
                                },
                                {
                                    "0": "3492020",
                                    "1": "J.D. Robb",
                                    "2": "Promises in Death (In Death, #28)",
                                    "3": "4.4"
                                },
                                {
                                    "0": "16090981",
                                    "1": "Tarryn Fisher",
                                    "2": "Thief (Love Me with Lies, #3)",
                                    "3": "4.4"
                                },
                                {
                                    "0": "119829",
                                    "1": "Sharon Kay Penman",
                                    "2": "The Sunne in Splendour",
                                    "3": "4.4"
                                },
                                {
                                    "0": "13538992",
                                    "1": "Darynda Jones",
                                    "2": "Fourth Grave Beneath My Feet (Charley Davidson, #4)",
                                    "3": "4.4"
                                },
                                {
                                    "0": "1128437",
                                    "1": "Andrzej Sapkowski",
                                    "2": "Miecz przeznaczenia (Saga o Wiedźminie, #2)",
                                    "3": "4.4"
                                },
                                {
                                    "0": "11281852",
                                    "1": "Katie J. Davis, Beth Clark",
                                    "2": "Kisses from Katie: A Story of Relentless Love and Redemption",
                                    "3": "4.4"
                                },
                                {
                                    "0": "831194",
                                    "1": "Erin Hunter",
                                    "2": "Forest of Secrets (Warriors, #3)",
                                    "3": "4.4"
                                },
                                {
                                    "0": "14118",
                                    "1": "Teddy Slater, Ron Dias, Ric González",
                                    "2": "Beauty and the Beast (Disney)",
                                    "3": "4.4"
                                },
                                {
                                    "0": "6081685",
                                    "1": "Hiro Fujiwara",
                                    "2": "Maid-sama! Vol. 01 (Maid-sama!, #1)",
                                    "3": "4.4"
                                },
                                {
                                    "0": "76237",
                                    "1": "Richard Lancelyn Green, Ronald Knox, Julian Symons, Various",
                                    "2": "The Further Adventures of Sherlock Holmes: After Sir Arthur Conan Doyle (Classic Crime)",
                                    "3": "4.4"
                                },
                                {
                                    "0": "76104",
                                    "1": "Adrian Conan Doyle, John Dickson Carr",
                                    "2": "The Exploits of Sherlock Holmes",
                                    "3": "4.4"
                                },
                                {
                                    "0": "25489625",
                                    "1": "Ta-Nehisi Coates",
                                    "2": "Between the World and Me",
                                    "3": "4.4"
                                },
                                {
                                    "0": "8664353",
                                    "1": "Laura Hillenbrand",
                                    "2": "Unbroken: A World War II Story of Survival, Resilience, and Redemption",
                                    "3": "4.4"
                                },
                                {
                                    "0": "10572",
                                    "1": "George R.R. Martin",
                                    "2": "A Clash of Kings  (A Song of Ice and Fire, #2)",
                                    "3": "4.4"
                                },
                                {
                                    "0": "2454986",
                                    "1": "Hiro Mashima, William Flanagan",
                                    "2": "Fairy Tail, Vol. 1 (Fairy Tail, #1)",
                                    "3": "4.4"
                                },
                                {
                                    "0": "20696006",
                                    "1": "Atul Gawande",
                                    "2": "Being Mortal: Medicine and What Matters in the End",
                                    "3": "4.4"
                                },
                                {
                                    "0": "13027304",
                                    "1": "Emily Seife",
                                    "2": "The Hunger Games Tribute Guide",
                                    "3": "4.4"
                                },
                                {
                                    "0": "46654",
                                    "1": "Isaac Asimov",
                                    "2": "The Foundation Trilogy (Foundation, #1-3)",
                                    "3": "4.39"
                                },
                                {
                                    "0": "17340050",
                                    "1": "Colleen Hoover",
                                    "2": "Losing Hope (Hopeless, #2)",
                                    "3": "4.39"
                                },
                                {
                                    "0": "175510",
                                    "1": "Oswald Chambers",
                                    "2": "My Utmost for His Highest",
                                    "3": "4.39"
                                },
                                {
                                    "0": "18007564",
                                    "1": "Andy Weir",
                                    "2": "The Martian",
                                    "3": "4.39"
                                },
                                {
                                    "0": "2120932",
                                    "1": "Rick Riordan",
                                    "2": "The Battle of the Labyrinth (Percy Jackson and the Olympians, #4)",
                                    "3": "4.39"
                                },
                                {
                                    "0": "7557548",
                                    "1": "Terry Pratchett, Stephen Briggs",
                                    "2": "Men at Arms: The Play",
                                    "3": "4.39"
                                },
                                {
                                    "0": "175983",
                                    "1": "Steven Erikson",
                                    "2": "Memories of Ice (The Malazan Book of the Fallen, #3)",
                                    "3": "4.39"
                                },
                                {
                                    "0": "9833184",
                                    "1": "Richelle Mead",
                                    "2": "The Fiery Heart (Bloodlines, #4)",
                                    "3": "4.39"
                                },
                                {
                                    "0": "84145",
                                    "1": "Sherrilyn Kenyon",
                                    "2": "Dance with the Devil (Dark-Hunter #3)",
                                    "3": "4.39"
                                },
                                {
                                    "0": "9409469",
                                    "1": "Cinda Williams Chima",
                                    "2": "The Gray Wolf Throne (Seven Realms, #3)",
                                    "3": "4.39"
                                },
                                {
                                    "0": "25242224",
                                    "1": "Elena Ferrante, Ann Goldstein",
                                    "2": "The Story of the Lost Child (The Neapolitan Novels, #4)",
                                    "3": "4.39"
                                },
                                {
                                    "0": "6547188",
                                    "1": "Kim Harrison",
                                    "2": "Black Magic Sanction (The Hollows, #8)",
                                    "3": "4.39"
                                },
                                {
                                    "0": "95621",
                                    "1": "Francine Rivers",
                                    "2": "As Sure as the Dawn (Mark of the Lion, #3)",
                                    "3": "4.39"
                                },
                                {
                                    "0": "5787",
                                    "1": "Jorge Luis Borges, Andrew Hurley",
                                    "2": "The Aleph and Other Stories ",
                                    "3": "4.39"
                                },
                                {
                                    "0": "8462184",
                                    "1": "Rachel Caine",
                                    "2": "The Morganville Vampires, Volume 3 (The Morganville Vampires, #5-6)",
                                    "3": "4.39"
                                },
                                {
                                    "0": "2617684",
                                    "1": "Walt Disney Company",
                                    "2": "Winnie the Pooh and Tigger Too (Disney's Wonderful World of Reading)",
                                    "3": "4.39"
                                },
                                {
                                    "0": "1603923",
                                    "1": "Walt Disney Company, Ellen Titlebaum",
                                    "2": "Beauty and the Beast",
                                    "3": "4.39"
                                },
                                {
                                    "0": "12043770",
                                    "1": "Darynda Jones",
                                    "2": "Third Grave Dead Ahead (Charley Davidson, #3)",
                                    "3": "4.39"
                                },
                                {
                                    "0": "42909",
                                    "1": "James Herriot",
                                    "2": "All Things Wise and Wonderful",
                                    "3": "4.39"
                                },
                                {
                                    "0": "8534799",
                                    "1": "Kresley Cole",
                                    "2": "Dreams of a Dark Warrior (Immortals After Dark #11)",
                                    "3": "4.39"
                                },
                                {
                                    "0": "6441654",
                                    "1": "Rebecca Housel, J. Jeremy Wisnewski, William Irwin",
                                    "2": "Twilight and Philosophy: Vampires, Vegetarians, and the Pursuit of Immortality",
                                    "3": "4.39"
                                },
                                {
                                    "0": "3116205",
                                    "1": "Timothy J. Keller",
                                    "2": "The Prodigal God: Recovering the Heart of the Christian Faith",
                                    "3": "4.39"
                                },
                                {
                                    "0": "16175040",
                                    "1": "Kresley Cole",
                                    "2": "Endless Knight (The Arcana Chronicles, #2)",
                                    "3": "4.39"
                                },
                                {
                                    "0": "38739",
                                    "1": "James Herriot",
                                    "2": "The Lord God Made Them All",
                                    "3": "4.39"
                                },
                                {
                                    "0": "232958",
                                    "1": "Bernadette Rossetti-Shustak, Caroline Jayne Church",
                                    "2": "I Love You Through and Through",
                                    "3": "4.39"
                                },
                                {
                                    "0": "10659536",
                                    "1": "Shel Silverstein",
                                    "2": "Every Thing on It",
                                    "3": "4.39"
                                },
                                {
                                    "0": "13620",
                                    "1": "Tsugumi Ohba, Takeshi Obata",
                                    "2": "Death Note, Vol. 6: Give-and-Take (Death Note, #6)",
                                    "3": "4.39"
                                },
                                {
                                    "0": "22609522",
                                    "1": "Bill Browder",
                                    "2": "Red Notice: A True Story of High Finance, Murder, and One Man’s Fight for Justice",
                                    "3": "4.39"
                                },
                                {
                                    "0": "370057",
                                    "1": "Dee Henderson",
                                    "2": "The Truth Seeker (O'Malley #3)",
                                    "3": "4.39"
                                },
                                {
                                    "0": "17163514",
                                    "1": "Michael J. Sullivan",
                                    "2": "The Rose and the Thorn (The Riyria Chronicles, #2)",
                                    "3": "4.39"
                                },
                                {
                                    "0": "19534",
                                    "1": "David James Duncan",
                                    "2": "The Brothers K",
                                    "3": "4.39"
                                },
                                {
                                    "0": "11233988",
                                    "1": "Jon Klassen",
                                    "2": "I Want My Hat Back",
                                    "3": "4.39"
                                },
                                {
                                    "0": "929782",
                                    "1": "Jack London, Andrew Sinclair",
                                    "2": "Martin Eden",
                                    "3": "4.39"
                                },
                                {
                                    "0": "25711641",
                                    "1": "T.M. Frazier",
                                    "2": "Tyrant (King, #2)",
                                    "3": "4.39"
                                },
                                {
                                    "0": "10537195",
                                    "1": "Kazu Kibuishi",
                                    "2": "The Last Council (Amulet, #4)",
                                    "3": "4.39"
                                },
                                {
                                    "0": "1145862",
                                    "1": "Patty Lovell, David Catrow",
                                    "2": "Stand Tall, Molly Lou Melon",
                                    "3": "4.39"
                                },
                                {
                                    "0": "132152",
                                    "1": "Lettie B. Cowman, James Reimann",
                                    "2": "Streams in the Desert",
                                    "3": "4.39"
                                },
                                {
                                    "0": "836611",
                                    "1": "Natsuki Takaya, Alethea Nibley, Athena Nibley",
                                    "2": "Fruits Basket, Vol. 4",
                                    "3": "4.39"
                                },
                                {
                                    "0": "7894870",
                                    "1": "Jeff Smith, Thomas E. Sniegoski, Steve Hamaker",
                                    "2": "Bone: Tall Tales",
                                    "3": "4.38"
                                },
                                {
                                    "0": "595822",
                                    "1": "Dee Henderson",
                                    "2": "The Protector (O'Malley #4)",
                                    "3": "4.38"
                                },
                                {
                                    "0": "836607",
                                    "1": "Natsuki Takaya, Alethea Nibley, Athena Nibley",
                                    "2": "Fruits Basket, Vol. 3",
                                    "3": "4.38"
                                },
                                {
                                    "0": "23168817",
                                    "1": "Liu Cixin, Joel Martinsen",
                                    "2": "The Dark Forest (Remembrance of Earth’s Past, #2)",
                                    "3": "4.38"
                                },
                                {
                                    "0": "13616",
                                    "1": "Tsugumi Ohba, Takeshi Obata",
                                    "2": "Death Note, Vol. 4: Love (Death Note, #4)",
                                    "3": "4.38"
                                },
                                {
                                    "0": "821000",
                                    "1": "A.A. Milne, Ernest H. Shepard",
                                    "2": "Now We Are Six (Winnie-the-Pooh, #4)",
                                    "3": "4.38"
                                },
                                {
                                    "0": "7140220",
                                    "1": "Nancy Reagin",
                                    "2": "Twilight and History",
                                    "3": "4.38"
                                },
                                {
                                    "0": "166580",
                                    "1": "Neil Gaiman, Yoshitaka Amano",
                                    "2": "The Sandman: The Dream Hunters",
                                    "3": "4.38"
                                },
                                {
                                    "0": "16061295",
                                    "1": "Darynda Jones",
                                    "2": "Sixth Grave on the Edge (Charley Davidson, #6)",
                                    "3": "4.38"
                                },
                                {
                                    "0": "7967299",
                                    "1": "Crissy Calhoun",
                                    "2": "Love You to Death: The Unofficial Companion to the Vampire Diaries",
                                    "3": "4.38"
                                },
                                {
                                    "0": "175113",
                                    "1": "Henri J.M. Nouwen",
                                    "2": "The Return of the Prodigal Son: A Story of Homecoming",
                                    "3": "4.38"
                                },
                                {
                                    "0": "28698036",
                                    "1": "Brandon Sanderson",
                                    "2": "Secret History (Mistborn, #3.5)",
                                    "3": "4.38"
                                },
                                {
                                    "0": "68524",
                                    "1": "Bernard Cornwell",
                                    "2": "Enemy of God (The Warlord Chronicles, #2)",
                                    "3": "4.38"
                                },
                                {
                                    "0": "18956",
                                    "1": "David Simon",
                                    "2": "Homicide: A Year on the Killing Streets",
                                    "3": "4.38"
                                },
                                {
                                    "0": "17455815",
                                    "1": "Jennifer L. Armentrout",
                                    "2": "Stone Cold Touch (The Dark Elements, #2)",
                                    "3": "4.38"
                                },
                                {
                                    "0": "16150996",
                                    "1": "Aleatha Romig",
                                    "2": "Convicted (Consequences, #3)",
                                    "3": "4.38"
                                },
                                {
                                    "0": "13416236",
                                    "1": "C.C. Hunter",
                                    "2": "Whispers at Moonrise (Shadow Falls, #4)",
                                    "3": "4.38"
                                },
                                {
                                    "0": "295086",
                                    "1": "Erin Hunter",
                                    "2": "Rising Storm (Warriors, #4)",
                                    "3": "4.38"
                                },
                                {
                                    "0": "16070018",
                                    "1": "Aleatha Romig",
                                    "2": "Truth (Consequences, #2)",
                                    "3": "4.38"
                                },
                                {
                                    "0": "10599805",
                                    "1": "Kim Harrison",
                                    "2": "A Perfect Blood (The Hollows, #10)",
                                    "3": "4.38"
                                },
                                {
                                    "0": "56634",
                                    "1": "Elisabeth Elliot",
                                    "2": "Through Gates of Splendor",
                                    "3": "4.38"
                                },
                                {
                                    "0": "8230409",
                                    "1": "Julietta Suzuki, Tomo Kimura",
                                    "2": "Kamisama Kiss, Vol. 1",
                                    "3": "4.38"
                                },
                                {
                                    "0": "13545345",
                                    "1": "Rachel Renée Russell",
                                    "2": "Tales from a Not-So-Graceful Ice Princess (Dork Diaries, #4)",
                                    "3": "4.38"
                                },
                                {
                                    "0": "16114861",
                                    "1": "Madeline Sheehan",
                                    "2": "Unbeautifully (Undeniable, #2)",
                                    "3": "4.38"
                                },
                                {
                                    "0": "68521",
                                    "1": "Bernard Cornwell",
                                    "2": "Excalibur (The Warlord Chronicles, #3)",
                                    "3": "4.38"
                                },
                                {
                                    "0": "109367",
                                    "1": "J.D. Robb",
                                    "2": "Survivor In Death (In Death, #20)",
                                    "3": "4.38"
                                },
                                {
                                    "0": "15742039",
                                    "1": "Kristen Ashley",
                                    "2": "Breathe (Colorado Mountain, #4)",
                                    "3": "4.38"
                                },
                                {
                                    "0": "676555",
                                    "1": "The Beatles, Paul McCartney, Ringo Starr, John Lennon, George Harrison",
                                    "2": "The Beatles Anthology",
                                    "3": "4.38"
                                },
                                {
                                    "0": "110890",
                                    "1": "Lawrence Wright",
                                    "2": "The Looming Tower: Al-Qaeda and the Road to 9/11",
                                    "3": "4.38"
                                },
                                {
                                    "0": "42986",
                                    "1": "Herman Wouk",
                                    "2": "War and Remembrance (The Henry Family, #2)",
                                    "3": "4.38"
                                },
                                {
                                    "0": "17831614",
                                    "1": "Christina Lauren",
                                    "2": "Beautiful Player (Beautiful Bastard, #3)",
                                    "3": "4.38"
                                },
                                {
                                    "0": "2003625",
                                    "1": "Kresley Cole",
                                    "2": "Dark Desires After Dusk (Immortals After Dark #6)",
                                    "3": "4.38"
                                },
                                {
                                    "0": "838917",
                                    "1": "Stormie Omartian",
                                    "2": "The Power of a Praying Woman",
                                    "3": "4.38"
                                },
                                {
                                    "0": "346087",
                                    "1": "Jim Butcher",
                                    "2": "Captain's Fury (Codex Alera, #4)",
                                    "3": "4.38"
                                },
                                {
                                    "0": "45108",
                                    "1": "Robin Hobb",
                                    "2": "Fool's Fate (Tawny Man, #3)",
                                    "3": "4.38"
                                },
                                {
                                    "0": "1225621",
                                    "1": "Kim Harrison",
                                    "2": "The Outlaw Demon Wails (The Hollows, #6)",
                                    "3": "4.38"
                                },
                                {
                                    "0": "6348045",
                                    "1": "John Flanagan",
                                    "2": "Halt's Peril (Ranger's Apprentice, #9)",
                                    "3": "4.38"
                                },
                                {
                                    "0": "370493",
                                    "1": "Shel Silverstein",
                                    "2": "The Giving Tree",
                                    "3": "4.38"
                                },
                                {
                                    "0": "10987",
                                    "1": "Diana Gabaldon",
                                    "2": "Voyager (Outlander, #3)",
                                    "3": "4.38"
                                },
                                {
                                    "0": "6587387",
                                    "1": "Patricia Briggs",
                                    "2": "Silver Borne (Mercy Thompson, #5)",
                                    "3": "4.38"
                                },
                                {
                                    "0": "672493",
                                    "1": "A.W. Tozer",
                                    "2": "The Pursuit of God",
                                    "3": "4.38"
                                },
                                {
                                    "0": "5098079",
                                    "1": "J.R. Ward",
                                    "2": "Lover Avenged (Black Dagger Brotherhood, #7)",
                                    "3": "4.38"
                                },
                                {
                                    "0": "6609765",
                                    "1": "Sharon M. Draper",
                                    "2": "Out of My Mind",
                                    "3": "4.37"
                                },
                                {
                                    "0": "6690979",
                                    "1": "Yana Toboso, Tomo Kimura",
                                    "2": "Black Butler, Vol. 1 (Black Butler, #1)",
                                    "3": "4.37"
                                },
                                {
                                    "0": "323355",
                                    "1": "Anonymous, Joseph Smith Jr.",
                                    "2": "The Book of Mormon: Another Testament of Jesus Christ",
                                    "3": "4.37"
                                },
                                {
                                    "0": "4499669",
                                    "1": "Stephen Kendrick, Alex Kendrick",
                                    "2": "The Love Dare",
                                    "3": "4.37"
                                },
                                {
                                    "0": "14290364",
                                    "1": "Marie Lu",
                                    "2": "Champion (Legend, #3)",
                                    "3": "4.37"
                                },
                                {
                                    "0": "15842441",
                                    "1": "S.C. Stephens",
                                    "2": "Effortless (Thoughtless, #2)",
                                    "3": "4.37"
                                },
                                {
                                    "0": "402093",
                                    "1": "James Clavell",
                                    "2": "Shōgun (Asian Saga, #1)",
                                    "3": "4.37"
                                },
                                {
                                    "0": "15881",
                                    "1": "J.K. Rowling, Mary GrandPré",
                                    "2": "Harry Potter and the Chamber of Secrets (Harry Potter, #2)",
                                    "3": "4.37"
                                },
                                {
                                    "0": "23919",
                                    "1": "Edgar Allan Poe",
                                    "2": "The Complete Stories and Poems",
                                    "3": "4.37"
                                },
                                {
                                    "0": "6479259",
                                    "1": "Richelle Mead",
                                    "2": "Spirit Bound (Vampire Academy, #5)",
                                    "3": "4.37"
                                },
                                {
                                    "0": "2802316",
                                    "1": "Richelle Mead",
                                    "2": "Shadow Kiss (Vampire Academy, #3)",
                                    "3": "4.37"
                                },
                                {
                                    "0": "13",
                                    "1": "Douglas Adams",
                                    "2": "The Ultimate Hitchhiker's Guide to the Galaxy",
                                    "3": "4.37"
                                },
                                {
                                    "0": "17465515",
                                    "1": "Elena Ferrante, Ann Goldstein",
                                    "2": "The Story of a New Name (The Neapolitan Novels #2)",
                                    "3": "4.37"
                                },
                                {
                                    "0": "6316821",
                                    "1": "Jim Butcher",
                                    "2": "First Lord's Fury (Codex Alera, #6)",
                                    "3": "4.37"
                                },
                                {
                                    "0": "6393082",
                                    "1": "Christopher Yost, Orson Scott Card, Pasqual Ferry, Frank D'Armata",
                                    "2": "Ender's Game, Volume 1: Battle School (Ender's Saga)",
                                    "3": "4.37"
                                },
                                {
                                    "0": "18108281",
                                    "1": "J.R. Ward",
                                    "2": "The King (Black Dagger Brotherhood, #12)",
                                    "3": "4.37"
                                },
                                {
                                    "0": "29430012",
                                    "1": "Amor Towles",
                                    "2": "A Gentleman in Moscow",
                                    "3": "4.37"
                                },
                                {
                                    "0": "8709524",
                                    "1": "Richelle Mead",
                                    "2": "Silver Shadows (Bloodlines, #5)",
                                    "3": "4.37"
                                },
                                {
                                    "0": "435045",
                                    "1": "Kresley Cole",
                                    "2": "Wicked Deeds on a Winter's Night (Immortals After Dark #4)",
                                    "3": "4.37"
                                },
                                {
                                    "0": "40223",
                                    "1": "Jacqueline Carey",
                                    "2": "Kushiel's Avatar (Phèdre's Trilogy, #3)",
                                    "3": "4.37"
                                },
                                {
                                    "0": "22886612",
                                    "1": "James S.A. Corey",
                                    "2": "Nemesis Games (The Expanse, #5)",
                                    "3": "4.37"
                                },
                                {
                                    "0": "281512",
                                    "1": "Max Lucado",
                                    "2": "He Chose the Nails",
                                    "3": "4.37"
                                },
                                {
                                    "0": "6758331",
                                    "1": "Gena Showalter",
                                    "2": "The Darkest Passion (Lords of the Underworld #5)",
                                    "3": "4.37"
                                },
                                {
                                    "0": "6167746",
                                    "1": "P.C. Cast, Kristin Cast",
                                    "2": "Marked / Betrayed / Chosen / Untamed (House of Night, #1-4)",
                                    "3": "4.37"
                                },
                                {
                                    "0": "1055617",
                                    "1": "Spencer W. Kimball",
                                    "2": "The Miracle of Forgiveness",
                                    "3": "4.37"
                                },
                                {
                                    "0": "47959",
                                    "1": "Anne Bishop",
                                    "2": "Queen of the Darkness (The Black Jewels, #3)",
                                    "3": "4.37"
                                },
                                {
                                    "0": "13502963",
                                    "1": "Amy A. Bartol",
                                    "2": "Indebted (The Premonition, #3)",
                                    "3": "4.37"
                                },
                                {
                                    "0": "10551947",
                                    "1": "John Flanagan",
                                    "2": "The Outcasts (Brotherband Chronicles, #1)",
                                    "3": "4.37"
                                },
                                {
                                    "0": "40159",
                                    "1": "Megan Whalen Turner",
                                    "2": "The King of Attolia (The Queen's Thief, #3)",
                                    "3": "4.37"
                                },
                                {
                                    "0": "15745371",
                                    "1": "C.C. Hunter",
                                    "2": "Chosen at Nightfall (Shadow Falls, #5)",
                                    "3": "4.37"
                                },
                                {
                                    "0": "28212",
                                    "1": "Randy Shilts, William Greider",
                                    "2": "And the Band Played On: Politics, People, and the AIDS Epidemic",
                                    "3": "4.37"
                                },
                                {
                                    "0": "268604",
                                    "1": "J.D. Robb",
                                    "2": "Portrait in Death (In Death, #16)",
                                    "3": "4.37"
                                },
                                {
                                    "0": "6390031",
                                    "1": "John Joseph Adams, Robert J. Sawyer, Stephen King, Michael Moorcock, Sharyn McCrumb, Stephen Baxter, Anne Perry, Barbara Hambly, Tanith Lee, Neil Gaiman, Rob Rogers, Naomi Novik, Anthony Burgess, Dominic Green, Laurie R. King, Barbara Roden, Peter Tremayne, Tim Lebbon, Bradley H. Sinor, Edward D. Hoch, Vonda N. McIntyre, Darrell Schweitzer, Mary Robinette Kowal, H.Paul Jeffers, Geoffrey A. Landis, Amy Myers, Tony Pi, Chris Roberson, Mark Valentine",
                                    "2": "The Improbable Adventures of Sherlock Holmes",
                                    "3": "4.37"
                                },
                                {
                                    "0": "17201110",
                                    "1": "Kristen Proby",
                                    "2": "Safe with Me (With Me in Seattle, #5)",
                                    "3": "4.37"
                                },
                                {
                                    "0": "2147714",
                                    "1": "Bill Willingham, Mark Buckingham, Steve Leialoha, Aaron Alexovich, Andrew Pepoy",
                                    "2": "Fables, Vol. 10: The Good Prince",
                                    "3": "4.37"
                                },
                                {
                                    "0": "13546173",
                                    "1": "Sarah J. Maas",
                                    "2": "The Assassin and the Underworld (Throne of Glass, #0.4)",
                                    "3": "4.37"
                                },
                                {
                                    "0": "23252517",
                                    "1": "Amy Harmon",
                                    "2": "The Law of Moses (The Law of Moses, #1)",
                                    "3": "4.37"
                                },
                                {
                                    "0": "1908511",
                                    "1": "Mo Willems",
                                    "2": "The Pigeon Wants a Puppy!",
                                    "3": "4.37"
                                },
                                {
                                    "0": "1398034",
                                    "1": "Pramoedya Ananta Toer",
                                    "2": "Bumi Manusia",
                                    "3": "4.37"
                                },
                                {
                                    "0": "666758",
                                    "1": "A.W. Tozer",
                                    "2": "The Knowledge of the Holy",
                                    "3": "4.37"
                                },
                                {
                                    "0": "27904311",
                                    "1": "Rick Riordan",
                                    "2": "The Hammer of Thor (Magnus Chase and the Gods of Asgard, #2)",
                                    "3": "4.37"
                                },
                                {
                                    "0": "248871",
                                    "1": "Kentaro Miura, Jason DeAngelis",
                                    "2": "Berserk, Vol. 1 (Berserk, #1)",
                                    "3": "4.37"
                                },
                                {
                                    "0": "1111600",
                                    "1": "Robert Jordan",
                                    "2": "The Wheel of Time: Boxed Set  (Wheel of Time, #1-8)",
                                    "3": "4.37"
                                },
                                {
                                    "0": "12042279",
                                    "1": "Lara Adrian",
                                    "2": "Darker After Midnight (Midnight Breed, #10)",
                                    "3": "4.37"
                                },
                                {
                                    "0": "24044596",
                                    "1": "Mariana Zapata",
                                    "2": "Kulti",
                                    "3": "4.36"
                                },
                                {
                                    "0": "26228034",
                                    "1": "N.K. Jemisin",
                                    "2": "The Obelisk Gate (The Broken Earth, #2)",
                                    "3": "4.36"
                                },
                                {
                                    "0": "7955881",
                                    "1": "Kazu Kibuishi",
                                    "2": "The Cloud Searchers (Amulet, #3)",
                                    "3": "4.36"
                                },
                                {
                                    "0": "105986",
                                    "1": "P.G. Wodehouse",
                                    "2": "The Code of the Woosters (Jeeves, #7)",
                                    "3": "4.36"
                                },
                                {
                                    "0": "4961959",
                                    "1": "Jim Butcher, Mark Powers, Ardian Syaf",
                                    "2": "The Dresden Files:  Storm Front, Volume 1-  The Gathering Storm",
                                    "3": "4.36"
                                },
                                {
                                    "0": "192510",
                                    "1": "José Mauro de Vasconcelos, قاسم صنعوی",
                                    "2": "درخت زیبای من",
                                    "3": "4.36"
                                },
                                {
                                    "0": "12019355",
                                    "1": "Sherrilyn Kenyon",
                                    "2": "Infamous (Chronicles of Nick, #3)",
                                    "3": "4.36"
                                },
                                {
                                    "0": "25451852",
                                    "1": "Jonathan Renshaw",
                                    "2": "Dawn of Wonder (The Wakening, #1)",
                                    "3": "4.36"
                                },
                                {
                                    "0": "3710603",
                                    "1": "Brian K. Vaughan, Pia Guerra, José Marzán Jr., Pamela Rambo, Clem Robins, J.G. Jones",
                                    "2": "Y: The Last Man - The Deluxe Edition Book One",
                                    "3": "4.36"
                                },
                                {
                                    "0": "7818881",
                                    "1": "Heather Brewer",
                                    "2": "Twelfth Grade Kills (The Chronicles of Vladimir Tod, #5)",
                                    "3": "4.36"
                                },
                                {
                                    "0": "22749539",
                                    "1": "Pam Muñoz Ryan",
                                    "2": "Echo",
                                    "3": "4.36"
                                },
                                {
                                    "0": "22886113",
                                    "1": "Connor Franta",
                                    "2": "A Work in Progress",
                                    "3": "4.36"
                                },
                                {
                                    "0": "20803962",
                                    "1": "Penelope Douglas, Nelson Hobbs",
                                    "2": "Until You (Fall Away, #1.5)",
                                    "3": "4.36"
                                },
                                {
                                    "0": "16150831",
                                    "1": "Alexandra Bracken",
                                    "2": "In The Afterlight (The Darkest Minds, #3)",
                                    "3": "4.36"
                                },
                                {
                                    "0": "6120349",
                                    "1": "Joe Hill, Gabriel Rodríguez",
                                    "2": "Locke & Key, Vol. 2: Head Games",
                                    "3": "4.36"
                                },
                                {
                                    "0": "29154543",
                                    "1": "Michael Connelly",
                                    "2": "The Wrong Side of Goodbye (Harry Bosch, #21; Harry Bosch Universe, #26)",
                                    "3": "4.36"
                                },
                                {
                                    "0": "646056",
                                    "1": "Michael Teitelbaum, Sue DiCicco",
                                    "2": "The Little Mermaid",
                                    "3": "4.36"
                                },
                                {
                                    "0": "6571723",
                                    "1": "Rachel Caine",
                                    "2": "The Morganville Vampires, Volume 1 (The Morganville Vampires, #1-2)",
                                    "3": "4.36"
                                },
                                {
                                    "0": "1876770",
                                    "1": "Andrzej Sapkowski",
                                    "2": "Chrzest ognia (Saga o Wiedźminie, #5)",
                                    "3": "4.36"
                                },
                                {
                                    "0": "6660747",
                                    "1": "Larissa Ione",
                                    "2": "Ecstasy Unveiled (Demonica #4)",
                                    "3": "4.36"
                                },
                                {
                                    "0": "985386",
                                    "1": "Gosho Aoyama",
                                    "2": "Case Closed, Vol. 1",
                                    "3": "4.36"
                                },
                                {
                                    "0": "74033",
                                    "1": "J.D. Robb",
                                    "2": "Innocent in Death (In Death, #24)",
                                    "3": "4.36"
                                },
                                {
                                    "0": "206236",
                                    "1": "Don Winslow",
                                    "2": "The Power of the Dog",
                                    "3": "4.36"
                                },
                                {
                                    "0": "93371",
                                    "1": "Katsuhiro Otomo, Yoko Umezawa, Linda M. York, Jo Duffy",
                                    "2": "Akira, Vol. 1",
                                    "3": "4.36"
                                },
                                {
                                    "0": "6609490",
                                    "1": "Annette Pollert, L.J. Smith",
                                    "2": "Night World: The Ultimate Fan Guide",
                                    "3": "4.36"
                                },
                                {
                                    "0": "84144",
                                    "1": "Sherrilyn Kenyon",
                                    "2": "Seize the Night (Dark-Hunter #6)",
                                    "3": "4.36"
                                },
                                {
                                    "0": "18301124",
                                    "1": "Amy Harmon",
                                    "2": "Making Faces",
                                    "3": "4.36"
                                },
                                {
                                    "0": "747061",
                                    "1": "The Church of Jesus Christ of Latter-day Saints",
                                    "2": "Book of Mormon, Doctrine and Covenants, Pearl of Great Price",
                                    "3": "4.36"
                                },
                                {
                                    "0": "5693",
                                    "1": "Anton Chekhov, Richard Pevear, Larissa Volokhonsky",
                                    "2": "Selected Stories",
                                    "3": "4.36"
                                },
                                {
                                    "0": "11433",
                                    "1": "Karen Kingsbury, Gary Smalley",
                                    "2": "Redemption (Redemption, #1)",
                                    "3": "4.36"
                                },
                                {
                                    "0": "765281",
                                    "1": "Teddy Slater, Bill Langley, Ron Dias, Walt Disney Company",
                                    "2": "Lady and the Tramp",
                                    "3": "4.36"
                                },
                                {
                                    "0": "30071",
                                    "1": "Robert Kirkman, Tony Moore, Charlie Adlard, Cliff Rathburn",
                                    "2": "The Walking Dead, Book One (The Walking Dead #1-12)",
                                    "3": "4.36"
                                },
                                {
                                    "0": "275000",
                                    "1": "Erin Hunter",
                                    "2": "Fire and Ice (Warriors, #2)",
                                    "3": "4.36"
                                },
                                {
                                    "0": "29394",
                                    "1": "Jim Butcher",
                                    "2": "Cursor's Fury (Codex Alera, #3)",
                                    "3": "4.36"
                                },
                                {
                                    "0": "154424",
                                    "1": "Vince Flynn",
                                    "2": "Consent to Kill (Mitch Rapp, #8)",
                                    "3": "4.36"
                                },
                                {
                                    "0": "9876989",
                                    "1": "Kazue Kato, John Werry",
                                    "2": "Blue Exorcist, Vol. 1  (Blue Exorcist, #1)",
                                    "3": "4.36"
                                },
                                {
                                    "0": "21484",
                                    "1": "Herman Wouk",
                                    "2": "The Winds of War (The Henry Family, #1)",
                                    "3": "4.36"
                                },
                                {
                                    "0": "25614492",
                                    "1": "Ruta Sepetys",
                                    "2": "Salt to the Sea",
                                    "3": "4.36"
                                },
                                {
                                    "0": "84151",
                                    "1": "Sherrilyn Kenyon",
                                    "2": "Night Play (Dark-Hunter #5, Were-Hunter #1)",
                                    "3": "4.36"
                                },
                                {
                                    "0": "113946",
                                    "1": "Dr. Seuss",
                                    "2": "How the Grinch Stole Christmas!",
                                    "3": "4.36"
                                },
                                {
                                    "0": "19063",
                                    "1": "Markus Zusak",
                                    "2": "The Book Thief",
                                    "3": "4.36"
                                },
                                {
                                    "0": "22034",
                                    "1": "Mario Puzo, Robert Thompson, Peter Bart",
                                    "2": "The Godfather",
                                    "3": "4.36"
                                },
                                {
                                    "0": "301736",
                                    "1": "Sam McBratney, Anita Jeram",
                                    "2": "Guess How Much I Love You",
                                    "3": "4.36"
                                },
                                {
                                    "0": "8621462",
                                    "1": "Patrick Ness, Jim Kay, Siobhan Dowd",
                                    "2": "A Monster Calls",
                                    "3": "4.36"
                                },
                                {
                                    "0": "96358",
                                    "1": "Alan Moore, Brian Bolland, Tim Sale",
                                    "2": "Batman: The Killing Joke",
                                    "3": "4.36"
                                },
                                {
                                    "0": "1087204",
                                    "1": "Bisco Hatori",
                                    "2": "Ouran High School Host Club, Vol. 1 (Ouran High School Host Club, #1)",
                                    "3": "4.36"
                                },
                                {
                                    "0": "139069",
                                    "1": "Alfred Lansing",
                                    "2": "Endurance: Shackleton's Incredible Voyage",
                                    "3": "4.36"
                                },
                                {
                                    "0": "400354",
                                    "1": "Terry Pratchett",
                                    "2": "Men at Arms (Discworld, #15; City Watch #2)",
                                    "3": "4.36"
                                },
                                {
                                    "0": "19330",
                                    "1": "Beatrix Potter",
                                    "2": "The Complete Tales",
                                    "3": "4.36"
                                },
                                {
                                    "0": "64222",
                                    "1": "Terry Pratchett",
                                    "2": "Going Postal (Discworld, #33; Moist von Lipwig, #1)",
                                    "3": "4.36"
                                },
                                {
                                    "0": "196970",
                                    "1": "Clement C. Moore, Jan Brett",
                                    "2": "The Night Before Christmas",
                                    "3": "4.36"
                                },
                                {
                                    "0": "7824322",
                                    "1": "Ruta Sepetys",
                                    "2": "Between Shades of Gray",
                                    "3": "4.36"
                                },
                                {
                                    "0": "1412138",
                                    "1": "Patricia Briggs",
                                    "2": "Iron Kissed (Mercy Thompson, #3)",
                                    "3": "4.36"
                                },
                                {
                                    "0": "776407",
                                    "1": "A.A. Milne, Ernest H. Shepard",
                                    "2": "The House at Pooh Corner (Winnie-the-Pooh, #2)",
                                    "3": "4.36"
                                },
                                {
                                    "0": "991197",
                                    "1": "Marjane Satrapi, Mattias Ripa, Blake Ferris, Anjali Singh",
                                    "2": "The Complete Persepolis",
                                    "3": "4.36"
                                },
                                {
                                    "0": "8709523",
                                    "1": "Richelle Mead",
                                    "2": "The Golden Lily (Bloodlines, #2)",
                                    "3": "4.36"
                                },
                                {
                                    "0": "7723542",
                                    "1": "W. Bruce Cameron",
                                    "2": "A Dog's Purpose (A Dog's Purpose, #1)",
                                    "3": "4.35"
                                },
                                {
                                    "0": "28587957",
                                    "1": "Jodi Picoult",
                                    "2": "Small Great Things",
                                    "3": "4.35"
                                },
                                {
                                    "0": "5217282",
                                    "1": "Brandon Mull",
                                    "2": "Secrets of the Dragon Sanctuary (Fablehaven, #4)",
                                    "3": "4.35"
                                },
                                {
                                    "0": "53764",
                                    "1": "Frank Herbert",
                                    "2": "The Great Dune Trilogy  ",
                                    "3": "4.35"
                                },
                                {
                                    "0": "773951",
                                    "1": "Munro Leaf, Robert Lawson",
                                    "2": "The Story of Ferdinand",
                                    "3": "4.35"
                                },
                                {
                                    "0": "55030",
                                    "1": "Carl Sagan",
                                    "2": "Cosmos",
                                    "3": "4.35"
                                },
                                {
                                    "0": "10993282",
                                    "1": "J.R. Ward",
                                    "2": "Lover Reborn (Black Dagger Brotherhood, #10)",
                                    "3": "4.35"
                                },
                                {
                                    "0": "32552",
                                    "1": "Edgar Allan Poe, Benjamin F. Fisher",
                                    "2": "Essential Tales and Poems",
                                    "3": "4.35"
                                },
                                {
                                    "0": "348225",
                                    "1": "Nancy E. Turner",
                                    "2": "These Is My Words: The Diary of Sarah Agnes Prine, 1881-1901, Arizona Territories (Sarah Agnes Prine, #1)",
                                    "3": "4.35"
                                },
                                {
                                    "0": "204042",
                                    "1": "Masashi Kishimoto, Katy Bridges",
                                    "2": "Naruto, Vol. 01: The Tests of the Ninja (Naruto, #1)",
                                    "3": "4.35"
                                },
                                {
                                    "0": "68429",
                                    "1": "Brandon Sanderson",
                                    "2": "The Well of Ascension (Mistborn, #2)",
                                    "3": "4.35"
                                },
                                {
                                    "0": "35729",
                                    "1": "J.R. Ward",
                                    "2": "Lover Eternal (Black Dagger Brotherhood, #2)",
                                    "3": "4.35"
                                },
                                {
                                    "0": "4406",
                                    "1": "John Steinbeck",
                                    "2": "East of Eden",
                                    "3": "4.35"
                                },
                                {
                                    "0": "7736182",
                                    "1": "Rick Riordan",
                                    "2": "The Lost Hero (The Heroes of Olympus, #1)",
                                    "3": "4.35"
                                },
                                {
                                    "0": "472331",
                                    "1": "Alan Moore, Dave Gibbons, John Higgins",
                                    "2": "Watchmen",
                                    "3": "4.35"
                                },
                                {
                                    "0": "7784",
                                    "1": "Dr. Seuss",
                                    "2": "The Lorax",
                                    "3": "4.35"
                                },
                                {
                                    "0": "5996153",
                                    "1": "Richelle Mead",
                                    "2": "Blood Promise (Vampire Academy, #4)",
                                    "3": "4.35"
                                },
                                {
                                    "0": "18774964",
                                    "1": "Fredrik Backman, Henning Koch",
                                    "2": "A Man Called Ove",
                                    "3": "4.35"
                                },
                                {
                                    "0": "15196",
                                    "1": "Art Spiegelman",
                                    "2": "Maus I: A Survivor's Tale: My Father Bleeds History (Maus, #1)",
                                    "3": "4.35"
                                },
                                {
                                    "0": "13413589",
                                    "1": "Patricia Briggs",
                                    "2": "Frost Burned (Mercy Thompson, #7)",
                                    "3": "4.35"
                                },
                                {
                                    "0": "6339304",
                                    "1": "Vince Flynn",
                                    "2": "Pursuit of Honor (Mitch Rapp, #12)",
                                    "3": "4.35"
                                },
                                {
                                    "0": "4983",
                                    "1": "Harold Bloom, Terry Southern, David H. Goldsmith, James Lundquist, Lawrence R. Broer, Peter J. Reed, Loree Rackstraw, William S. Doxey, Jerome Klinkowitz, Richard Giannone, John L. Simons, Leonard Mustazza, Zoltan Ab di-Nagy, Peter Freese, Wendy B. Faris",
                                    "2": "Kurt Vonnegut's Cat's Cradle (Modern Critical Interpretations)",
                                    "3": "4.35"
                                },
                                {
                                    "0": "2903736",
                                    "1": "Jim Butcher",
                                    "2": "Princeps' Fury (Codex Alera, #5)",
                                    "3": "4.35"
                                },
                                {
                                    "0": "174834",
                                    "1": "Dietrich Bonhoeffer",
                                    "2": "The Cost of Discipleship",
                                    "3": "4.35"
                                },
                                {
                                    "0": "4692",
                                    "1": "Noah Gordon",
                                    "2": "The Physician (Cole Family Trilogy, #1)",
                                    "3": "4.35"
                                },
                                {
                                    "0": "7576115",
                                    "1": "Terry Pratchett",
                                    "2": "I Shall Wear Midnight (Discworld, #38; Tiffany Aching, #4)",
                                    "3": "4.35"
                                },
                                {
                                    "0": "10790277",
                                    "1": "Michael J. Sullivan",
                                    "2": "Rise of Empire (The Riyria Revelations, #3-4)",
                                    "3": "4.35"
                                },
                                {
                                    "0": "10560331",
                                    "1": "Ally Carter",
                                    "2": "Out of Sight, Out of Time (Gallagher Girls, #5)",
                                    "3": "4.35"
                                },
                                {
                                    "0": "3475268",
                                    "1": "Kim Harrison",
                                    "2": "White Witch, Black Curse (The Hollows, #7)",
                                    "3": "4.35"
                                },
                                {
                                    "0": "19288321",
                                    "1": "Robin Hobb",
                                    "2": "Fool's Assassin (The Fitz and the Fool, #1)",
                                    "3": "4.35"
                                },
                                {
                                    "0": "17608111",
                                    "1": "Brian  McClellan",
                                    "2": "The Crimson Campaign (Powder Mage, #2)",
                                    "3": "4.35"
                                },
                                {
                                    "0": "16007855",
                                    "1": "Wendy Higgins",
                                    "2": "Sweet Reckoning (Sweet, #3)",
                                    "3": "4.35"
                                },
                                {
                                    "0": "197459",
                                    "1": "Erin Hunter",
                                    "2": "Sunset (Warriors: The New Prophecy, #6)",
                                    "3": "4.35"
                                },
                                {
                                    "0": "7715664",
                                    "1": "Larissa Ione",
                                    "2": "Sin Undone (Demonica #5)",
                                    "3": "4.35"
                                },
                                {
                                    "0": "25776210",
                                    "1": "Patricia Briggs",
                                    "2": "Fire Touched (Mercy Thompson, #9)",
                                    "3": "4.35"
                                },
                                {
                                    "0": "21420473",
                                    "1": "Laurelin Paige",
                                    "2": "The Fixed Trilogy (Fixed, #1-3)",
                                    "3": "4.35"
                                },
                                {
                                    "0": "116295",
                                    "1": "Stephen Briggs, Terry Pratchett",
                                    "2": "Guards! Guards!: The Play",
                                    "3": "4.35"
                                },
                                {
                                    "0": "197512",
                                    "1": "Mo Willems",
                                    "2": "The Pigeon Finds a Hot Dog!",
                                    "3": "4.35"
                                },
                                {
                                    "0": "172691",
                                    "1": "J.D. Robb",
                                    "2": "Conspiracy in Death (In Death, #8)",
                                    "3": "4.35"
                                },
                                {
                                    "0": "18115061",
                                    "1": "Samantha Young",
                                    "2": "Before Jamaica Lane (On Dublin Street, #3)",
                                    "3": "4.35"
                                },
                                {
                                    "0": "3585344",
                                    "1": "Kresley Cole",
                                    "2": "Kiss of a Demon King (Immortals After Dark #7)",
                                    "3": "4.35"
                                },
                                {
                                    "0": "26596",
                                    "1": "E.E. Cummings",
                                    "2": "Complete Poems, 1904-1962",
                                    "3": "4.35"
                                },
                                {
                                    "0": "7849341",
                                    "1": "Colleen Houck",
                                    "2": "Tiger's Voyage (The Tiger Saga, #3)",
                                    "3": "4.35"
                                },
                                {
                                    "0": "191117",
                                    "1": "Mo Willems",
                                    "2": "Don't Let the Pigeon Stay Up Late!",
                                    "3": "4.35"
                                },
                                {
                                    "0": "9917945",
                                    "1": "Ellen Hopkins",
                                    "2": "Perfect (Impulse, #2)",
                                    "3": "4.35"
                                },
                                {
                                    "0": "13617",
                                    "1": "Tsugumi Ohba, Takeshi Obata",
                                    "2": "Death Note, Vol. 5: Whiteout (Death Note, #5)",
                                    "3": "4.35"
                                },
                                {
                                    "0": "138399",
                                    "1": "Robert Kirkman, Charlie Adlard",
                                    "2": "The Walking Dead, Book Two (The Walking Dead #13-24)",
                                    "3": "4.35"
                                },
                                {
                                    "0": "25337081",
                                    "1": "J.D. Robb",
                                    "2": "Brotherhood in Death (In Death, #42)",
                                    "3": "4.35"
                                },
                                {
                                    "0": "15801381",
                                    "1": "Brandon Mull",
                                    "2": "Chasing the Prophecy (Beyonders, #3)",
                                    "3": "4.35"
                                },
                                {
                                    "0": "9995135",
                                    "1": "Gena Showalter",
                                    "2": "The Darkest Seduction (Lords of the Underworld #9)",
                                    "3": "4.35"
                                },
                                {
                                    "0": "7942008",
                                    "1": "Hidekaz Himaruya",
                                    "2": "Hetalia: Axis Powers, Vol. 1 (Hetalia: Axis Powers, #1)",
                                    "3": "4.35"
                                },
                                {
                                    "0": "20883847",
                                    "1": "Brian  McClellan",
                                    "2": "The Autumn Republic (Powder Mage, #3)",
                                    "3": "4.35"
                                },
                                {
                                    "0": "24903031",
                                    "1": "J.R. Ward",
                                    "2": "Blood Kiss (Black Dagger Legacy, #1)",
                                    "3": "4.35"
                                },
                                {
                                    "0": "6692041",
                                    "1": "Susan Abulhawa",
                                    "2": "Mornings in Jenin",
                                    "3": "4.35"
                                },
                                {
                                    "0": "556629",
                                    "1": "R.C. Sproul",
                                    "2": "The Holiness of God",
                                    "3": "4.35"
                                },
                                {
                                    "0": "19312",
                                    "1": "Astrid Lindgren, Ilon Wikland, Jill M. Morgan",
                                    "2": "The Brothers Lionheart",
                                    "3": "4.35"
                                },
                                {
                                    "0": "22417",
                                    "1": "Warren Ellis, Darick Robertson",
                                    "2": "Transmetropolitan, Vol. 2: Lust for Life (Transmetropolitan, #2)",
                                    "3": "4.35"
                                },
                                {
                                    "0": "37377",
                                    "1": "Nancy Tillman",
                                    "2": "On the Night You Were Born",
                                    "3": "4.35"
                                },
                                {
                                    "0": "183092",
                                    "1": "Terri Blackstock",
                                    "2": "Night Light (Restoration #2)",
                                    "3": "4.35"
                                },
                                {
                                    "0": "77431",
                                    "1": "Patrick O'Brian",
                                    "2": "The Mauritius Command",
                                    "3": "4.35"
                                },
                                {
                                    "0": "5295735",
                                    "1": "Naguib Mahfouz, نجيب محفوظ",
                                    "2": "الحرافيش",
                                    "3": "4.34"
                                },
                                {
                                    "0": "22474626",
                                    "1": "Meredith Wild",
                                    "2": "Hard Limit (Hacker, #4)",
                                    "3": "4.34"
                                },
                                {
                                    "0": "50091",
                                    "1": "Isaac Asimov",
                                    "2": "The Complete Robot (Robot #0.3)",
                                    "3": "4.34"
                                },
                                {
                                    "0": "17853024",
                                    "1": "Bernard Cornwell",
                                    "2": "The Pagan Lord (The Saxon Stories, #7)",
                                    "3": "4.34"
                                },
                                {
                                    "0": "32848471",
                                    "1": "Vi Keeland",
                                    "2": "Egomaniac",
                                    "3": "4.34"
                                },
                                {
                                    "0": "17352874",
                                    "1": "R.L. Mathewson",
                                    "2": "Truce (Neighbor from Hell, #4)",
                                    "3": "4.34"
                                },
                                {
                                    "0": "182683",
                                    "1": "Karen Kingsbury",
                                    "2": "Fame (Firstborn, #1)",
                                    "3": "4.34"
                                },
                                {
                                    "0": "229149",
                                    "1": "CLAMP, Anita Sengupta",
                                    "2": "Cardcaptor Sakura: Master of the Clow, Vol. 1 (Cardcaptor Sakura, #7)",
                                    "3": "4.34"
                                },
                                {
                                    "0": "68455",
                                    "1": "Andrzej Sapkowski",
                                    "2": "Wieża Jaskółki (Saga o Wiedźminie, #6)",
                                    "3": "4.34"
                                },
                                {
                                    "0": "27213121",
                                    "1": "Daniel Silva",
                                    "2": "The Black Widow (Gabriel Allon, #16)",
                                    "3": "4.34"
                                },
                                {
                                    "0": "356824",
                                    "1": "Ramachandra Guha",
                                    "2": "India After Gandhi: The History of the World's Largest Democracy",
                                    "3": "4.34"
                                },
                                {
                                    "0": "270435",
                                    "1": "Louise L. Hay",
                                    "2": "Heal Your Body: The Mental Causes for Physical Illness and the Metaphysical Way to Overcome Them",
                                    "3": "4.34"
                                },
                                {
                                    "0": "184324",
                                    "1": "Christine Feehan",
                                    "2": "Dark Demon (Dark, #16)",
                                    "3": "4.34"
                                },
                                {
                                    "0": "10822174",
                                    "1": "Robert Kirkman, Charlie Adlard, Cliff Rathburn",
                                    "2": "The Walking Dead, Vol. 14: No Way Out",
                                    "3": "4.34"
                                },
                                {
                                    "0": "238139",
                                    "1": "J.D. Robb",
                                    "2": "Imitation in Death (In Death, #17)",
                                    "3": "4.34"
                                },
                                {
                                    "0": "20821299",
                                    "1": "B.J. Novak",
                                    "2": "The Book with No Pictures",
                                    "3": "4.34"
                                },
                                {
                                    "0": "78629",
                                    "1": "Richard Wurmbrand",
                                    "2": "Tortured for Christ N/E",
                                    "3": "4.34"
                                },
                                {
                                    "0": "1566705",
                                    "1": "J.D. Robb",
                                    "2": "Creation in Death (In Death, #25)",
                                    "3": "4.34"
                                },
                                {
                                    "0": "210243",
                                    "1": "J.D. Robb",
                                    "2": "Origin in Death (In Death, #21)",
                                    "3": "4.34"
                                },
                                {
                                    "0": "511240",
                                    "1": "Kiyohiko Azuma, あずま きよひこ",
                                    "2": "Yotsuba&!, Vol. 01 (Yotsuba&! #1)",
                                    "3": "4.34"
                                },
                                {
                                    "0": "8142508",
                                    "1": "Francine Rivers",
                                    "2": "Her Daughter's Dream (Marta's Legacy, #2)",
                                    "3": "4.34"
                                },
                                {
                                    "0": "836606",
                                    "1": "Natsuki Takaya, Alethea Nibley, Athena Nibley",
                                    "2": "Fruits Basket, Vol. 2",
                                    "3": "4.34"
                                },
                                {
                                    "0": "20705702",
                                    "1": "Ilona Andrews",
                                    "2": "Burn for Me (Hidden Legacy, #1)",
                                    "3": "4.34"
                                },
                                {
                                    "0": "22886868",
                                    "1": "Terry Pratchett",
                                    "2": "The Shepherd's Crown (Discworld, #41; Tiffany Aching, #5)",
                                    "3": "4.34"
                                },
                                {
                                    "0": "11851522",
                                    "1": "H.P. Lovecraft",
                                    "2": "The Complete Works of H.P. Lovecraft",
                                    "3": "4.34"
                                },
                                {
                                    "0": "2202230",
                                    "1": "Brian K. Vaughan, Pia Guerra, José Marzán Jr.",
                                    "2": "Y: The Last Man, Vol. 10: Whys and Wherefores (Y: The Last Man, #10)",
                                    "3": "4.34"
                                },
                                {
                                    "0": "132778",
                                    "1": "J.D. Robb",
                                    "2": "Vengeance in Death (In Death, #6)",
                                    "3": "4.34"
                                },
                                {
                                    "0": "112752",
                                    "1": "Karen Marie Moning",
                                    "2": "The Immortal Highlander (Highlander, #6)",
                                    "3": "4.34"
                                },
                                {
                                    "0": "769212",
                                    "1": "Willy Lindwer",
                                    "2": "The Last Seven Months of Anne Frank",
                                    "3": "4.34"
                                },
                                {
                                    "0": "459064",
                                    "1": "Steven Erikson",
                                    "2": "Reaper's Gale (The Malazan Book of the Fallen, #7)",
                                    "3": "4.34"
                                },
                                {
                                    "0": "7942786",
                                    "1": "Patricia Briggs",
                                    "2": "Fair Game (Alpha & Omega, #3)",
                                    "3": "4.34"
                                },
                                {
                                    "0": "14572",
                                    "1": "Thich Nhat Hanh, Arnold Kotler, Dalai Lama XIV",
                                    "2": "Peace Is Every Step: The Path of Mindfulness in Everyday Life",
                                    "3": "4.34"
                                },
                                {
                                    "0": "22904",
                                    "1": "Franz Kafka, Nahum N. Glatzer, John Updike, Willa Muir, Edwin Muir, Tania Stern, James Stern, Ernst Kaiser, Eithne Wilkins",
                                    "2": "The Complete Stories",
                                    "3": "4.34"
                                },
                                {
                                    "0": "7783920",
                                    "1": "Rob Buyea",
                                    "2": "Because of Mr. Terupt",
                                    "3": "4.34"
                                },
                                {
                                    "0": "1279686",
                                    "1": "Conn Iggulden",
                                    "2": "Genghis: Birth of an Empire (Conqueror, #1)",
                                    "3": "4.34"
                                },
                                {
                                    "0": "84139",
                                    "1": "Sherrilyn Kenyon",
                                    "2": "Unleash the Night (Dark Hunter, #8; Were-Hunter, #2)",
                                    "3": "4.34"
                                },
                                {
                                    "0": "345299",
                                    "1": "Steven Erikson",
                                    "2": "Midnight Tides (The Malazan Book of the Fallen, #5)",
                                    "3": "4.34"
                                },
                                {
                                    "0": "437885",
                                    "1": "Diane Muldrow",
                                    "2": "Frosty the Snowman (Frosty the Snowman)",
                                    "3": "4.34"
                                },
                                {
                                    "0": "102957",
                                    "1": "Garth Ennis, Steve Dillon, Peter Snejbjerg",
                                    "2": "Preacher, Volume 6: War in the Sun",
                                    "3": "4.34"
                                },
                                {
                                    "0": "7469664",
                                    "1": "Robert Kirkman, Charlie Adlard",
                                    "2": "The Walking Dead, Vol. 12: Life Among Them",
                                    "3": "4.34"
                                },
                                {
                                    "0": "47720",
                                    "1": "Neil Gaiman, Barron Storey, Bill Sienkiewicz, Glenn Fabry, Dave McKean, P. Craig Russell, Milo Manara, Miguelanxo Prado, Frank Quitely, Todd Klein",
                                    "2": "The Sandman: Endless Nights",
                                    "3": "4.34"
                                },
                                {
                                    "0": "29367958",
                                    "1": "Mariana Zapata",
                                    "2": "The Wall of Winnipeg and Me",
                                    "3": "4.34"
                                },
                                {
                                    "0": "6907672",
                                    "1": "Robin Furth, Stephen King, Peter Straub, Tony Shasteen, Nei Ruffino",
                                    "2": "The Talisman (Volume 1): The Road of Trials",
                                    "3": "4.34"
                                },
                                {
                                    "0": "13573622",
                                    "1": "Vince Flynn",
                                    "2": "The Last Man (Mitch Rapp, #13)",
                                    "3": "4.34"
                                },
                                {
                                    "0": "833549",
                                    "1": "Arnold Lobel",
                                    "2": "Frog and Toad All Year (Frog and Toad, #3)",
                                    "3": "4.34"
                                },
                                {
                                    "0": "25558608",
                                    "1": "Sabaa Tahir",
                                    "2": "A Torch Against the Night (An Ember in the Ashes, #2)",
                                    "3": "4.34"
                                },
                                {
                                    "0": "13235",
                                    "1": "Lewis Carroll",
                                    "2": "The Complete Stories and Poems",
                                    "3": "4.34"
                                },
                                {
                                    "0": "9662386",
                                    "1": "Colleen Houck",
                                    "2": "Tiger's Quest (The Tiger Saga, #2)",
                                    "3": "4.34"
                                },
                                {
                                    "0": "7801229",
                                    "1": "Cinda Williams Chima",
                                    "2": "The Exiled Queen (Seven Realms, #2)",
                                    "3": "4.34"
                                },
                                {
                                    "0": "46199",
                                    "1": "Rainer Maria Rilke, Reginald Snell, Franz Xaver Kappus",
                                    "2": "Letters to a Young Poet",
                                    "3": "4.34"
                                },
                                {
                                    "0": "12820360",
                                    "1": "Julianne Donaldson",
                                    "2": "Edenbrooke (Edenbrooke, #1)",
                                    "3": "4.34"
                                },
                                {
                                    "0": "504420",
                                    "1": "Vince Flynn",
                                    "2": "Protect and Defend (Mitch Rapp, #10)",
                                    "3": "4.34"
                                },
                                {
                                    "0": "5604848",
                                    "1": "Jeaniene Frost",
                                    "2": "Destined for an Early Grave (Night Huntress, #4)",
                                    "3": "4.34"
                                },
                                {
                                    "0": "16151178",
                                    "1": "Katja Millay",
                                    "2": "The Sea of Tranquility",
                                    "3": "4.34"
                                },
                                {
                                    "0": "83144",
                                    "1": "Paullina Simons",
                                    "2": "The Bronze Horseman (The Bronze Horseman, #1)",
                                    "3": "4.34"
                                },
                                {
                                    "0": "9761771",
                                    "1": "Jennifer L. Armentrout",
                                    "2": "Pure (Covenant, #2)",
                                    "3": "4.34"
                                },
                                {
                                    "0": "15717943",
                                    "1": "Colleen Hoover",
                                    "2": "Hopeless (Hopeless, #1)",
                                    "3": "4.34"
                                },
                                {
                                    "0": "99107",
                                    "1": "A.A. Milne, Ernest H. Shepard",
                                    "2": "Winnie-the-Pooh (Winnie-the-Pooh, #1)",
                                    "3": "4.34"
                                },
                                {
                                    "0": "191139",
                                    "1": "Dr. Seuss",
                                    "2": "Oh, The Places You'll Go!",
                                    "3": "4.34"
                                },
                                {
                                    "0": "30118",
                                    "1": "Shel Silverstein",
                                    "2": "A Light in the Attic",
                                    "3": "4.34"
                                },
                                {
                                    "0": "149267",
                                    "1": "Stephen King, Bernie Wrightson",
                                    "2": "The Stand",
                                    "3": "4.34"
                                },
                                {
                                    "0": "128029",
                                    "1": "Khaled Hosseini",
                                    "2": "A Thousand Splendid Suns",
                                    "3": "4.34"
                                },
                                {
                                    "0": "34",
                                    "1": "J.R.R. Tolkien",
                                    "2": "The Fellowship of the Ring (The Lord of the Rings, #1)",
                                    "3": "4.34"
                                },
                                {
                                    "0": "2767052",
                                    "1": "Suzanne Collins",
                                    "2": "The Hunger Games (The Hunger Games, #1)",
                                    "3": "4.34"
                                },
                                {
                                    "0": "3777732",
                                    "1": "Cassandra Clare",
                                    "2": "City of Glass (The Mortal Instruments, #3)",
                                    "3": "4.34"
                                },
                                {
                                    "0": "1166599",
                                    "1": "Robert Jordan, Brandon Sanderson",
                                    "2": "The Gathering Storm (Wheel of Time, #12)",
                                    "3": "4.34"
                                },
                                {
                                    "0": "6466909",
                                    "1": "Mark Cotta Vaz",
                                    "2": "New Moon: The Complete Illustrated Movie Companion (The Twilight Saga: The Official Illustrated Movie Companion, #2)",
                                    "3": "4.34"
                                },
                                {
                                    "0": "310259",
                                    "1": "Robert Munsch, Sheila McGraw",
                                    "2": "Love You Forever",
                                    "3": "4.34"
                                },
                                {
                                    "0": "5211",
                                    "1": "Rohinton Mistry",
                                    "2": "A Fine Balance",
                                    "3": "4.34"
                                },
                                {
                                    "0": "39662",
                                    "1": "Stephen King",
                                    "2": "Different Seasons",
                                    "3": "4.34"
                                },
                                {
                                    "0": "375013",
                                    "1": "Thomas Keneally",
                                    "2": "Schindler's List",
                                    "3": "4.34"
                                },
                                {
                                    "0": "10988",
                                    "1": "Diana Gabaldon",
                                    "2": "Drums of Autumn (Outlander, #4)",
                                    "3": "4.34"
                                },
                                {
                                    "0": "2702704",
                                    "1": "Karen Marie Moning",
                                    "2": "Faefever (Fever, #3)",
                                    "3": "4.34"
                                },
                                {
                                    "0": "3128411",
                                    "1": "Patricia Briggs",
                                    "2": "Bone Crossed (Mercy Thompson, #4)",
                                    "3": "4.34"
                                },
                                {
                                    "0": "646462",
                                    "1": "Anonymous",
                                    "2": "The Qur'an / القرآن الكريم",
                                    "3": "4.34"
                                },
                                {
                                    "0": "2241059",
                                    "1": "Ellen Hopkins",
                                    "2": "Identical",
                                    "3": "4.34"
                                },
                                {
                                    "0": "37186",
                                    "1": "Kate DiCamillo, Bagram Ibatoulline",
                                    "2": "The Miraculous Journey of Edward Tulane",
                                    "3": "4.34"
                                },
                                {
                                    "0": "12000020",
                                    "1": "Benjamin Alire Sáenz",
                                    "2": "Aristotle and Dante Discover the Secrets of the Universe (Aristotle and Dante Discover the Secrets of the Universe, #1)",
                                    "3": "4.34"
                                },
                                {
                                    "0": "147074",
                                    "1": "Janet Evanovich",
                                    "2": "Janet Evanovich Three and Four Two-Book Set (Stephanie Plum, #3-4)",
                                    "3": "4.34"
                                },
                                {
                                    "0": "122",
                                    "1": "Bryce Courtenay",
                                    "2": "The Power of One (The Power of One, #1)",
                                    "3": "4.34"
                                },
                                {
                                    "0": "13362536",
                                    "1": "Jennifer L. Armentrout",
                                    "2": "Opal (Lux, #3)",
                                    "3": "4.34"
                                },
                                {
                                    "0": "711901",
                                    "1": "Marcus Luttrell, Patrick Robinson",
                                    "2": "Lone Survivor: The Eyewitness Account of Operation Redwing and the Lost Heroes of SEAL Team 10",
                                    "3": "4.34"
                                },
                                {
                                    "0": "304027",
                                    "1": "J.R. Ward",
                                    "2": "Lover Unbound (Black Dagger Brotherhood, #5)",
                                    "3": "4.33"
                                },
                                {
                                    "0": "99383",
                                    "1": "Jim Butcher",
                                    "2": "Blood Rites (The Dresden Files, #6)",
                                    "3": "4.33"
                                },
                                {
                                    "0": "42697",
                                    "1": "Leon Uris",
                                    "2": "Exodus",
                                    "3": "4.33"
                                },
                                {
                                    "0": "13047090",
                                    "1": "Jennifer L. Armentrout",
                                    "2": "Onyx (Lux, #2)",
                                    "3": "4.33"
                                },
                                {
                                    "0": "13454149",
                                    "1": "Rebecca Donovan",
                                    "2": "Barely Breathing (Breathing, #2)",
                                    "3": "4.33"
                                },
                                {
                                    "0": "13360",
                                    "1": "Joyce Meyer",
                                    "2": "Battlefield of the Mind: Winning the Battle in Your Mind",
                                    "3": "4.33"
                                },
                                {
                                    "0": "13643567",
                                    "1": "Michelle Hodkin",
                                    "2": "The Evolution of Mara Dyer (Mara Dyer, #2)",
                                    "3": "4.33"
                                },
                                {
                                    "0": "114345",
                                    "1": "Laura Ingalls Wilder, Garth Williams",
                                    "2": "The Little House Collection (Little House, #1-9)",
                                    "3": "4.33"
                                },
                                {
                                    "0": "30120",
                                    "1": "Shel Silverstein",
                                    "2": "Falling Up",
                                    "3": "4.33"
                                },
                                {
                                    "0": "24445517",
                                    "1": "Colleen Hoover",
                                    "2": "Maybe Someday (Maybe, #1)",
                                    "3": "4.33"
                                },
                                {
                                    "0": "7171637",
                                    "1": "Cassandra Clare",
                                    "2": "Clockwork Angel (The Infernal Devices, #1)",
                                    "3": "4.33"
                                },
                                {
                                    "0": "561456",
                                    "1": "Rick Riordan",
                                    "2": "The Titan's Curse (Percy Jackson and the Olympians, #3)",
                                    "3": "4.33"
                                },
                                {
                                    "0": "13596809",
                                    "1": "Sylvia Day",
                                    "2": "Reflected in You (Crossfire, #2)",
                                    "3": "4.33"
                                },
                                {
                                    "0": "4069",
                                    "1": "Viktor E. Frankl",
                                    "2": "Man's Search for Meaning",
                                    "3": "4.33"
                                },
                                {
                                    "0": "777211",
                                    "1": "Vince Flynn",
                                    "2": "Executive Power (Mitch Rapp, #6)",
                                    "3": "4.33"
                                },
                                {
                                    "0": "920607",
                                    "1": "Shaun Tan",
                                    "2": "The Arrival",
                                    "3": "4.33"
                                },
                                {
                                    "0": "13578175",
                                    "1": "Brandon Sanderson",
                                    "2": "The Emperor's Soul",
                                    "3": "4.33"
                                },
                                {
                                    "0": "16150830",
                                    "1": "Alexandra Bracken",
                                    "2": "Never Fade (The Darkest Minds, #2)",
                                    "3": "4.33"
                                },
                                {
                                    "0": "30259",
                                    "1": "Kim Harrison",
                                    "2": "For a Few Demons More (The Hollows, #5)",
                                    "3": "4.33"
                                },
                                {
                                    "0": "1811543",
                                    "1": "Ilona Andrews",
                                    "2": "Magic Burns (Kate Daniels, #2)",
                                    "3": "4.33"
                                },
                                {
                                    "0": "129650",
                                    "1": "Julia Child, Simone Beck, Louisette Bertholle",
                                    "2": "Mastering the Art of French Cooking",
                                    "3": "4.33"
                                },
                                {
                                    "0": "294963",
                                    "1": "Nobuhiro Watsuki, Kenichiro Yagi",
                                    "2": "Rurouni Kenshin, Vol. 1: Meiji Swordsman Romantic Story (Rurouni Kenshin, #1)",
                                    "3": "4.33"
                                },
                                {
                                    "0": "1814843",
                                    "1": "John Flanagan",
                                    "2": "The Siege of Macindaw (Ranger's Apprentice, #6)",
                                    "3": "4.33"
                                },
                                {
                                    "0": "5932",
                                    "1": "Pablo Neruda, W.S. Merwin, Cristina García",
                                    "2": "Twenty Love Poems and a Song of Despair",
                                    "3": "4.33"
                                },
                                {
                                    "0": "178357",
                                    "1": "David Sedaris",
                                    "2": "SantaLand Diaries",
                                    "3": "4.33"
                                },
                                {
                                    "0": "1001896",
                                    "1": "Blanche Fisher Wright",
                                    "2": "The Real Mother Goose",
                                    "3": "4.33"
                                },
                                {
                                    "0": "5509920",
                                    "1": "Gena Showalter",
                                    "2": "The Darkest Whisper (Lords of the Underworld #4)",
                                    "3": "4.33"
                                },
                                {
                                    "0": "12866426",
                                    "1": "C.C. Hunter",
                                    "2": "Taken at Dusk (Shadow Falls, #3)",
                                    "3": "4.33"
                                },
                                {
                                    "0": "26252859",
                                    "1": "Rick Riordan",
                                    "2": "The Hidden Oracle (The Trials of Apollo, #1)",
                                    "3": "4.33"
                                },
                                {
                                    "0": "24215",
                                    "1": "Robert Sabuda, Lewis Carroll",
                                    "2": "Alice's Adventures in Wonderland: A Pop-Up Adaptation",
                                    "3": "4.33"
                                },
                                {
                                    "0": "20764879",
                                    "1": "V.E. Schwab, Victoria Schwab",
                                    "2": "A Gathering of Shadows (Shades of Magic, #2)",
                                    "3": "4.33"
                                },
                                {
                                    "0": "279692",
                                    "1": "Harry Allard, James  Marshall",
                                    "2": "Miss Nelson Is Back (Miss Nelson, #2)",
                                    "3": "4.33"
                                },
                                {
                                    "0": "68418",
                                    "1": "R.A. Salvatore",
                                    "2": "The Dark Elf Trilogy Collector's Edition (Forgotten Realms: Dark Elf Trilogy, #1-3; Legend of Drizzt, #1-3)",
                                    "3": "4.33"
                                },
                                {
                                    "0": "79421",
                                    "1": "Paul Hattaway, Brother Yun",
                                    "2": "The Heavenly Man: The Remarkable True Story of Chinese Christian Brother Yun",
                                    "3": "4.33"
                                },
                                {
                                    "0": "89160",
                                    "1": "J.D. Robb, Nora Roberts",
                                    "2": "Judgment in Death (In Death, #11)",
                                    "3": "4.33"
                                },
                                {
                                    "0": "17377032",
                                    "1": "R.K. Lilley",
                                    "2": "Bad Things (Tristan & Danika, #1)",
                                    "3": "4.33"
                                },
                                {
                                    "0": "107776",
                                    "1": "Julie Garwood",
                                    "2": "Ransom (Highlands' Lairds, #2)",
                                    "3": "4.33"
                                },
                                {
                                    "0": "16053316",
                                    "1": "Samantha Towle",
                                    "2": "Wethering the Storm (The Storm, #2)",
                                    "3": "4.33"
                                },
                                {
                                    "0": "129621",
                                    "1": "Judith McNaught",
                                    "2": "Almost Heaven (Sequels, #3)",
                                    "3": "4.33"
                                },
                                {
                                    "0": "938544",
                                    "1": "Steven Erikson",
                                    "2": "Toll the Hounds (The Malazan Book of the Fallen, #8)",
                                    "3": "4.33"
                                },
                                {
                                    "0": "10762697",
                                    "1": "Robin Hobb",
                                    "2": "The Farseer Trilogy (Farseer Trilogy #1-3)",
                                    "3": "4.33"
                                },
                                {
                                    "0": "102958",
                                    "1": "Garth Ennis, Steve Dillon",
                                    "2": "Preacher, Volume 9: Alamo",
                                    "3": "4.33"
                                },
                                {
                                    "0": "7945049",
                                    "1": "Louise Penny",
                                    "2": "Bury Your Dead (Chief Inspector Armand Gamache, #6)",
                                    "3": "4.33"
                                },
                                {
                                    "0": "19095025",
                                    "1": "Kylie Scott",
                                    "2": "Play (Stage Dive, #2)",
                                    "3": "4.33"
                                },
                                {
                                    "0": "5989573",
                                    "1": "Bryan Lee O'Malley",
                                    "2": "Scott Pilgrim, Volume 5: Scott Pilgrim Vs. the Universe",
                                    "3": "4.33"
                                },
                                {
                                    "0": "21535019",
                                    "1": "Jeff Kinney",
                                    "2": "The Long Haul (Diary of a Wimpy Kid, #9)",
                                    "3": "4.33"
                                },
                                {
                                    "0": "13412515",
                                    "1": "Kristen Ashley",
                                    "2": "Law Man (Dream Man, #3)",
                                    "3": "4.33"
                                },
                                {
                                    "0": "17201095",
                                    "1": "Kristen Proby",
                                    "2": "Play with Me (With Me in Seattle, #3)",
                                    "3": "4.33"
                                },
                                {
                                    "0": "6277410",
                                    "1": "Kazu Kibuishi",
                                    "2": "The Stonekeeper's Curse (Amulet, #2)",
                                    "3": "4.33"
                                },
                                {
                                    "0": "252999",
                                    "1": "Christine Feehan",
                                    "2": "Dark Legend (Dark, #8)",
                                    "3": "4.33"
                                },
                                {
                                    "0": "238142",
                                    "1": "J.D. Robb",
                                    "2": "Visions in Death (In Death, #19)",
                                    "3": "4.33"
                                },
                                {
                                    "0": "238140",
                                    "1": "J.D. Robb",
                                    "2": "Reunion in Death (In Death, #14)",
                                    "3": "4.33"
                                },
                                {
                                    "0": "17257990",
                                    "1": "Kristen Ashley",
                                    "2": "Fire Inside (Chaos, #2)",
                                    "3": "4.33"
                                },
                                {
                                    "0": "238137",
                                    "1": "J.D. Robb",
                                    "2": "Purity in Death (In Death, #15)",
                                    "3": "4.33"
                                },
                                {
                                    "0": "94813",
                                    "1": "Christine Feehan",
                                    "2": "Dark Guardian (Dark, #9)",
                                    "3": "4.33"
                                },
                                {
                                    "0": "9366879",
                                    "1": "Tom Sniegoski, Jeff Smith, Thomas E. Sniegoski, Steve Hamaker",
                                    "2": "Bone: Quest for the Spark, Vol. 1",
                                    "3": "4.33"
                                },
                                {
                                    "0": "102857",
                                    "1": "J.D. Robb, Susan Ericksen",
                                    "2": "Born in Death (In Death, #23)",
                                    "3": "4.33"
                                },
                                {
                                    "0": "6488483",
                                    "1": "Robert Kirkman, Charlie Adlard, Cliff Rathburn",
                                    "2": "The Walking Dead, Vol. 11: Fear the Hunters",
                                    "3": "4.33"
                                },
                                {
                                    "0": "18687079",
                                    "1": "Gene Luen Yang, Michael Dante DiMartino, Bryan Konietzko, Gurihiru",
                                    "2": "Avatar: The Last Airbender (The Rift, #1)",
                                    "3": "4.33"
                                },
                                {
                                    "0": "129616",
                                    "1": "Judith McNaught",
                                    "2": "Something Wonderful (Sequels, #2)",
                                    "3": "4.33"
                                },
                                {
                                    "0": "17346698",
                                    "1": "John             Lewis, Andrew Aydin, Nate Powell",
                                    "2": "March: Book One (March, #1)",
                                    "3": "4.33"
                                },
                                {
                                    "0": "458034",
                                    "1": "Nalini Singh",
                                    "2": "Caressed by Ice (Psy-Changeling #3)",
                                    "3": "4.33"
                                },
                                {
                                    "0": "18138755",
                                    "1": "Laurelin Paige",
                                    "2": "Forever with You (Fixed, #3)",
                                    "3": "4.33"
                                },
                                {
                                    "0": "102955",
                                    "1": "Garth Ennis, Steve Dillon, John McCrea",
                                    "2": "Preacher, Volume 8: All Hell's a-Coming",
                                    "3": "4.33"
                                },
                                {
                                    "0": "2249196",
                                    "1": "Grant Morrison, Frank Quitely",
                                    "2": "All-Star Superman, Vol. 2",
                                    "3": "4.33"
                                },
                                {
                                    "0": "47957",
                                    "1": "Anne Bishop",
                                    "2": "Heir to the Shadows (The Black Jewels, #2)",
                                    "3": "4.33"
                                },
                                {
                                    "0": "8696",
                                    "1": "Douglas Adams, Mark Carwardine",
                                    "2": "Last Chance to See",
                                    "3": "4.33"
                                },
                                {
                                    "0": "17342700",
                                    "1": "Morgan Rhodes, Michelle Rowen",
                                    "2": "Gathering Darkness (Falling Kingdoms, #3)",
                                    "3": "4.33"
                                },
                                {
                                    "0": "22571696",
                                    "1": "J.D. Robb",
                                    "2": "Obsession in Death (In Death, #40)",
                                    "3": "4.33"
                                },
                                {
                                    "0": "96259",
                                    "1": "Richard Siken",
                                    "2": "Crush",
                                    "3": "4.33"
                                },
                                {
                                    "0": "18781543",
                                    "1": "Aurora Rose Reynolds",
                                    "2": "Until Nico (Until, #4)",
                                    "3": "4.33"
                                },
                                {
                                    "0": "106124",
                                    "1": "Jeff Smith, Steve Hamaker",
                                    "2": "The Dragonslayer (Bone, #4)",
                                    "3": "4.33"
                                },
                                {
                                    "0": "765193",
                                    "1": "Mary Hoffman, Caroline Binch",
                                    "2": "Amazing Grace",
                                    "3": "4.33"
                                },
                                {
                                    "0": "533675",
                                    "1": "Eugene Bradley Coco, Ron Dias",
                                    "2": "Pinocchio",
                                    "3": "4.33"
                                },
                                {
                                    "0": "17671913",
                                    "1": "Scott Snyder, Greg Capullo, Jonathan Glapion",
                                    "2": "Batman, Volume 3: Death of the Family",
                                    "3": "4.33"
                                },
                                {
                                    "0": "359463",
                                    "1": "Dee Henderson",
                                    "2": "Danger in the Shadows (O'Malley #0.5)",
                                    "3": "4.33"
                                },
                                {
                                    "0": "4769651",
                                    "1": "Michael Buckley, Peter Ferguson",
                                    "2": "The Everafter War (The Sisters Grimm, #7)",
                                    "3": "4.32"
                                },
                                {
                                    "0": "8803932",
                                    "1": "Rachel Vincent",
                                    "2": "If I Die (Soul Screamers, #5)",
                                    "3": "4.32"
                                },
                                {
                                    "0": "18232495",
                                    "1": "Joel C. Rosenberg",
                                    "2": "The Auschwitz Escape",
                                    "3": "4.32"
                                },
                                {
                                    "0": "6403690",
                                    "1": "Timothy J. Keller",
                                    "2": "Counterfeit Gods: The Empty Promises of Money, Sex, and Power, and the Only Hope that Matters",
                                    "3": "4.32"
                                },
                                {
                                    "0": "13519844",
                                    "1": "Shelly Crane",
                                    "2": "Independence (Significance, #4)",
                                    "3": "4.32"
                                },
                                {
                                    "0": "71787",
                                    "1": "Jan Karon",
                                    "2": "In This Mountain (Mitford Years, #7)",
                                    "3": "4.32"
                                },
                                {
                                    "0": "8086216",
                                    "1": "Yotam Ottolenghi",
                                    "2": "Plenty",
                                    "3": "4.32"
                                },
                                {
                                    "0": "1422252",
                                    "1": "Lynsay Sands",
                                    "2": "Vampire, Interrupted (Argeneau #9)",
                                    "3": "4.32"
                                },
                                {
                                    "0": "3276637",
                                    "1": "Conn Iggulden",
                                    "2": "Bones of the Hills (Conqueror, #3)",
                                    "3": "4.32"
                                },
                                {
                                    "0": "7685763",
                                    "1": "J.D. Robb",
                                    "2": "Indulgence in Death (In Death, #31)",
                                    "3": "4.32"
                                },
                                {
                                    "0": "845403",
                                    "1": "John Steptoe",
                                    "2": "Mufaro's Beautiful Daughters: An African Tale",
                                    "3": "4.32"
                                },
                                {
                                    "0": "3331756",
                                    "1": "غسان كنفاني",
                                    "2": "عائد إلى حيفا",
                                    "3": "4.32"
                                },
                                {
                                    "0": "118389",
                                    "1": "T.S. Eliot",
                                    "2": "The Love Song of J. Alfred Prufrock and Other Poems",
                                    "3": "4.32"
                                },
                                {
                                    "0": "15808816",
                                    "1": "Adam Makos, Larry Alexander",
                                    "2": "A Higher Call: An Incredible True Story of Combat and Chivalry in the War-Torn Skies of World War II",
                                    "3": "4.32"
                                },
                                {
                                    "0": "129523",
                                    "1": "J.D. Robb",
                                    "2": "Divided in Death (In Death, #18)",
                                    "3": "4.32"
                                },
                                {
                                    "0": "821003",
                                    "1": "A.A. Milne, Ernest H. Shepard",
                                    "2": "When We Were Very Young (Winnie-the-Pooh, #3)",
                                    "3": "4.32"
                                },
                                {
                                    "0": "22471294",
                                    "1": "Alessandra Torre",
                                    "2": "Black Lies",
                                    "3": "4.32"
                                },
                                {
                                    "0": "820480",
                                    "1": "C.J. Sansom",
                                    "2": "Revelation (Matthew Shardlake, #4)",
                                    "3": "4.32"
                                },
                                {
                                    "0": "56594",
                                    "1": "Sheldon Vanauken, C.S. Lewis",
                                    "2": "A Severe Mercy: A Story of Faith, Tragedy and Triumph",
                                    "3": "4.32"
                                },
                                {
                                    "0": "30125",
                                    "1": "Shel Silverstein",
                                    "2": "The Missing Piece Meets the Big O ",
                                    "3": "4.32"
                                },
                                {
                                    "0": "608906",
                                    "1": "Erin Hunter",
                                    "2": "Firestar's Quest (Warriors Super Edition, #1)",
                                    "3": "4.32"
                                },
                                {
                                    "0": "61909",
                                    "1": "Lois McMaster Bujold",
                                    "2": "Mirror Dance (Vorkosigan Saga, #8)",
                                    "3": "4.32"
                                },
                                {
                                    "0": "15823426",
                                    "1": "Tyler Hamilton, Daniel Coyle",
                                    "2": "The Secret Race: Inside the Hidden World of the Tour de France: Doping, Cover-ups, and Winning at All Costs",
                                    "3": "4.32"
                                },
                                {
                                    "0": "9529502",
                                    "1": "Lincoln Peirce",
                                    "2": "Big Nate on a Roll (Big Nate Novels, #3)",
                                    "3": "4.32"
                                },
                                {
                                    "0": "131830",
                                    "1": "Christiane Northrup",
                                    "2": "Women's Bodies, Women's Wisdom: Creating Physical and Emotional Health and Healing",
                                    "3": "4.32"
                                },
                                {
                                    "0": "473623",
                                    "1": "Enid Blyton",
                                    "2": "The Folk of the Faraway Tree (The Faraway Tree, #3)",
                                    "3": "4.32"
                                },
                                {
                                    "0": "84133",
                                    "1": "Sherrilyn Kenyon",
                                    "2": "Devil May Cry (Dark-Hunter, #11)",
                                    "3": "4.32"
                                },
                                {
                                    "0": "7519472",
                                    "1": "Gena Showalter",
                                    "2": "The Darkest Lie (Lords of the Underworld #6)",
                                    "3": "4.32"
                                },
                                {
                                    "0": "68453",
                                    "1": "Andrzej Sapkowski",
                                    "2": "Czas pogardy (Saga o Wiedźminie, #4)",
                                    "3": "4.32"
                                },
                                {
                                    "0": "16006",
                                    "1": "Judith McNaught",
                                    "2": "Paradise (Second Opportunities, #1)",
                                    "3": "4.32"
                                },
                                {
                                    "0": "4701550",
                                    "1": "Larissa Ione",
                                    "2": "Passion Unleashed (Demonica #3)",
                                    "3": "4.32"
                                },
                                {
                                    "0": "285011",
                                    "1": "Dee Henderson",
                                    "2": "The Negotiator (O'Malley, #1)",
                                    "3": "4.32"
                                },
                                {
                                    "0": "2880715",
                                    "1": "J.R. Ward",
                                    "2": "The Black Dagger Brotherhood: An Insider's Guide",
                                    "3": "4.32"
                                },
                                {
                                    "0": "226004",
                                    "1": "Vernor Vinge",
                                    "2": "A Deepness in the Sky (Zones of Thought, #2)",
                                    "3": "4.32"
                                },
                                {
                                    "0": "35100",
                                    "1": "James M. McPherson",
                                    "2": "Battle Cry of Freedom",
                                    "3": "4.32"
                                },
                                {
                                    "0": "61663",
                                    "1": "Carl Sagan, Ann Druyan",
                                    "2": "Pale Blue Dot: A Vision of the Human Future in Space",
                                    "3": "4.32"
                                },
                                {
                                    "0": "138395",
                                    "1": "Robert Kirkman, Charlie Adlard, Cliff Rathburn",
                                    "2": "The Walking Dead, Vol. 06: This Sorrowful Life",
                                    "3": "4.32"
                                },
                                {
                                    "0": "19286623",
                                    "1": "Kylie Scott",
                                    "2": "Lead (Stage Dive, #3)",
                                    "3": "4.32"
                                },
                                {
                                    "0": "13927",
                                    "1": "Juliet Marillier",
                                    "2": "Son of the Shadows (Sevenwaters, #2)",
                                    "3": "4.32"
                                },
                                {
                                    "0": "21569527",
                                    "1": "Mary E. Pearson",
                                    "2": "The Heart of Betrayal (The Remnant Chronicles, #2)",
                                    "3": "4.32"
                                },
                                {
                                    "0": "11553",
                                    "1": "Robert McCammon",
                                    "2": "Boy's Life",
                                    "3": "4.32"
                                },
                                {
                                    "0": "299384",
                                    "1": "Michael Teitelbaum, Walt Disney Company",
                                    "2": "Sleeping Beauty: a Little Golden Book (Disney Princess)",
                                    "3": "4.32"
                                },
                                {
                                    "0": "8239301",
                                    "1": "Radwa Ashour, رضوى عاشور",
                                    "2": "الطنطورية",
                                    "3": "4.32"
                                },
                                {
                                    "0": "25142924",
                                    "1": "Mitch Albom",
                                    "2": "The Magic Strings of Frankie Presto",
                                    "3": "4.32"
                                },
                                {
                                    "0": "16884",
                                    "1": "Richard Rhodes",
                                    "2": "The Making of the Atomic Bomb",
                                    "3": "4.32"
                                },
                                {
                                    "0": "9394010",
                                    "1": "Gena Showalter",
                                    "2": "The Darkest Secret (Lords of the Underworld #7)",
                                    "3": "4.32"
                                },
                                {
                                    "0": "13337715",
                                    "1": "George R.R. Martin",
                                    "2": "A Dance with Dragons: Dreams and Dust (A Song of Ice and Fire #5, Part 1 of 2)",
                                    "3": "4.32"
                                },
                                {
                                    "0": "24488476",
                                    "1": "Pittacus Lore",
                                    "2": "The Fate of Ten (Lorien Legacies, #6)",
                                    "3": "4.32"
                                },
                                {
                                    "0": "133906",
                                    "1": "Langston Hughes",
                                    "2": "The Collected Poems",
                                    "3": "4.32"
                                },
                                {
                                    "0": "10549501",
                                    "1": "Rachel Caine",
                                    "2": "Last Breath (The Morganville Vampires, #11)",
                                    "3": "4.32"
                                },
                                {
                                    "0": "744615",
                                    "1": "Bryan Lee O'Malley, Steve Buccellato",
                                    "2": "Scott Pilgrim, Volume 4: Scott Pilgrim Gets It Together",
                                    "3": "4.32"
                                },
                                {
                                    "0": "824062",
                                    "1": "Brother Andrew, Elizabeth Sherrill, John Sherrill",
                                    "2": "God's Smuggler",
                                    "3": "4.32"
                                },
                                {
                                    "0": "76889",
                                    "1": "E.E. Cummings",
                                    "2": "100 Selected Poems",
                                    "3": "4.32"
                                },
                                {
                                    "0": "93000",
                                    "1": "Harry Gregson-Williams",
                                    "2": "Piano/Vocal/Guitar Sheet Music: The Chronicles of Narnia: The Lion, the Witch and The Wardrobe",
                                    "3": "4.32"
                                },
                                {
                                    "0": "68526",
                                    "1": "Bernard Cornwell",
                                    "2": "Lords of the North (The Saxon Stories, #3)",
                                    "3": "4.32"
                                },
                                {
                                    "0": "17378527",
                                    "1": "Maggie Stiefvater",
                                    "2": "The Raven King (The Raven Cycle, #4)",
                                    "3": "4.32"
                                },
                                {
                                    "0": "1728744",
                                    "1": "A.L. Singer, Walt Disney Company",
                                    "2": "Sleeping Beauty (Disney Princess, 5)",
                                    "3": "4.32"
                                },
                                {
                                    "0": "13638570",
                                    "1": "Rebecca Donovan",
                                    "2": "Out of Breath (Breathing, #3)",
                                    "3": "4.32"
                                },
                                {
                                    "0": "55398",
                                    "1": "Steven Erikson",
                                    "2": "House of Chains (The Malazan Book of the Fallen, #4)",
                                    "3": "4.32"
                                },
                                {
                                    "0": "498641",
                                    "1": "Brother Lawrence",
                                    "2": "The Practice of the Presence of God",
                                    "3": "4.32"
                                },
                                {
                                    "0": "356373",
                                    "1": "Henry T. Blackaby, Claude V. King, Richard Blackaby",
                                    "2": "Experiencing God: Knowing and Doing the Will of God, Workbook",
                                    "3": "4.32"
                                },
                                {
                                    "0": "1611656",
                                    "1": "Kresley Cole",
                                    "2": "Dark Needs at Night's Edge (Immortals After Dark #5)",
                                    "3": "4.32"
                                },
                                {
                                    "0": "23395680",
                                    "1": "Amie Kaufman, Jay Kristoff",
                                    "2": "Illuminae (The Illuminae Files, #1)",
                                    "3": "4.32"
                                },
                                {
                                    "0": "17378508",
                                    "1": "Maggie Stiefvater",
                                    "2": "Blue Lily, Lily Blue (The Raven Cycle, #3)",
                                    "3": "4.32"
                                },
                                {
                                    "0": "13836",
                                    "1": "Tamora Pierce",
                                    "2": "Wild Magic (Immortals, #1)",
                                    "3": "4.32"
                                },
                                {
                                    "0": "937249",
                                    "1": "Vince Flynn",
                                    "2": "Separation of Power (Mitch Rapp, #5)",
                                    "3": "4.32"
                                },
                                {
                                    "0": "1335184",
                                    "1": "Eugene Bradley Coco, Ron Dias, Walt Disney Company",
                                    "2": "Peter Pan (A Little Golden Book)",
                                    "3": "4.32"
                                },
                                {
                                    "0": "45109",
                                    "1": "Robin Hobb",
                                    "2": "Golden Fool (Tawny Man, #2)",
                                    "3": "4.32"
                                },
                                {
                                    "0": "240130",
                                    "1": "Robert Munsch, Michael Martchenko",
                                    "2": "The Paper Bag Princess",
                                    "3": "4.32"
                                },
                                {
                                    "0": "17383994",
                                    "1": "Veronica Roth",
                                    "2": "Divergent Series Complete Box Set (Divergent, #1-3)",
                                    "3": "4.32"
                                },
                                {
                                    "0": "13612739",
                                    "1": "C.J. Roberts",
                                    "2": "Seduced in the Dark (The Dark Duet, #2)",
                                    "3": "4.32"
                                },
                                {
                                    "0": "13834",
                                    "1": "Tamora Pierce",
                                    "2": "The Realms of the Gods (Immortals, #4)",
                                    "3": "4.32"
                                },
                                {
                                    "0": "3313418",
                                    "1": "Vince Flynn",
                                    "2": "Extreme Measures (Mitch Rapp, #11)",
                                    "3": "4.32"
                                },
                                {
                                    "0": "64216",
                                    "1": "Terry Pratchett",
                                    "2": "Guards! Guards! (Discworld, #8)",
                                    "3": "4.32"
                                },
                                {
                                    "0": "25899336",
                                    "1": "Paul Kalanithi, Abraham Verghese",
                                    "2": "When Breath Becomes Air",
                                    "3": "4.32"
                                },
                                {
                                    "0": "16158542",
                                    "1": "Daniel James Brown",
                                    "2": "The Boys in the Boat: Nine Americans and Their Epic Quest for Gold at the 1936 Berlin Olympics",
                                    "3": "4.32"
                                },
                                {
                                    "0": "117833",
                                    "1": "Mikhail Bulgakov, Katherine Tiernan O'Connor, Diana Burgin, Ellendea Proffer",
                                    "2": "The Master and Margarita",
                                    "3": "4.32"
                                },
                                {
                                    "0": "43916",
                                    "1": "Raymond E. Feist",
                                    "2": "Magician (The Riftwar Saga, #1-2)",
                                    "3": "4.32"
                                },
                                {
                                    "0": "91479",
                                    "1": "Jim Butcher",
                                    "2": "Death Masks (The Dresden Files, #5)",
                                    "3": "4.32"
                                },
                                {
                                    "0": "20560137",
                                    "1": "Sabaa Tahir",
                                    "2": "An Ember in the Ashes (An Ember in the Ashes, #1)",
                                    "3": "4.32"
                                },
                                {
                                    "0": "194373",
                                    "1": "Arthur Conan Doyle",
                                    "2": "The Memoirs of Sherlock Holmes",
                                    "3": "4.32"
                                },
                                {
                                    "0": "144350",
                                    "1": "John Flanagan",
                                    "2": "The Battle for Skandia (Ranger's Apprentice, #4)",
                                    "3": "4.32"
                                },
                                {
                                    "0": "318431",
                                    "1": "Nelson Mandela",
                                    "2": "Long Walk to Freedom",
                                    "3": "4.31"
                                },
                                {
                                    "0": "8726744",
                                    "1": "Stephenie Meyer",
                                    "2": "The Twilight Saga Complete Collection  (Twilight, #1-4 + 3.5)",
                                    "3": "4.31"
                                },
                                {
                                    "0": "285205",
                                    "1": "Patricia Briggs",
                                    "2": "Blood Bound (Mercy Thompson, #2)",
                                    "3": "4.31"
                                },
                                {
                                    "0": "6759",
                                    "1": "David Foster Wallace",
                                    "2": "Infinite Jest",
                                    "3": "4.31"
                                },
                                {
                                    "0": "105549",
                                    "1": "Dr. Seuss",
                                    "2": "The Sneetches and Other Stories",
                                    "3": "4.31"
                                },
                                {
                                    "0": "833253",
                                    "1": "Stormie Omartian",
                                    "2": "The Power of a Praying Wife",
                                    "3": "4.31"
                                },
                                {
                                    "0": "2168860",
                                    "1": "Jeaniene Frost",
                                    "2": "One Foot in the Grave (Night Huntress, #2)",
                                    "3": "4.31"
                                },
                                {
                                    "0": "10569",
                                    "1": "Stephen King",
                                    "2": "On Writing: A Memoir of the Craft",
                                    "3": "4.31"
                                },
                                {
                                    "0": "22917",
                                    "1": "Jacob Grimm, Wilhelm Grimm, Josef Scharl, Padraic Colum, Joseph Campbell, Margaret Raine Hunt, James Stern",
                                    "2": "The Complete Grimm's Fairy Tales",
                                    "3": "4.31"
                                },
                                {
                                    "0": "57854",
                                    "1": "Lao Tzu, Gia-Fu Feng, Jane English, Chungliang Al Huang, Rowena Pattee Kryder, Toinette Lippe",
                                    "2": "Tao Te Ching",
                                    "3": "4.31"
                                },
                                {
                                    "0": "32085",
                                    "1": "James Herriot",
                                    "2": "All Creatures Great and Small (All Creatures Great and Small, #1-2)",
                                    "3": "4.31"
                                },
                                {
                                    "0": "5364",
                                    "1": "Diana Gabaldon",
                                    "2": "Dragonfly in Amber (Outlander, #2)",
                                    "3": "4.31"
                                },
                                {
                                    "0": "11138",
                                    "1": "C.S. Lewis",
                                    "2": "Mere Christianity",
                                    "3": "4.31"
                                },
                                {
                                    "0": "9969571",
                                    "1": "Ernest Cline",
                                    "2": "Ready Player One",
                                    "3": "4.31"
                                },
                                {
                                    "0": "10664113",
                                    "1": "George R.R. Martin",
                                    "2": "A Dance with Dragons (A Song of Ice and Fire, #5)",
                                    "3": "4.31"
                                },
                                {
                                    "0": "18143977",
                                    "1": "Anthony Doerr",
                                    "2": "All the Light We Cannot See",
                                    "3": "4.31"
                                },
                                {
                                    "0": "2836109",
                                    "1": "John Flanagan",
                                    "2": "Erak's Ransom (Ranger's Apprentice, #7)",
                                    "3": "4.31"
                                },
                                {
                                    "0": "139855",
                                    "1": "J.I. Packer",
                                    "2": "Knowing God",
                                    "3": "4.31"
                                },
                                {
                                    "0": "17798287",
                                    "1": "K. Bromberg",
                                    "2": "Driven (Driven, #1)",
                                    "3": "4.31"
                                },
                                {
                                    "0": "184655",
                                    "1": "Vince Flynn",
                                    "2": "Transfer of Power (Mitch Rapp, #3)",
                                    "3": "4.31"
                                },
                                {
                                    "0": "858513",
                                    "1": "Kevin Henkes",
                                    "2": "Chrysanthemum",
                                    "3": "4.31"
                                },
                                {
                                    "0": "3570231",
                                    "1": "Jeaniene Frost",
                                    "2": "At Grave's End (Night Huntress, #3)",
                                    "3": "4.31"
                                },
                                {
                                    "0": "8171378",
                                    "1": "Isabel Wilkerson",
                                    "2": "The Warmth of Other Suns: The Epic Story of America's Great Migration",
                                    "3": "4.31"
                                },
                                {
                                    "0": "25893693",
                                    "1": "Martha Hall Kelly",
                                    "2": "Lilac Girls",
                                    "3": "4.31"
                                },
                                {
                                    "0": "6260997",
                                    "1": "Nicholas D. Kristof, Sheryl WuDunn",
                                    "2": "Half the Sky: Turning Oppression into Opportunity for Women Worldwide",
                                    "3": "4.31"
                                },
                                {
                                    "0": "36315",
                                    "1": "H.P. Lovecraft, August Derleth, Robert Bloch",
                                    "2": "The Best of H.P. Lovecraft: Bloodcurdling Tales of Horror and the Macabre",
                                    "3": "4.31"
                                },
                                {
                                    "0": "9635657",
                                    "1": "Rachel Renée Russell",
                                    "2": "Tales from a Not-So-Talented Pop Star (Dork Diaries, #3)",
                                    "3": "4.31"
                                },
                                {
                                    "0": "682920",
                                    "1": "Don    Wood, Audrey Wood",
                                    "2": "The Little Mouse, the Red Ripe Strawberry, and the Big Hungry Bear",
                                    "3": "4.31"
                                },
                                {
                                    "0": "30069",
                                    "1": "Robert Kirkman, Charlie Adlard",
                                    "2": "The Walking Dead, Vol. 03: Safety Behind Bars",
                                    "3": "4.31"
                                },
                                {
                                    "0": "112754",
                                    "1": "Karen Marie Moning",
                                    "2": "Kiss of the Highlander (Highlander, #4)",
                                    "3": "4.31"
                                },
                                {
                                    "0": "395962",
                                    "1": "Jacqueline Carey",
                                    "2": "Kushiel's Chosen (Phèdre's Trilogy, #2)",
                                    "3": "4.31"
                                },
                                {
                                    "0": "7405450",
                                    "1": "Kristen Ashley",
                                    "2": "Rock Chick Rescue (Rock Chick, #2)",
                                    "3": "4.31"
                                },
                                {
                                    "0": "537375",
                                    "1": "Caroline Alexander",
                                    "2": "The Endurance: Shackleton's Legendary Antarctic Expedition",
                                    "3": "4.31"
                                },
                                {
                                    "0": "8112318",
                                    "1": "Wendy Mass",
                                    "2": "The Candymakers (The Candymakers, #1)",
                                    "3": "4.31"
                                },
                                {
                                    "0": "61905",
                                    "1": "Lois McMaster Bujold",
                                    "2": "Barrayar (Vorkosigan Saga, #7)",
                                    "3": "4.31"
                                },
                                {
                                    "0": "17563080",
                                    "1": "Anne Bishop",
                                    "2": "Murder of Crows (The Others, #2)",
                                    "3": "4.31"
                                },
                                {
                                    "0": "905382",
                                    "1": "Melissa Müller, Rita Kimber, Robert Kimber",
                                    "2": "Anne Frank : The Biography",
                                    "3": "4.31"
                                },
                                {
                                    "0": "4703427",
                                    "1": "Steven Erikson",
                                    "2": "Dust of Dreams (The Malazan Book of the Fallen, #9)",
                                    "3": "4.31"
                                },
                                {
                                    "0": "111021",
                                    "1": "Erin Hunter",
                                    "2": "Dawn (Warriors: The New Prophecy, #3)",
                                    "3": "4.31"
                                },
                                {
                                    "0": "238141",
                                    "1": "J.D. Robb",
                                    "2": "Memory in Death (In Death, #22)",
                                    "3": "4.31"
                                },
                                {
                                    "0": "161156",
                                    "1": "Cornelius Ryan",
                                    "2": "The Longest Day",
                                    "3": "4.31"
                                },
                                {
                                    "0": "823411",
                                    "1": "Joseph Boyden",
                                    "2": "Three Day Road",
                                    "3": "4.31"
                                },
                                {
                                    "0": "12072362",
                                    "1": "Ree Drummond",
                                    "2": "The Pioneer Woman Cooks: Food from My Frontier ",
                                    "3": "4.31"
                                },
                                {
                                    "0": "12706435",
                                    "1": "Shelly Crane",
                                    "2": "Defiance (Significance, #3)",
                                    "3": "4.31"
                                },
                                {
                                    "0": "16043804",
                                    "1": "Michael J. Sullivan",
                                    "2": "The Crown Tower (The Riyria Chronicles, #1)",
                                    "3": "4.31"
                                },
                                {
                                    "0": "8477057",
                                    "1": "Fábio Moon, Gabriel Bá, Craig Thompson, Dave Stewart, Sean Konot",
                                    "2": "Daytripper",
                                    "3": "4.31"
                                },
                                {
                                    "0": "18035",
                                    "1": "P.G. Wodehouse",
                                    "2": "Right Ho, Jeeves (Jeeves, #6)",
                                    "3": "4.31"
                                },
                                {
                                    "0": "296942",
                                    "1": "Erin Hunter",
                                    "2": "Moonrise (Warriors: The New Prophecy, #2)",
                                    "3": "4.31"
                                },
                                {
                                    "0": "19161852",
                                    "1": "N.K. Jemisin",
                                    "2": "The Fifth Season (The Broken Earth, #1)",
                                    "3": "4.31"
                                },
                                {
                                    "0": "5367",
                                    "1": "Roger Zelazny",
                                    "2": "The Great Book of Amber (The Chronicles of Amber, #1-10)",
                                    "3": "4.31"
                                },
                                {
                                    "0": "112755",
                                    "1": "Karen Marie Moning",
                                    "2": "The Dark Highlander (Highlander, #5)",
                                    "3": "4.31"
                                },
                                {
                                    "0": "79257",
                                    "1": "Neil Gaiman",
                                    "2": "Don't Panic: The Official Hitchhiker's Guide to the Galaxy Companion",
                                    "3": "4.31"
                                },
                                {
                                    "0": "238125",
                                    "1": "J.D. Robb",
                                    "2": "Holiday in Death (In Death, #7)",
                                    "3": "4.31"
                                },
                                {
                                    "0": "16114862",
                                    "1": "Madeline Sheehan",
                                    "2": "Unattainable (Undeniable, #3)",
                                    "3": "4.31"
                                },
                                {
                                    "0": "4099",
                                    "1": "Andrew Hunt, Dave Thomas",
                                    "2": "The Pragmatic Programmer: From Journeyman to Master",
                                    "3": "4.31"
                                },
                                {
                                    "0": "1898916",
                                    "1": "Matsuri Hino, Tomo Kimura",
                                    "2": "Vampire Knight, Vol. 4 (Vampire Knight, #4)",
                                    "3": "4.31"
                                },
                                {
                                    "0": "13252406",
                                    "1": "J.D. Robb",
                                    "2": "Delusion in Death (In Death, #35)",
                                    "3": "4.31"
                                },
                                {
                                    "0": "18752959",
                                    "1": "Rick Riordan",
                                    "2": "The Staff of Serapis (Percy Jackson & Kane Chronicles Crossover #2)",
                                    "3": "4.31"
                                },
                                {
                                    "0": "129565",
                                    "1": "Dave Ramsey",
                                    "2": "Financial Peace Revisited",
                                    "3": "4.31"
                                },
                                {
                                    "0": "20878809",
                                    "1": "R.J. Palacio",
                                    "2": "The Julian Chapter (Wonder Story)",
                                    "3": "4.31"
                                },
                                {
                                    "0": "6681333",
                                    "1": "Heather Brewer",
                                    "2": "Eleventh Grade Burns (The Chronicles of Vladimir Tod, #4)",
                                    "3": "4.31"
                                },
                                {
                                    "0": "132688",
                                    "1": "Julia Child",
                                    "2": "The Way to Cook",
                                    "3": "4.31"
                                },
                                {
                                    "0": "6801652",
                                    "1": "Matsuri Hino, Tomo Kimura",
                                    "2": "Vampire Knight, Vol. 9",
                                    "3": "4.31"
                                },
                                {
                                    "0": "3888",
                                    "1": "America's Test Kitchen, Carl Tremblay, Daniel J. Van Ackere",
                                    "2": "The America's Test Kitchen Family Cookbook",
                                    "3": "4.31"
                                },
                                {
                                    "0": "12926804",
                                    "1": "Lynda Mullaly Hunt",
                                    "2": "One for the Murphys",
                                    "3": "4.31"
                                },
                                {
                                    "0": "762064",
                                    "1": "J.D. Robb, Nora Roberts",
                                    "2": "Betrayal in Death (In Death, #12)",
                                    "3": "4.31"
                                },
                                {
                                    "0": "17830559",
                                    "1": "Katy Evans",
                                    "2": "Remy (Real, #3)",
                                    "3": "4.31"
                                },
                                {
                                    "0": "2157243",
                                    "1": "Derek Landy",
                                    "2": "Playing with Fire (Skulduggery Pleasant, #2)",
                                    "3": "4.31"
                                },
                                {
                                    "0": "1632833",
                                    "1": "Conn Iggulden",
                                    "2": "Genghis: Lords of the Bow (Conqueror, #2)",
                                    "3": "4.31"
                                },
                                {
                                    "0": "42547",
                                    "1": "Martin Luther King Jr., Clayborne Carson",
                                    "2": "The Autobiography of Martin Luther King, Jr.",
                                    "3": "4.31"
                                },
                                {
                                    "0": "11429",
                                    "1": "Karen Kingsbury",
                                    "2": "Ever After (Lost Love, #2)",
                                    "3": "4.31"
                                },
                                {
                                    "0": "298816",
                                    "1": "Don Richardson",
                                    "2": "Peace Child: An Unforgettable Story of Primitive Jungle Treachery in the 20th Century",
                                    "3": "4.31"
                                },
                                {
                                    "0": "72855",
                                    "1": "Sara Donati",
                                    "2": "Lake in the Clouds (Wilderness, #3)",
                                    "3": "4.31"
                                },
                                {
                                    "0": "22062202",
                                    "1": "Anne Bishop",
                                    "2": "Marked in Flesh (The Others, #4)",
                                    "3": "4.31"
                                },
                                {
                                    "0": "201145",
                                    "1": "Else Holmelund Minarik, Maurice Sendak",
                                    "2": "A Kiss for Little Bear (An I Can Read Book) by Minarik, Else Holmelund [1984]",
                                    "3": "4.31"
                                },
                                {
                                    "0": "271264",
                                    "1": "Tite Kubo",
                                    "2": "Bleach, Volume 03",
                                    "3": "4.31"
                                },
                                {
                                    "0": "7027569",
                                    "1": "C.J. Sansom",
                                    "2": "Heartstone (Matthew Shardlake, #5)",
                                    "3": "4.31"
                                },
                                {
                                    "0": "5943970",
                                    "1": "J.D. Robb",
                                    "2": "Kindred in Death (In Death, #29)",
                                    "3": "4.31"
                                },
                                {
                                    "0": "136977",
                                    "1": "Pema Chödrön",
                                    "2": "The Places That Scare You: A Guide to Fearlessness in Difficult Times",
                                    "3": "4.3"
                                },
                                {
                                    "0": "10165727",
                                    "1": "Melina Marchetta",
                                    "2": "Froi of the Exiles (Lumatere Chronicles, #2)",
                                    "3": "4.3"
                                },
                                {
                                    "0": "90420",
                                    "1": "Sharon M. Draper",
                                    "2": "Copper Sun",
                                    "3": "4.3"
                                }
                            ]
                        },
                        "text/html": [
                            "<table>",
                            "<tr><th>book_id</th><th>authors</th><th>title</th><th>average_rating</th></tr>",
                            "<tr><td>24812</td><td>Bill Watterson</td><td>The Complete Calvin and Hobbes</td><td>4.82</td></tr>",
                            "<tr><td>8</td><td>J.K. Rowling, Mary GrandPré</td><td>Harry Potter Boxed Set, Books 1-5 (Harry Potter, #1-5)</td><td>4.77</td></tr>",
                            "<tr><td>17332218</td><td>Brandon Sanderson</td><td>Words of Radiance (The Stormlight Archive, #2)</td><td>4.77</td></tr>",
                            "<tr><td>5031805</td><td>Anonymous, Lane T. Dennis, Wayne A. Grudem</td><td>ESV Study Bible</td><td>4.76</td></tr>",
                            "<tr><td>95602</td><td>Francine Rivers</td><td>Mark of the Lion Trilogy</td><td>4.76</td></tr>",
                            "<tr><td>24814</td><td>Bill Watterson</td><td>It's a Magical World: A Calvin and Hobbes Collection</td><td>4.75</td></tr>",
                            "<tr><td>862041</td><td>J.K. Rowling</td><td>Harry Potter Boxset (Harry Potter, #1-7)</td><td>4.74</td></tr>",
                            "<tr><td>70489</td><td>Bill Watterson</td><td>There's Treasure Everywhere: A Calvin and Hobbes Collection</td><td>4.74</td></tr>",
                            "<tr><td>59715</td><td>Bill Watterson</td><td>The Authoritative Calvin and Hobbes: A Calvin and Hobbes Treasury</td><td>4.73</td></tr>",
                            "<tr><td>24815</td><td>Bill Watterson</td><td>The Indispensable Calvin and Hobbes</td><td>4.73</td></tr>",
                            "<tr><td>10</td><td>J.K. Rowling</td><td>Harry Potter Collection (Harry Potter, #1-6)</td><td>4.73</td></tr>",
                            "<tr><td>17927395</td><td>Sarah J. Maas</td><td>A Court of Mist and Fury (A Court of Thorns and Roses, #2)</td><td>4.72</td></tr>",
                            "<tr><td>70487</td><td>Bill Watterson</td><td>Attack of the Deranged Mutant Killer Monster Snow Goons</td><td>4.72</td></tr>",
                            "<tr><td>24816</td><td>Bill Watterson</td><td>Homicidal Psycho Jungle Cat: A Calvin and Hobbes Collection</td><td>4.71</td></tr>",
                            "<tr><td>121792</td><td>Bill Watterson</td><td>The Revenge of the Baby-Sat</td><td>4.71</td></tr>",
                            "<tr><td>2350129</td><td>The Church of Jesus Christ of Latter-day Saints</td><td>Preach My Gospel: A Guide To Missionary Service</td><td>4.71</td></tr>",
                            "<tr><td>24818</td><td>Bill Watterson</td><td>The Days Are Just Packed: A Calvin and Hobbes Collection</td><td>4.68</td></tr>",
                            "<tr><td>265205</td><td>Anonymous, Ronald A. Beers, Ronald A. Beers</td><td>Life Application Study Bible: NIV</td><td>4.67</td></tr>",
                            "<tr><td>9329354</td><td>Brandon Sanderson</td><td>The Way of Kings, Part 1 (The Stormlight Archive #1.1)</td><td>4.67</td></tr>",
                            "<tr><td>24494</td><td>Bill Watterson</td><td>The Calvin and Hobbes Lazy Sunday Book</td><td>4.66</td></tr>",
                            "<tr><td>5883777</td><td>Anonymous</td><td>The Holy Bible: English Standard Version</td><td>4.66</td></tr>",
                            "<tr><td>99298</td><td>J.K. Rowling, Mary GrandPré</td><td>The Harry Potter Collection 1-4 (Harry Potter, #1-4)</td><td>4.66</td></tr>",
                            "<tr><td>43070</td><td>Bill Watterson</td><td>The Essential Calvin and Hobbes: A Calvin and Hobbes Treasury</td><td>4.65</td></tr>",
                            "<tr><td>18337259</td><td>Daniel Abraham, George R.R. Martin, Tommy Patterson</td><td>A Game of Thrones: Comic Book, Issue 1</td><td>4.65</td></tr>",
                            "<tr><td>23753</td><td>Neil Gaiman, Mike Dringenberg, Chris Bachalo, Michael Zulli, Kelly Jones, Charles Vess, Colleen Doran, Malcolm Jones III, Steve Parkhouse, Daniel Vozzo, Lee Loughridge, Steve Oliff, Todd Klein, Dave McKean, Sam Kieth</td><td>The Absolute Sandman, Volume One</td><td>4.65</td></tr>",
                            "<tr><td>7235533</td><td>Brandon Sanderson</td><td>The Way of Kings (The Stormlight Archive, #1)</td><td>4.64</td></tr>",
                            "<tr><td>9814682</td><td>George R.R. Martin</td><td>A Song of Ice and Fire (A Song of Ice and Fire, #1-4)</td><td>4.63</td></tr>",
                            "<tr><td>24813</td><td>Bill Watterson</td><td>The Calvin and Hobbes Tenth Anniversary Book</td><td>4.63</td></tr>",
                            "<tr><td>12177850</td><td>George R.R. Martin</td><td>A Song of Ice and Fire (A Song of Ice and Fire, #1-5)</td><td>4.63</td></tr>",
                            "<tr><td>46292</td><td>Hafez</td><td>The Divan</td><td>4.63</td></tr>",
                            "<tr><td>481749</td><td>James E. Talmage</td><td>Jesus the Christ</td><td>4.63</td></tr>",
                            "<tr><td>6801614</td><td>Eiichirō Oda</td><td>One Piece, Volume 38: Rocketman!! (One Piece, #38)</td><td>4.63</td></tr>",
                            "<tr><td>32075671</td><td>Angie Thomas</td><td>The Hate U Give</td><td>4.62</td></tr>",
                            "<tr><td>22299763</td><td>Leigh Bardugo</td><td>Crooked Kingdom (Six of Crows, #2)</td><td>4.62</td></tr>",
                            "<tr><td>2223324</td><td>John   Williams</td><td>Harry Potter and the Chamber of Secrets: Sheet Music for Flute with C.D</td><td>4.61</td></tr>",
                            "<tr><td>6339989</td><td>Richelle Mead</td><td>Vampire Academy Collection (Vampire Academy, #1-3)</td><td>4.61</td></tr>",
                            "<tr><td>280111</td><td>Anonymous</td><td>Holy Bible: New International Version</td><td>4.61</td></tr>",
                            "<tr><td>77727</td><td>Bill Watterson, G.B. Trudeau</td><td>Calvin and Hobbes</td><td>4.61</td></tr>",
                            "<tr><td>136251</td><td>J.K. Rowling, Mary GrandPré</td><td>Harry Potter and the Deathly Hallows (Harry Potter, #7)</td><td>4.61</td></tr>",
                            "<tr><td>596259</td><td>Gordon B. Hinckley</td><td>Standing for Something: 10 Neglected Virtues That Will Heal Our Hearts and Homes</td><td>4.61</td></tr>",
                            "<tr><td>47697</td><td>Alisa Kwitney, Neil Gaiman</td><td>The Sandman: King of Dreams</td><td>4.61</td></tr>",
                            "<tr><td>7025086</td><td>Christopher Yost, Pasqual Ferry, Orson Scott Card</td><td>Ender's Game, Volume 2: Command School</td><td>4.6</td></tr>",
                            "<tr><td>18006496</td><td>Sarah J. Maas</td><td>Queen of Shadows (Throne of Glass, #4)</td><td>4.6</td></tr>",
                            "<tr><td>95617</td><td>Francine Rivers, Richard Ferrone</td><td>A Voice in the Wind (Mark of the Lion, #1)</td><td>4.6</td></tr>",
                            "<tr><td>46601</td><td>Francine Rivers</td><td>An Echo in the Darkness (Mark of the Lion, #2)</td><td>4.6</td></tr>",
                            "<tr><td>2299110</td><td>Sherrilyn Kenyon</td><td>Acheron (Dark-Hunter #14)</td><td>4.59</td></tr>",
                            "<tr><td>119</td><td>Gary Russell</td><td>The Lord of the Rings: The Art of The Fellowship of the Ring</td><td>4.59</td></tr>",
                            "<tr><td>71252</td><td>Neil Gaiman, Marc Hempel, Richard Case, D'Israeli, Teddy Kristiansen, Glyn Dillon, Charles Vess, Dean Ormston, Kevin Nowlan, Todd Klein, Frank McConnell</td><td>The Kindly Ones (The Sandman #9)</td><td>4.59</td></tr>",
                            "<tr><td>349254</td><td>Jude Fisher</td><td>The Lord of the Rings: The Return of the King: Visual Companion</td><td>4.59</td></tr>",
                            "<tr><td>18335634</td><td>Cassandra Clare</td><td>Clockwork Princess (The Infernal Devices, #3)</td><td>4.59</td></tr>",
                            "<tr><td>30</td><td>J.R.R. Tolkien</td><td>J.R.R. Tolkien 4-Book Boxed Set: The Hobbit and The Lord of the Rings</td><td>4.59</td></tr>",
                            "<tr><td>11106458</td><td>Cassandra Clare</td><td>The Mortal Instruments (The Mortal Instruments #1-4)</td><td>4.59</td></tr>",
                            "<tr><td>9832370</td><td>BookRags</td><td>BookRags Summary:  A Storm of Swords</td><td>4.59</td></tr>",
                            "<tr><td>14367051</td><td>Cassandra Clare</td><td>City of Bones / City of Ashes / City of Glass / City of Fallen Angels / City of Lost Souls (The Mortal Instruments, #1-5)</td><td>4.59</td></tr>",
                            "<tr><td>17961</td><td>Jorge Luis Borges, Andrew Hurley</td><td>Collected Fictions</td><td>4.58</td></tr>",
                            "<tr><td>15767586</td><td>Sherrilyn Kenyon</td><td>Styxx (Dark-Hunter, #22)</td><td>4.58</td></tr>",
                            "<tr><td>892295</td><td>Arthur Conan Doyle, William S. Baring-Gould</td><td>The Annotated Sherlock Holmes: The Four Novels and the Fifty-Six Short Stories Complete (2 Volume Set)</td><td>4.58</td></tr>",
                            "<tr><td>4808763</td><td>Isaac Asimov, Bob E. Flick, Jim Gallant</td><td>The Last Question</td><td>4.58</td></tr>",
                            "<tr><td>28260587</td><td>Sarah J. Maas</td><td>Empire of Storms (Throne of Glass, #5)</td><td>4.58</td></tr>",
                            "<tr><td>20342617</td><td>Bryan Stevenson</td><td>Just Mercy: A Story of Justice and Redemption</td><td>4.58</td></tr>",
                            "<tr><td>3165162</td><td>Rick Riordan</td><td>Percy Jackson and the Olympians (Percy Jackson and the Olympians, #1-3)</td><td>4.58</td></tr>",
                            "<tr><td>4634266</td><td>Masashi Kishimoto</td><td>NARUTO -ナルト- 巻ノ四十三</td><td>4.57</td></tr>",
                            "<tr><td>8718952</td><td>Richelle Mead</td><td>Vampire Academy Box Set (Vampire Academy, #1-4)</td><td>4.57</td></tr>",
                            "<tr><td>17131869</td><td>Brian K. Vaughan, Fiona Staples</td><td>Saga, Vol. 2 (Saga, #2)</td><td>4.57</td></tr>",
                            "<tr><td>6485421</td><td>Cassandra Clare</td><td>The Mortal Instruments Boxed Set: City of Bones; City of Ashes; City of Glass (The Mortal Instruments, #1-3)</td><td>4.57</td></tr>",
                            "<tr><td>1215032</td><td>Patrick Rothfuss</td><td>The Wise Man's Fear (The Kingkiller Chronicle, #2)</td><td>4.57</td></tr>",
                            "<tr><td>545425</td><td>Safiy al-Rahman al-Mubarakfuri</td><td>الرحيق المختوم</td><td>4.57</td></tr>",
                            "<tr><td>6443349</td><td>Rick Riordan, Tk</td><td>Percy Jackson and the Olympians Boxed Set (Percy Jackson and the Olympians, #1-5)</td><td>4.57</td></tr>",
                            "<tr><td>17333174</td><td>Ilona Andrews</td><td>Magic Binds (Kate Daniels, #9)</td><td>4.57</td></tr>",
                            "<tr><td>29236299</td><td>Amie Kaufman, Jay Kristoff, Marie Lu</td><td>Gemina (The Illuminae Files, #2)</td><td>4.56</td></tr>",
                            "<tr><td>1317181</td><td>J.K. Rowling</td><td>Harry Potter and the Order of the Phoenix (Harry Potter, #5, Part 1)</td><td>4.56</td></tr>",
                            "<tr><td>15743078</td><td>Veronica Roth</td><td>The Divergent Series 2-Book Collection (Divergent, #1-2)</td><td>4.56</td></tr>",
                            "<tr><td>147915</td><td>George R.R. Martin</td><td>A Storm of Swords: Blood and Gold (A Song of Ice and Fire, #3: Part 2 of 2)</td><td>4.56</td></tr>",
                            "<tr><td>19358975</td><td>Brian K. Vaughan, Fiona Staples</td><td>Saga, Vol. 3 (Saga, #3)</td><td>4.56</td></tr>",
                            "<tr><td>10785687</td><td>Bob McCabe</td><td>Harry Potter Page to Screen: The Complete Filmmaking Journey</td><td>4.56</td></tr>",
                            "<tr><td>17880714</td><td>K. Bromberg</td><td>Crashed (Driven, #3)</td><td>4.56</td></tr>",
                            "<tr><td>8346300</td><td>Andrew Williamson, Andrew Williamson</td><td>Harry Potter: A Pop-Up Book: Based on the Film Phenomenon</td><td>4.55</td></tr>",
                            "<tr><td>25105</td><td>Neil Gaiman, Jill Thompson, Vince Locke, Peter Straub</td><td>Brief Lives (The Sandman #7)</td><td>4.55</td></tr>",
                            "<tr><td>6604209</td><td>Brandon Sanderson</td><td>Mistborn Trilogy Boxed Set (Mistborn, #1-3)</td><td>4.55</td></tr>",
                            "<tr><td>19486421</td><td>Jim Butcher</td><td>Skin Game (The Dresden Files, #15)</td><td>4.55</td></tr>",
                            "<tr><td>186074</td><td>Patrick Rothfuss</td><td>The Name of the Wind (The Kingkiller Chronicle, #1)</td><td>4.55</td></tr>",
                            "<tr><td>14905</td><td>Jane Austen</td><td>The Complete Novels</td><td>4.55</td></tr>",
                            "<tr><td>13184992</td><td>Kristen Ashley</td><td>Rock Chick Regret (Rock Chick, #7)</td><td>4.55</td></tr>",
                            "<tr><td>71823</td><td>Stephen King</td><td>The Green Mile, Part 6: Coffey on the Mile</td><td>4.55</td></tr>",
                            "<tr><td>8163161</td><td>Bisco Hatori</td><td>Ouran High School Host Club, Vol. 15 (Ouran High School Host Club, #15)</td><td>4.54</td></tr>",
                            "<tr><td>20706320</td><td>Chris Colfer, Brandon Dorman</td><td>A Grimm Warning (The Land of Stories, #3)</td><td>4.54</td></tr>",
                            "<tr><td>23766634</td><td>Sarah J. Maas</td><td>A Court of Wings and Ruin (A Court of Thorns and Roses, #3)</td><td>4.54</td></tr>",
                            "<tr><td>89959</td><td>Founding Fathers</td><td>The Constitution of the United States of America</td><td>4.54</td></tr>",
                            "<tr><td>62291</td><td>George R.R. Martin</td><td>A Storm of Swords (A Song of Ice and Fire, #3)</td><td>4.54</td></tr>",
                            "<tr><td>21853621</td><td>Kristin Hannah</td><td>The Nightingale</td><td>4.54</td></tr>",
                            "<tr><td>1</td><td>J.K. Rowling, Mary GrandPré</td><td>Harry Potter and the Half-Blood Prince (Harry Potter, #6)</td><td>4.54</td></tr>",
                            "<tr><td>12127810</td><td>Rick Riordan</td><td>The House of Hades (The Heroes of Olympus, #4)</td><td>4.54</td></tr>",
                            "<tr><td>381421</td><td>Sarah  Young</td><td>Jesus Calling: Enjoying Peace in His Presence</td><td>4.54</td></tr>",
                            "<tr><td>6585201</td><td>Jim Butcher</td><td>Changes (The Dresden Files, #12)</td><td>4.54</td></tr>",
                            "<tr><td>25101</td><td>Neil Gaiman, Matt Wagner, George Pratt, Dick Giordano, Kelley Jones, P. Craig Russell, Mike Dringenberg, Malcolm Jones III, Todd Klein, Harlan Ellison</td><td>Season of Mists (The Sandman #4)</td><td>4.54</td></tr>",
                            "<tr><td>36</td><td>Chris   Smith, Christopher Lee, Richard Taylor</td><td>The Lord of the Rings: Weapons and Warfare</td><td>4.53</td></tr>",
                            "<tr><td>5061675</td><td>George R.R. Martin</td><td>A Game of Thrones / A Clash of Kings (A Song of Ice and Fire, #1-2)</td><td>4.53</td></tr>",
                            "<tr><td>25104</td><td>Neil Gaiman, Michael Zulli, Jon J. Muth, Charles Vess, Mikal Gilmore</td><td>The Wake (The Sandman #10)</td><td>4.53</td></tr>",
                            "<tr><td>15195</td><td>Art Spiegelman</td><td>The Complete Maus (Maus, #1-2)</td><td>4.53</td></tr>",
                            "<tr><td>20613470</td><td>Sarah J. Maas</td><td>Heir of Fire (Throne of Glass, #3)</td><td>4.53</td></tr>",
                            "<tr><td>6</td><td>J.K. Rowling, Mary GrandPré</td><td>Harry Potter and the Goblet of Fire (Harry Potter, #4)</td><td>4.53</td></tr>",
                            "<tr><td>5</td><td>J.K. Rowling, Mary GrandPré, Rufus Beck</td><td>Harry Potter and the Prisoner of Azkaban (Harry Potter, #3)</td><td>4.53</td></tr>",
                            "<tr><td>23157777</td><td>Robin Hobb</td><td>Fool's Quest  (The Fitz and The Fool, #2)</td><td>4.53</td></tr>",
                            "<tr><td>7352220</td><td>Yana Toboso</td><td>Black Butler, Vol. 3 (Black Butler, #3)</td><td>4.53</td></tr>",
                            "<tr><td>14744381</td><td>Robert Kirkman, Charlie Adlard</td><td>The Walking Dead, Compendium 2</td><td>4.53</td></tr>",
                            "<tr><td>5986375</td><td>David Foster Wallace</td><td>This Is Water: Some Thoughts, Delivered on a Significant Occasion, about Living a Compassionate Life</td><td>4.53</td></tr>",
                            "<tr><td>12878300</td><td>Eric Blehm</td><td>Fearless: The Heroic Story of One Navy SEAL's Sacrifice in the Hunt for Osama Bin Laden and the Unwavering Devotion of the Woman Who Loved Him</td><td>4.53</td></tr>",
                            "<tr><td>10790276</td><td>Randy Alcorn, Alex Kendrick, Stephen Kendrick</td><td>Courageous</td><td>4.53</td></tr>",
                            "<tr><td>6081686</td><td>Hiro Fujiwara</td><td>Maid-sama! Vol. 02 (Maid-sama! #2)</td><td>4.53</td></tr>",
                            "<tr><td>5417</td><td>Stephen King</td><td>Carrie / 'Salem's Lot / The Shining</td><td>4.52</td></tr>",
                            "<tr><td>1070527</td><td>Michael Dante DiMartino, Bryan Konietzko</td><td>Avatar Volume 1: The Last Airbender (Avatar #1)</td><td>4.52</td></tr>",
                            "<tr><td>19138879</td><td>Hajime Isayama, Hikaru Suruga, Gan Sunaaku</td><td>Attack on Titan: No Regrets, Volume 01</td><td>4.52</td></tr>",
                            "<tr><td>228199</td><td>Stephen King</td><td>The Green Mile, Part 4: The Bad Death of Eduard Delacroix</td><td>4.52</td></tr>",
                            "<tr><td>181400</td><td>Angela Elwell Hunt, Tim Jonke</td><td>The Tale of Three Trees</td><td>4.52</td></tr>",
                            "<tr><td>39664</td><td>Stephen King</td><td>Rita Hayworth and Shawshank Redemption: A Story from Different Seasons</td><td>4.52</td></tr>",
                            "<tr><td>216048</td><td>Patricia Polacco</td><td>Thank You, Mr. Falker</td><td>4.52</td></tr>",
                            "<tr><td>12119529</td><td>Ilona Andrews</td><td>Magic Breaks (Kate Daniels, #7)</td><td>4.52</td></tr>",
                            "<tr><td>7746259</td><td>Roberto Aguirre-Sacasa, Mike Perkins, Laura       Martin, Stephen King</td><td>The Stand: Soul Survivors</td><td>4.52</td></tr>",
                            "<tr><td>49006</td><td>Erin Hunter</td><td>The Darkest Hour (Warriors, #6)</td><td>4.52</td></tr>",
                            "<tr><td>17880708</td><td>K. Bromberg</td><td>Fueled (Driven, #2)</td><td>4.51</td></tr>",
                            "<tr><td>841628</td><td>Douglas Adams</td><td>The Hitchhiker's Guide to the Galaxy: A Trilogy in Four Parts</td><td>4.51</td></tr>",
                            "<tr><td>12216302</td><td>Jim Butcher</td><td>Cold Days (The Dresden Files, #14)</td><td>4.51</td></tr>",
                            "<tr><td>18512</td><td>J.R.R. Tolkien</td><td>The Return of the King (The Lord of the Rings, #3)</td><td>4.51</td></tr>",
                            "<tr><td>11742691</td><td>Kate Egan</td><td>The Hunger Games: Official Illustrated Movie Companion</td><td>4.51</td></tr>",
                            "<tr><td>20829994</td><td>Rick Riordan, John Rocco</td><td>Percy Jackson's Greek Gods (A Percy Jackson and the Olympians Guide)</td><td>4.51</td></tr>",
                            "<tr><td>5153799</td><td>J.R. Ward</td><td>Father Mine (Black Dagger Brotherhood, #6.5)</td><td>4.51</td></tr>",
                            "<tr><td>17158513</td><td>C.S. Pacat</td><td>Captive Prince: Volume Two (Captive Prince, #2)</td><td>4.51</td></tr>",
                            "<tr><td>434764</td><td>Stephen E. Robinson</td><td>Believing Christ: The Parable of the Bicycle and Other Good News</td><td>4.51</td></tr>",
                            "<tr><td>228200</td><td>Stephen King</td><td>The Green Mile, Part 5: Night Journey</td><td>4.51</td></tr>",
                            "<tr><td>24019187</td><td>Brandon Stanton</td><td>Humans of New York: Stories</td><td>4.5</td></tr>",
                            "<tr><td>13489518</td><td>Quinn Loftis</td><td>Out of the Dark (The Grey Wolves, #4)</td><td>4.5</td></tr>",
                            "<tr><td>228198</td><td>Stephen King</td><td>The Green Mile, Part 3: Coffey's Hands</td><td>4.5</td></tr>",
                            "<tr><td>11227043</td><td>Kristen Ashley</td><td>Rock Chick Revenge (Rock Chick, #5)</td><td>4.5</td></tr>",
                            "<tr><td>17287009</td><td>Brandon Stanton</td><td>Humans of New York</td><td>4.5</td></tr>",
                            "<tr><td>17158532</td><td>C.S. Pacat</td><td>Kings Rising (Captive Prince, #3)</td><td>4.5</td></tr>",
                            "<tr><td>16164271</td><td>Joe Hill, Gabriel Rodríguez</td><td>Locke &amp; Key, Vol. 6: Alpha &amp; Omega</td><td>4.5</td></tr>",
                            "<tr><td>45974</td><td>Fernando Pessoa, Richard Zenith</td><td>The Book of Disquiet</td><td>4.5</td></tr>",
                            "<tr><td>204041</td><td>Masashi Kishimoto, Frances Wall</td><td>Naruto, Vol. 11: Impassioned Efforts (Naruto, #11)</td><td>4.5</td></tr>",
                            "<tr><td>13490570</td><td>Joe Hill, Gabriel Rodríguez</td><td>Locke &amp; Key, Vol. 5: Clockworks</td><td>4.5</td></tr>",
                            "<tr><td>188572</td><td>Arthur Conan Doyle</td><td>The Complete Sherlock Holmes</td><td>4.5</td></tr>",
                            "<tr><td>4502507</td><td>Rick Riordan</td><td>The Last Olympian (Percy Jackson and the Olympians, #5)</td><td>4.5</td></tr>",
                            "<tr><td>7743175</td><td>Robert Jordan, Brandon Sanderson</td><td>A Memory of Light (Wheel of Time, #14)</td><td>4.5</td></tr>",
                            "<tr><td>11710373</td><td>Diana Gabaldon</td><td>Written in My Own Heart's Blood (Outlander, #8)</td><td>4.5</td></tr>",
                            "<tr><td>18966806</td><td>Pierce Brown</td><td>Morning Star (Red Rising, #3)</td><td>4.5</td></tr>",
                            "<tr><td>768889</td><td>George R.R. Martin</td><td>A Storm of Swords: Steel and Snow (A Song of Ice and Fire, #3: Part 1 of 2)</td><td>4.49</td></tr>",
                            "<tr><td>569564</td><td>William Shakespeare</td><td>The Complete Works</td><td>4.49</td></tr>",
                            "<tr><td>13206900</td><td>Marissa Meyer</td><td>Winter (The Lunar Chronicles, #4)</td><td>4.49</td></tr>",
                            "<tr><td>7938275</td><td>Suzanne Collins</td><td>The Hunger Games Trilogy Boxset (The Hunger Games, #1-3)</td><td>4.49</td></tr>",
                            "<tr><td>17167166</td><td>Sarah J. Maas</td><td>Crown of Midnight (Throne of Glass, #2)</td><td>4.49</td></tr>",
                            "<tr><td>870</td><td>Hiromu Arakawa, Akira Watanabe</td><td>Fullmetal Alchemist, Vol. 1 (Fullmetal Alchemist, #1)</td><td>4.49</td></tr>",
                            "<tr><td>99110</td><td>A.A. Milne, Ernest H. Shepard</td><td>The Complete Tales and Poems of Winnie-the-Pooh (Winnie-the-Pooh, #1-4)</td><td>4.49</td></tr>",
                            "<tr><td>29780253</td><td>Trevor Noah</td><td>Born a Crime: Stories From a South African Childhood</td><td>4.49</td></tr>",
                            "<tr><td>6792458</td><td>Michelle Alexander</td><td>The New Jim Crow: Mass Incarceration in the Age of Colorblindness</td><td>4.49</td></tr>",
                            "<tr><td>13605723</td><td>Jennifer L. Armentrout</td><td>Sentinel (Covenant, #5)</td><td>4.49</td></tr>",
                            "<tr><td>28862528</td><td>Brian K. Vaughan, Fiona Staples</td><td>Saga, Vol. 6 (Saga, #6)</td><td>4.49</td></tr>",
                            "<tr><td>17722973</td><td>Chris Colfer, Brandon Dorman</td><td>The Enchantress Returns (The Land of Stories, #2)</td><td>4.49</td></tr>",
                            "<tr><td>92227</td><td>Stephen King</td><td>The Green Mile, Part 1: The Two Dead Girls</td><td>4.49</td></tr>",
                            "<tr><td>1693617</td><td>Don Ferguson</td><td>Disney's the Lion King</td><td>4.49</td></tr>",
                            "<tr><td>11544421</td><td>Ilona Andrews</td><td>Magic Rises (Kate Daniels, #6)</td><td>4.49</td></tr>",
                            "<tr><td>220826</td><td>Sabahattin Ali</td><td>Kürk Mantolu Madonna</td><td>4.49</td></tr>",
                            "<tr><td>11665750</td><td>Kristen Ashley</td><td>At Peace (The 'Burg, #2)</td><td>4.49</td></tr>",
                            "<tr><td>11432</td><td>Karen Kingsbury, Gary Smalley</td><td>Reunion (Redemption, #5)</td><td>4.49</td></tr>",
                            "<tr><td>15813668</td><td>Darynda Jones</td><td>Fifth Grave Past the Light (Charley Davidson, #5)</td><td>4.49</td></tr>",
                            "<tr><td>653559</td><td>Malvina G. Vogel, Arthur Conan Doyle</td><td>Sherlock Holmes and the Case of the Hound of the Baskervilles (Illustrated Classic Editions)</td><td>4.49</td></tr>",
                            "<tr><td>65633</td><td>Perry Moore, Andrew Adamson, C.S. Lewis</td><td>The Chronicles of Narnia - The Lion, the Witch, and the Wardrobe Official Illustrated Movie Companion</td><td>4.48</td></tr>",
                            "<tr><td>1350249</td><td>Justine Korman Fontes</td><td>The Lion King (Disney's Wonderful World of Reading)</td><td>4.48</td></tr>",
                            "<tr><td>8113344</td><td>Derek Landy</td><td>Mortal Coil (Skulduggery Pleasant, #5)</td><td>4.48</td></tr>",
                            "<tr><td>17950614</td><td>Neal Shusterman</td><td>UnDivided (Unwind, #4)</td><td>4.48</td></tr>",
                            "<tr><td>8539798</td><td>Kazue Kato</td><td>Blue exorcist, Tome 2</td><td>4.48</td></tr>",
                            "<tr><td>132314</td><td>Edgar Allan Poe</td><td>The Complete Tales and Poems</td><td>4.48</td></tr>",
                            "<tr><td>6867952</td><td>Yana Toboso, Tomo Kimura</td><td>Black Butler, Vol. 2 (Black Butler, #2)</td><td>4.48</td></tr>",
                            "<tr><td>13363270</td><td>Quinn Loftis</td><td>Just One Drop (The Grey Wolves, #3)</td><td>4.48</td></tr>",
                            "<tr><td>100322</td><td>Assata Shakur, Angela Y. Davis, Lennox S. Hinds</td><td>Assata: An Autobiography</td><td>4.48</td></tr>",
                            "<tr><td>1275105</td><td>Charles M. Schulz</td><td>A Charlie Brown Christmas</td><td>4.48</td></tr>",
                            "<tr><td>25852784</td><td>Matthew Desmond</td><td>Evicted: Poverty and Profit in the American City</td><td>4.48</td></tr>",
                            "<tr><td>101255</td><td>Harold McGee</td><td>On Food and Cooking: The Science and Lore of the Kitchen</td><td>4.48</td></tr>",
                            "<tr><td>8069828</td><td>Cinda Williams Chima</td><td>The Crimson Crown (Seven Realms, #4)</td><td>4.48</td></tr>",
                            "<tr><td>91203</td><td>Erich Maria Remarque</td><td>Three Comrades</td><td>4.48</td></tr>",
                            "<tr><td>11873368</td><td>Kate Egan</td><td>The World of the Hunger Games (Hunger Games Trilogy)</td><td>4.48</td></tr>",
                            "<tr><td>25103</td><td>Neil Gaiman, Mike Allred, Gary Amaro, Mark Buckingham, David Giordano, Tony Harris, Steve Leialoha, Vince Locke, Shea Anton Pensa, Alec Stevens, Bryan Talbot, John Watkiss, Todd Klein, Michael Zulli, Stephen King</td><td>Worlds' End (The Sandman #8)</td><td>4.48</td></tr>",
                            "<tr><td>12962439</td><td>Daniel Abraham, George R.R. Martin, Tommy Patterson</td><td>A Game of Thrones: The Graphic Novel, Vol. 1</td><td>4.48</td></tr>",
                            "<tr><td>18243700</td><td>Sarah J. Maas</td><td>The Assassin's Blade (Throne of Glass, #0.1-0.5)</td><td>4.48</td></tr>",
                            "<tr><td>8755785</td><td>Cassandra Clare</td><td>City of Heavenly Fire (The Mortal Instruments, #6)</td><td>4.48</td></tr>",
                            "<tr><td>11422</td><td>Francine Rivers</td><td>Redeeming Love</td><td>4.48</td></tr>",
                            "<tr><td>659469</td><td>Chuck Dixon, J.R.R. Tolkien, David Wenzel, Sean Deming</td><td>The Hobbit: Graphic Novel</td><td>4.48</td></tr>",
                            "<tr><td>7952502</td><td>Brian Sibley</td><td>Harry Potter: Film Wizardry</td><td>4.48</td></tr>",
                            "<tr><td>3412815</td><td>Eric Wilson</td><td>Fireproof</td><td>4.47</td></tr>",
                            "<tr><td>25494343</td><td>Cassandra Clare</td><td>Lady Midnight (The Dark Artifices, #1)</td><td>4.47</td></tr>",
                            "<tr><td>13569581</td><td>Anthony  Ryan</td><td>Blood Song (Raven's Shadow, #1)</td><td>4.47</td></tr>",
                            "<tr><td>47989</td><td>Terry Pratchett</td><td>Night Watch (Discworld, #29; City Watch, #6)</td><td>4.47</td></tr>",
                            "<tr><td>12127750</td><td>Rick Riordan</td><td>The Mark of Athena (The Heroes of Olympus, #3)</td><td>4.47</td></tr>",
                            "<tr><td>33</td><td>J.R.R. Tolkien</td><td>The Lord of the Rings (The Lord of the Rings, #1-3)</td><td>4.47</td></tr>",
                            "<tr><td>256008</td><td>Larry McMurtry</td><td>Lonesome Dove</td><td>4.47</td></tr>",
                            "<tr><td>22738563</td><td>Chimamanda Ngozi Adichie</td><td>We Should All Be Feminists</td><td>4.47</td></tr>",
                            "<tr><td>23093367</td><td>Brian K. Vaughan, Fiona Staples</td><td>Saga, Vol. 4 (Saga, #4)</td><td>4.47</td></tr>",
                            "<tr><td>426504</td><td>Jorge Luis Borges, Anthony Kerrigan, Anthony Bonner</td><td>Ficciones</td><td>4.47</td></tr>",
                            "<tr><td>7098304</td><td>Kresley Cole</td><td>Demon from the Dark (Immortals After Dark #10)</td><td>4.47</td></tr>",
                            "<tr><td>106393</td><td>Sister Souljah</td><td>The Coldest Winter Ever</td><td>4.47</td></tr>",
                            "<tr><td>1894269</td><td>Robert Kirkman</td><td>The Walking Dead, Vol. 08: Made to Suffer</td><td>4.47</td></tr>",
                            "<tr><td>26200563</td><td>Lin-Manuel Miranda, Jeremy McCarter</td><td>Hamilton: The Revolution</td><td>4.47</td></tr>",
                            "<tr><td>1013383</td><td>Julia Donaldson, Axel Scheffler</td><td>The Gruffalo</td><td>4.47</td></tr>",
                            "<tr><td>906560</td><td>Corrie ten Boom</td><td>Tramp for the Lord</td><td>4.47</td></tr>",
                            "<tr><td>8712343</td><td>Nalini Singh</td><td>Kiss of Snow (Psy-Changeling #10)</td><td>4.47</td></tr>",
                            "<tr><td>228194</td><td>Stephen King</td><td>The Green Mile, Part 2: The Mouse on the Mile</td><td>4.47</td></tr>",
                            "<tr><td>18110808</td><td>Tijan</td><td>Fallen Crest Public (Fallen Crest High, #3)</td><td>4.47</td></tr>",
                            "<tr><td>1298171</td><td>Andrew Stanton, Walt Disney Company</td><td>Finding Nemo</td><td>4.47</td></tr>",
                            "<tr><td>8269450</td><td>Kelley Armstrong</td><td>Darkest Powers Trilogy (Darkest Powers, #1-3)</td><td>4.47</td></tr>",
                            "<tr><td>17333171</td><td>Ilona Andrews</td><td>Magic Shifts (Kate Daniels, #8)</td><td>4.47</td></tr>",
                            "<tr><td>5697</td><td>Anton Chekhov, Richard Pevear, Larissa Volokhonsky</td><td>The Complete Short Novels</td><td>4.47</td></tr>",
                            "<tr><td>6448482</td><td>Atsushi Ohkubo</td><td>Soul Eater, Vol. 02 (Soul Eater, #2)</td><td>4.47</td></tr>",
                            "<tr><td>46908</td><td>Natsuki Takaya, Alethea Nibley, Athena Nibley</td><td>Fruits Basket, Vol. 14</td><td>4.46</td></tr>",
                            "<tr><td>11410104</td><td>Jenny Han</td><td>The Summer I Turned Pretty Trilogy: The Summer I Turned Pretty; It's Not Summer Without You; We'll Always Have Summer</td><td>4.46</td></tr>",
                            "<tr><td>18943009</td><td>R.K. Lilley</td><td>Rock Bottom (Tristan &amp; Danika, #2)</td><td>4.46</td></tr>",
                            "<tr><td>315882</td><td>Ellen Levine, Kadir Nelson</td><td>Henry's Freedom Box: A True Story from the Underground Railroad</td><td>4.46</td></tr>",
                            "<tr><td>10813469</td><td>Kristen Ashley</td><td>Rock Chick Renegade (Rock Chick, #4)</td><td>4.46</td></tr>",
                            "<tr><td>9528186</td><td>Lambert M. Surhone</td><td>Pretty Little Liars (TV Series)</td><td>4.46</td></tr>",
                            "<tr><td>12458287</td><td>Kristen Ashley</td><td>The Golden Dynasty (Fantasyland, #2)</td><td>4.46</td></tr>",
                            "<tr><td>15752757</td><td>Kristen Ashley</td><td>Rock Chick Revolution (Rock Chick, #8)</td><td>4.46</td></tr>",
                            "<tr><td>194870</td><td>Beatrix Potter</td><td>The Complete Adventures of Peter Rabbit</td><td>4.46</td></tr>",
                            "<tr><td>1011359</td><td>Bisco Hatori</td><td>Ouran High School Host Club, Vol. 2 (Ouran High School Host Club, #2)</td><td>4.46</td></tr>",
                            "<tr><td>28220985</td><td>Louise Penny</td><td>A Great Reckoning (Chief Inspector Armand Gamache, #12)</td><td>4.46</td></tr>",
                            "<tr><td>27220736</td><td>Phil Knight</td><td>Shoe Dog: A Memoir by the Creator of NIKE</td><td>4.46</td></tr>",
                            "<tr><td>17717</td><td>Jorge Luis Borges, Donald A. Yates, James E. Irby, André Maurois</td><td>Labyrinths:  Selected Stories and Other Writings</td><td>4.46</td></tr>",
                            "<tr><td>594361</td><td>Justine Korman Fontes, Don Williams, Walt Disney Company</td><td>The Lion King: A little Golden Book</td><td>4.46</td></tr>",
                            "<tr><td>12652457</td><td>Brent Weeks</td><td>The Broken Eye (Lightbringer, #3)</td><td>4.46</td></tr>",
                            "<tr><td>11100431</td><td>Michael J. Sullivan</td><td>Heir of Novron (The Riyria Revelations, #5-6)</td><td>4.46</td></tr>",
                            "<tr><td>6479550</td><td>Ilona Andrews</td><td>Magic Bleeds (Kate Daniels, #4)</td><td>4.46</td></tr>",
                            "<tr><td>7822895</td><td>Stieg Larsson, Reg Keeland</td><td>The Millennium Trilogy (Millennium Trilogy, #1-3)</td><td>4.46</td></tr>",
                            "<tr><td>13206828</td><td>Marissa Meyer</td><td>Cress (The Lunar Chronicles, #3)</td><td>4.46</td></tr>",
                            "<tr><td>2767793</td><td>Brandon Sanderson</td><td>The Hero of Ages (Mistborn, #3)</td><td>4.46</td></tr>",
                            "<tr><td>2</td><td>J.K. Rowling, Mary GrandPré</td><td>Harry Potter and the Order of the Phoenix (Harry Potter, #5)</td><td>4.46</td></tr>",
                            "<tr><td>10025305</td><td>Cassandra Clare</td><td>Clockwork Prince (The Infernal Devices, #2)</td><td>4.46</td></tr>",
                            "<tr><td>18966819</td><td>Pierce Brown</td><td>Golden Son (Red Rising, #2)</td><td>4.46</td></tr>",
                            "<tr><td>3586</td><td>Arthur Conan Doyle, Kyle Freeman</td><td>The Complete Sherlock Holmes, Vol 2</td><td>4.46</td></tr>",
                            "<tr><td>23437156</td><td>Leigh Bardugo</td><td>Six of Crows (Six of Crows, #1)</td><td>4.46</td></tr>",
                            "<tr><td>7304203</td><td>Karen Marie Moning</td><td>Shadowfever (Fever, #5)</td><td>4.46</td></tr>",
                            "<tr><td>12499290</td><td>Brent Weeks</td><td>The Blinding Knife (Lightbringer, #2)</td><td>4.45</td></tr>",
                            "<tr><td>3475161</td><td>Jim Butcher</td><td>Turn Coat (The Dresden Files, #11)</td><td>4.45</td></tr>",
                            "<tr><td>4667024</td><td>Kathryn Stockett</td><td>The Help</td><td>4.45</td></tr>",
                            "<tr><td>13496</td><td>George R.R. Martin</td><td>A Game of Thrones (A Song of Ice and Fire, #1)</td><td>4.45</td></tr>",
                            "<tr><td>42900</td><td>J.R. Ward</td><td>Lover Awakened (Black Dagger Brotherhood, #3)</td><td>4.45</td></tr>",
                            "<tr><td>44186</td><td>Jon Stone, Michael J. Smollin</td><td>The Monster at the End of this Book</td><td>4.45</td></tr>",
                            "<tr><td>56728</td><td>Max Lucado</td><td>You Are Special (Wemmicksville, #1)</td><td>4.45</td></tr>",
                            "<tr><td>20639274</td><td>Mia Sheridan</td><td>Archer's Voice</td><td>4.45</td></tr>",
                            "<tr><td>25106</td><td>Neil Gaiman, Bryan Talbot, Stan Woch, P. Craig Russell, Shawn McManus, John Watkiss, Jill Thompson, Duncan Eagleson, Kent Williams, Todd Klein</td><td>Fables and Reflections (The Sandman #6)</td><td>4.45</td></tr>",
                            "<tr><td>10661081</td><td>Michelle Rowen, Richelle Mead</td><td>Vampire Academy: The Ultimate Guide (Vampire Academy)</td><td>4.45</td></tr>",
                            "<tr><td>18739426</td><td>Brandon Sanderson</td><td>The Bands of Mourning (Mistborn, #6)</td><td>4.45</td></tr>",
                            "<tr><td>8138071</td><td>Kim Harrison</td><td>Pale Demon (The Hollows, #9)</td><td>4.45</td></tr>",
                            "<tr><td>233691</td><td>Gary Larson</td><td>The Far Side Gallery 3</td><td>4.45</td></tr>",
                            "<tr><td>334818</td><td>Barbara Cooney</td><td>Miss Rumphius</td><td>4.45</td></tr>",
                            "<tr><td>5289</td><td>Oscar Wilde, Merlin Holland</td><td>Complete Works of Oscar Wilde</td><td>4.45</td></tr>",
                            "<tr><td>3581</td><td>Arthur Conan Doyle</td><td>Sherlock Holmes: The Complete Novels and Stories, Volume I</td><td>4.45</td></tr>",
                            "<tr><td>13241659</td><td>Kim Harrison</td><td>Ever After (The Hollows, #11)</td><td>4.45</td></tr>",
                            "<tr><td>464260</td><td>James     Baldwin, Kıvanç Güney</td><td>The Fire Next Time</td><td>4.45</td></tr>",
                            "<tr><td>26661</td><td>Beth Moore</td><td>Praying God's Word: Breaking Free From Spiritual Strongholds</td><td>4.45</td></tr>",
                            "<tr><td>11436</td><td>Karen Kingsbury, Gary Smalley</td><td>Rejoice (Redemption, #4)</td><td>4.45</td></tr>",
                            "<tr><td>25293695</td><td>J.R. Ward</td><td>The Beast (Black Dagger Brotherhood, #14)</td><td>4.45</td></tr>",
                            "<tr><td>7278837</td><td>Jeff Kinney</td><td>Diary of a Wimpy Kid: #1-4</td><td>4.45</td></tr>",
                            "<tr><td>1087207</td><td>Bisco Hatori</td><td>Ouran High School Host Club, Vol. 4 (Ouran High School Host Club, #4)</td><td>4.45</td></tr>",
                            "<tr><td>23341855</td><td>Kristen Ashley</td><td>Ride Steady (Chaos, #3)</td><td>4.45</td></tr>",
                            "<tr><td>46906</td><td>Natsuki Takaya, Alethea Nibley, Athena Nibley</td><td>Fruits Basket, Vol. 15</td><td>4.45</td></tr>",
                            "<tr><td>7261549</td><td>Derek Landy</td><td>Dark Days (Skulduggery Pleasant, #4)</td><td>4.45</td></tr>",
                            "<tr><td>24938</td><td>Stephen Schwartz, Gregory Maguire</td><td>Wicked - Piano/Vocal Arrangement</td><td>4.45</td></tr>",
                            "<tr><td>31819</td><td>David Baggett, Shawn E. Klein</td><td>Harry Potter and Philosophy: If Aristotle Ran Hogwarts</td><td>4.45</td></tr>",
                            "<tr><td>1087205</td><td>Bisco Hatori</td><td>Ouran High School Host Club, Vol. 3 (Ouran High School Host Club, #3)</td><td>4.44</td></tr>",
                            "<tr><td>11430</td><td>Karen Kingsbury, Gary Smalley</td><td>Return (Redemption, #3)</td><td>4.44</td></tr>",
                            "<tr><td>9677870</td><td>Hervé Tullet, Christopher Franceschelli</td><td>Press Here</td><td>4.44</td></tr>",
                            "<tr><td>204045</td><td>Masashi Kishimoto</td><td>Naruto, Vol. 05: Exam Hell (Naruto, #5)</td><td>4.44</td></tr>",
                            "<tr><td>13065142</td><td>Kristen Ashley</td><td>Rock Chick Reckoning (Rock Chick, #6)</td><td>4.44</td></tr>",
                            "<tr><td>43915</td><td>Raymond E. Feist, Michael Avon Oeming, Bryan J.L. Glass, Ryan Stegman</td><td>Magician: Apprentice  (Raymond E. Feist's Magician: Apprentice #1)</td><td>4.44</td></tr>",
                            "<tr><td>13580951</td><td>Ally Carter</td><td>United We Spy (Gallagher Girls, #6)</td><td>4.44</td></tr>",
                            "<tr><td>12958487</td><td>Kristen Ashley</td><td>Lady Luck (Colorado Mountain, #3)</td><td>4.44</td></tr>",
                            "<tr><td>8447255</td><td>Steven Erikson</td><td>The Crippled God (The Malazan Book of the Fallen, #10)</td><td>4.44</td></tr>",
                            "<tr><td>9674335</td><td>Joe Hill, Gabriel Rodríguez</td><td>Locke &amp; Key, Vol. 4: Keys to the Kingdom</td><td>4.44</td></tr>",
                            "<tr><td>285500</td><td>Founding Fathers</td><td>The Declaration of Independence and The Constitution of the United States</td><td>4.44</td></tr>",
                            "<tr><td>5936</td><td>Pablo Neruda, Ilan Stavans</td><td>The Poetry of Pablo Neruda</td><td>4.44</td></tr>",
                            "<tr><td>25451555</td><td>Brian K. Vaughan, Fiona Staples</td><td>Saga, Vol. 5 (Saga, #5)</td><td>4.44</td></tr>",
                            "<tr><td>673252</td><td>Brynne Stephens, Lela Dowling, Cynthia Martin, Anne McCaffrey</td><td>Anne McCaffrey's Dragonflight #1</td><td>4.44</td></tr>",
                            "<tr><td>284996</td><td>Flannery O'Connor</td><td>The Complete Stories</td><td>4.44</td></tr>",
                            "<tr><td>304079</td><td>Jalaluddin Rumi, Coleman Barks</td><td>The Essential Rumi</td><td>4.44</td></tr>",
                            "<tr><td>4345498</td><td>Ilona Andrews</td><td>Magic Strikes (Kate Daniels, #3)</td><td>4.44</td></tr>",
                            "<tr><td>13644052</td><td>Jennifer L. Armentrout</td><td>Origin (Lux, #4)</td><td>4.44</td></tr>",
                            "<tr><td>90072</td><td>Robert Kapilow, Dr. Seuss</td><td>Dr. Seuss's Green Eggs and Ham: For Soprano, Boy Soprano, and Orchestra</td><td>4.44</td></tr>",
                            "<tr><td>3</td><td>J.K. Rowling, Mary GrandPré</td><td>Harry Potter and the Sorcerer's Stone (Harry Potter, #1)</td><td>4.44</td></tr>",
                            "<tr><td>9520360</td><td>Rick Riordan</td><td>The Son of Neptune (The Heroes of Olympus, #2)</td><td>4.44</td></tr>",
                            "<tr><td>13188676</td><td>Tahereh Mafi</td><td>Ignite Me (Shatter Me, #3)</td><td>4.44</td></tr>",
                            "<tr><td>7351574</td><td>Mark Cotta Vaz</td><td>Eclipse: The Complete Illustrated Movie Companion (The Twilight Saga: The Official Illustrated Movie Companion, #3)</td><td>4.44</td></tr>",
                            "<tr><td>27362503</td><td>Colleen Hoover</td><td>It Ends with Us</td><td>4.44</td></tr>",
                            "<tr><td>25099</td><td>Neil Gaiman, Steve Parkhouse, Chris Bachalo, Michael Zulli, Mike Dringenberg, Malcolm Jones III, Todd Klein, Clive Barker</td><td>The Doll's House (The Sandman #2)</td><td>4.44</td></tr>",
                            "<tr><td>875441</td><td>Lawrence Hill</td><td>Someone Knows My Name</td><td>4.44</td></tr>",
                            "<tr><td>6050298</td><td>Karen Marie Moning</td><td>Dreamfever (Fever, #4)</td><td>4.43</td></tr>",
                            "<tr><td>17255265</td><td>Jodi Ellen Malpas</td><td>This Man Confessed (This Man, #3)</td><td>4.43</td></tr>",
                            "<tr><td>6344097</td><td>Roberto Aguirre-Sacasa, Stephen King, Mike Perkins, Laura       Martin</td><td>The Stand: Captain Trips</td><td>4.43</td></tr>",
                            "<tr><td>927979</td><td>Jim Butcher</td><td>Small Favor (The Dresden Files, #10)</td><td>4.43</td></tr>",
                            "<tr><td>6465707</td><td>Robert Kirkman</td><td>The Walking Dead, Compendium 1</td><td>4.43</td></tr>",
                            "<tr><td>17683</td><td>Jim Butcher</td><td>Dead Beat (The Dresden Files, #7)</td><td>4.43</td></tr>",
                            "<tr><td>68428</td><td>Brandon Sanderson</td><td>The Final Empire (Mistborn, #1)</td><td>4.43</td></tr>",
                            "<tr><td>1923820</td><td>Anonymous</td><td>Holy Bible: King James Version</td><td>4.43</td></tr>",
                            "<tr><td>11387515</td><td>R.J. Palacio</td><td>Wonder</td><td>4.43</td></tr>",
                            "<tr><td>10965</td><td>Diana Gabaldon</td><td>A Breath of Snow and Ashes (Outlander, #6)</td><td>4.43</td></tr>",
                            "<tr><td>408615</td><td>Immaculée Ilibagiza, Steve Erwin</td><td>Left to Tell: Discovering God Amidst the Rwandan Holocaust</td><td>4.43</td></tr>",
                            "<tr><td>99111</td><td>A.A. Milne, Ernest H. Shepard</td><td>The World of Winnie-the-Pooh (Winnie-the-Pooh, #1-2)</td><td>4.43</td></tr>",
                            "<tr><td>25102</td><td>Neil Gaiman, Shawn McManus, Colleen Doran, Bryan Talbot, George Pratt, Stan Woch, Dick Giordano, Todd Klein</td><td>A Game of You (The Sandman #5)</td><td>4.43</td></tr>",
                            "<tr><td>8559047</td><td>Ilona Andrews</td><td>Magic Slays (Kate Daniels, #5)</td><td>4.43</td></tr>",
                            "<tr><td>13644055</td><td>Jennifer L. Armentrout</td><td>Opposition (Lux, #5)</td><td>4.43</td></tr>",
                            "<tr><td>4902793</td><td>Charlaine Harris</td><td>Sookie Stackhouse 7-copy Boxed Set (Sookie Stackhouse, #1-7)</td><td>4.43</td></tr>",
                            "<tr><td>13448656</td><td>Kristen Ashley</td><td>Motorcycle Man (Dream Man, #4)</td><td>4.43</td></tr>",
                            "<tr><td>8724779</td><td>P.C. Cast, Kristin Cast</td><td>Marked / Betrayed / Chosen / Untamed / Hunted (House of Night #1-5)</td><td>4.43</td></tr>",
                            "<tr><td>74169</td><td>Max Lucado</td><td>Facing Your Giants: A David and Goliath Story for Everyday People</td><td>4.43</td></tr>",
                            "<tr><td>17285883</td><td>Kim Harrison</td><td>The Undead Pool (The Hollows, #12)</td><td>4.43</td></tr>",
                            "<tr><td>35233</td><td>Robert Jordan</td><td>The Wheel of Time: Boxed Set #1 (Wheel of Time, #1-3)</td><td>4.43</td></tr>",
                            "<tr><td>1493253</td><td>Yoshihiro Togashi, 冨樫 義博</td><td>Hunter x Hunter, Vol. 01 (Hunter x Hunter, #1)</td><td>4.43</td></tr>",
                            "<tr><td>18667307</td><td>Sui Ishida, 石田 スイ</td><td>Tokyo Ghoul, tome 1 (Tokyo Ghoul, #1)</td><td>4.43</td></tr>",
                            "<tr><td>8320534</td><td>Bryan J.L. Glass, Tim Seeley, Hugo Petrus, Raymond E. Feist</td><td>Raymond E. Feist's Magician Master</td><td>4.43</td></tr>",
                            "<tr><td>10790516</td><td>Kresley Cole</td><td>Lothaire (Immortals After Dark #12)</td><td>4.43</td></tr>",
                            "<tr><td>763429</td><td>Robert Kirkman, Charlie Adlard, Cliff Rathburn, Rus Wooton</td><td>The Walking Dead, Book Three (The Walking Dead #25-36)</td><td>4.43</td></tr>",
                            "<tr><td>13502970</td><td>Amy A. Bartol</td><td>Incendiary (The Premonition, #4)</td><td>4.43</td></tr>",
                            "<tr><td>13096848</td><td>Gene Luen Yang, Michael Dante DiMartino, Gurihiru, Bryan Konietzko</td><td>Avatar: The Last Airbender (The Promise, #2)</td><td>4.43</td></tr>",
                            "<tr><td>441618</td><td>Beth Moore</td><td>Breaking Free: Discover the Victory of Total Surrender</td><td>4.43</td></tr>",
                            "<tr><td>320700</td><td>Stephen Jones, H.P. Lovecraft, Kim Newman, Brian Mooney, Nicholas Royle, David Langford, Michael Marshall Smith, Brian Lumley, Neil Gaiman, Basil Copper, Jack Yeovil, Guy N. Smith, Adrian Cole, D.F. Lewis, Ramsey Campbell, David Sutton, Peter Tremayne</td><td>Shadows over Innsmouth</td><td>4.43</td></tr>",
                            "<tr><td>4488657</td><td>صلاح جاهين, يحيى حقي</td><td>رباعيات صلاح جاهين</td><td>4.43</td></tr>",
                            "<tr><td>20426917</td><td>Kim Harrison</td><td>The Witch With No Name (The Hollows, #13)</td><td>4.43</td></tr>",
                            "<tr><td>9799572</td><td>Kristen Ashley</td><td>Rock Chick Redemption (Rock Chick, #3)</td><td>4.43</td></tr>",
                            "<tr><td>20912424</td><td>Kimberly Brubaker Bradley, مرضیه ورشوساز</td><td>The War that Saved My Life (The War That Saved My Life #1)</td><td>4.43</td></tr>",
                            "<tr><td>11389341</td><td>Timothy J. Keller, Kathy  Keller</td><td>The Meaning of Marriage: Facing the Complexities of Commitment with the Wisdom of God</td><td>4.43</td></tr>",
                            "<tr><td>102030</td><td>Eiji Yoshikawa, Charles Terry, Edwin O. Reischauer</td><td>Musashi</td><td>4.43</td></tr>",
                            "<tr><td>8315872</td><td>J.D. Robb, Nora Roberts</td><td>Treachery in Death (In Death, #32)</td><td>4.43</td></tr>",
                            "<tr><td>61899</td><td>Lois McMaster Bujold</td><td>A Civil Campaign (Vorkosigan Saga, #12)</td><td>4.43</td></tr>",
                            "<tr><td>13618</td><td>Tsugumi Ohba, Takeshi Obata</td><td>Death Note, Vol. 3: Hard Run (Death Note, #3)</td><td>4.42</td></tr>",
                            "<tr><td>22669832</td><td>Kim Holden</td><td>Bright Side (Bright Side, #1)</td><td>4.42</td></tr>",
                            "<tr><td>16074748</td><td>Rachel Renée Russell</td><td>Tales from a Not-So-Happy Heartbreaker (Dork Diaries, #6)</td><td>4.42</td></tr>",
                            "<tr><td>86524</td><td>Robert A. Caro</td><td>The Path to Power (The Years of Lyndon Johnson, #1)</td><td>4.42</td></tr>",
                            "<tr><td>77427</td><td>Patrick O'Brian</td><td>H.M.S. Surprise</td><td>4.42</td></tr>",
                            "<tr><td>13565676</td><td>Sarah J. Maas</td><td>The Assassin and the Empire (Throne of Glass, #0.5)</td><td>4.42</td></tr>",
                            "<tr><td>336245</td><td>Erin Hunter</td><td>A Dangerous Path (Warriors, #5)</td><td>4.42</td></tr>",
                            "<tr><td>6122735</td><td>Brent Weeks</td><td>The Night Angel Trilogy (Night Angel, #1-3)</td><td>4.42</td></tr>",
                            "<tr><td>478951</td><td>Steven Erikson</td><td>The Bonehunters (Malazan Book of the Fallen, #6)</td><td>4.42</td></tr>",
                            "<tr><td>11437</td><td>Raymond Carver</td><td>Where I'm Calling From: New and Selected Stories</td><td>4.42</td></tr>",
                            "<tr><td>11227040</td><td>Kristen Ashley</td><td>Sweet Dreams (Colorado Mountain, #2)</td><td>4.42</td></tr>",
                            "<tr><td>77281</td><td>Gary Larson</td><td>The Far Side Gallery</td><td>4.42</td></tr>",
                            "<tr><td>32127</td><td>Ina May Gaskin</td><td>Ina May's Guide to Childbirth</td><td>4.42</td></tr>",
                            "<tr><td>158516</td><td>Ilya Ilf, Eugene Petrov, Maurice Friedberg, John H.C. Richardson</td><td>The Twelve Chairs</td><td>4.42</td></tr>",
                            "<tr><td>13619</td><td>Tsugumi Ohba, Takeshi Obata</td><td>Death Note, Vol. 2: Confluence (Death Note, #2)</td><td>4.42</td></tr>",
                            "<tr><td>10402992</td><td>J.D. Robb, Susan Ericksen</td><td>New York to Dallas (In Death, #33)</td><td>4.42</td></tr>",
                            "<tr><td>13547289</td><td>Rachel Renée Russell</td><td>Tales from a Not-So-Smart Miss Know-It-All (Dork Diaries, #5)</td><td>4.42</td></tr>",
                            "<tr><td>8038219</td><td>Gena Showalter</td><td>The Darkest Surrender  (Lords of the Underworld #8)</td><td>4.42</td></tr>",
                            "<tr><td>17562900</td><td>Patricia Briggs</td><td>Night Broken (Mercy Thompson, #8)</td><td>4.42</td></tr>",
                            "<tr><td>7592279</td><td>John Flanagan</td><td>The Emperor of Nihon-Ja (Ranger's Apprentice, #10)</td><td>4.42</td></tr>",
                            "<tr><td>92143</td><td>Jeff Smith</td><td>Bone: The Complete Edition</td><td>4.42</td></tr>",
                            "<tr><td>969275</td><td>Akira Toriyama</td><td>Dragon Ball, Vol. 1: The Monkey King (Dragon Ball, #1)</td><td>4.42</td></tr>",
                            "<tr><td>6178648</td><td>Barbara Demick</td><td>Nothing to Envy: Ordinary Lives in North Korea</td><td>4.42</td></tr>",
                            "<tr><td>8253920</td><td>Robert Jordan, Brandon Sanderson</td><td>Towers of Midnight (Wheel of Time, #13)</td><td>4.42</td></tr>",
                            "<tr><td>3579</td><td>L.M. Montgomery</td><td>The Complete Anne of Green Gables Boxed Set (Anne of Green Gables, #1-8)</td><td>4.42</td></tr>",
                            "<tr><td>13615</td><td>Tsugumi Ohba, Takeshi Obata</td><td>Death Note, Vol. 1: Boredom (Death Note, #1)</td><td>4.42</td></tr>",
                            "<tr><td>546018</td><td>Alex Haley</td><td>Roots: The Saga of an American Family</td><td>4.42</td></tr>",
                            "<tr><td>15241</td><td>J.R.R. Tolkien</td><td>The Two Towers (The Lord of the Rings, #2)</td><td>4.42</td></tr>",
                            "<tr><td>561909</td><td>Corrie ten Boom, John Sherrill, Elizabeth Sherrill</td><td>The Hiding Place: The Triumphant True Story of Corrie Ten Boom</td><td>4.42</td></tr>",
                            "<tr><td>11566</td><td>Stephen King</td><td>The Green Mile</td><td>4.42</td></tr>",
                            "<tr><td>6527740</td><td>Richelle Mead</td><td>Last Sacrifice (Vampire Academy, #6)</td><td>4.42</td></tr>",
                            "<tr><td>1237398</td><td>Eiichirō Oda, Andy Nakatani</td><td>One Piece, Volume 01: Romance Dawn (One Piece, #1)</td><td>4.42</td></tr>",
                            "<tr><td>42389</td><td>Stephen E. Ambrose</td><td>Band of Brothers: E Company, 506th Regiment, 101st Airborne from Normandy to Hitler's Eagle's Nest</td><td>4.42</td></tr>",
                            "<tr><td>2832909</td><td>Diana Gabaldon</td><td>An Echo in the Bone (Outlander, #7)</td><td>4.42</td></tr>",
                            "<tr><td>13154150</td><td>Hajime Isayama, Sheldon Drzka</td><td>Attack on Titan, Vol. 1 (Attack on Titan, #1)</td><td>4.42</td></tr>",
                            "<tr><td>13600318</td><td>S.C. Stephens</td><td>Reckless (Thoughtless, #3)</td><td>4.42</td></tr>",
                            "<tr><td>7243142</td><td>Brandon Mull</td><td>Keys to the Demon Prison (Fablehaven, #5)</td><td>4.42</td></tr>",
                            "<tr><td>18419</td><td>Audrey Penn, Ruth E. Harper, Nancy M. Leak</td><td>The Kissing Hand</td><td>4.41</td></tr>",
                            "<tr><td>8709526</td><td>Richelle Mead</td><td>The Indigo Spell (Bloodlines, #3)</td><td>4.41</td></tr>",
                            "<tr><td>7788</td><td>Dr. Seuss, Various</td><td>The Cat in the Hat and Other Dr. Seuss Favorites</td><td>4.41</td></tr>",
                            "<tr><td>23692271</td><td>Yuval Noah Harari</td><td>Sapiens: A Brief History of Humankind</td><td>4.41</td></tr>",
                            "<tr><td>15197</td><td>Art Spiegelman</td><td>Maus II: A Survivor's Tale: And Here My Troubles Began (Maus, #2)</td><td>4.41</td></tr>",
                            "<tr><td>91474</td><td>Jim Butcher</td><td>Proven Guilty (The Dresden Files, #8)</td><td>4.41</td></tr>",
                            "<tr><td>91475</td><td>Jim Butcher</td><td>White Night (The Dresden Files, #9)</td><td>4.41</td></tr>",
                            "<tr><td>7046495</td><td>J.R. Ward</td><td>Lover Mine (Black Dagger Brotherhood, #8)</td><td>4.41</td></tr>",
                            "<tr><td>18705209</td><td>Rick Riordan</td><td>The Blood of Olympus (The Heroes of Olympus, #5)</td><td>4.41</td></tr>",
                            "<tr><td>25111004</td><td>Colleen Hoover</td><td>November 9</td><td>4.41</td></tr>",
                            "<tr><td>27071490</td><td>Yaa Gyasi</td><td>Homegoing</td><td>4.41</td></tr>",
                            "<tr><td>7904429</td><td>Bryan Lee O'Malley</td><td>Scott Pilgrim, Volume 6: Scott Pilgrim's Finest Hour</td><td>4.41</td></tr>",
                            "<tr><td>9761778</td><td>Jennifer L. Armentrout</td><td>Deity (Covenant, #3)</td><td>4.41</td></tr>",
                            "<tr><td>16101018</td><td>Drew Daywalt, Oliver Jeffers</td><td>The Day the Crayons Quit</td><td>4.41</td></tr>",
                            "<tr><td>6337006</td><td>Kresley Cole</td><td>Pleasure of a Dark Prince (Immortals After Dark #9)</td><td>4.41</td></tr>",
                            "<tr><td>17167084</td><td>Louise Penny</td><td>How the Light Gets In (Chief Inspector Armand Gamache, #9)</td><td>4.41</td></tr>",
                            "<tr><td>10450750</td><td>Bryan Konietzko, Michael Dante DiMartino, Aaron Ehasz, Alison Wilgus, Amy Kim Ganter, Brian Ralph, Corey Lewis, Dave Roman, Elsa Garagarza, Ethan Spaulding, Frank Pittarese, Gurihiru, J. Torres, Joaquim Dos Santos, Johane Matte, John O'Bryan, Joshua Hamilton, Justin Ridge, Kaite Mattila, May Chan, Rawles Marie Lumumba, Reagan Lodge, Tim Hedrick, Tom McWeeney</td><td>Avatar: The Last Airbender: The Lost Adventures</td><td>4.41</td></tr>",
                            "<tr><td>6871646</td><td>Eric Litwin, James Dean</td><td>Pete the Cat: I Love My White Shoes</td><td>4.41</td></tr>",
                            "<tr><td>97862</td><td>Karen Kingsbury</td><td>One Tuesday Morning (9/11, #1)</td><td>4.41</td></tr>",
                            "<tr><td>13337716</td><td>George R.R. Martin</td><td>A Dance with Dragons: After the Feast (A Song of Ice and Fire #5, Part 2 of 2)</td><td>4.41</td></tr>",
                            "<tr><td>2879</td><td>Tite Kubo</td><td>Bleach, Volume 15</td><td>4.41</td></tr>",
                            "<tr><td>7202841</td><td>Joe Hill, Gabriel Rodríguez</td><td>Locke &amp; Key, Vol. 3: Crown of Shadows</td><td>4.41</td></tr>",
                            "<tr><td>35332</td><td>Karen Kingsbury, Gary Smalley</td><td>Remember (Redemption, #2)</td><td>4.41</td></tr>",
                            "<tr><td>30065028</td><td>J.K. Rowling</td><td>Fantastic Beasts and Where to Find Them: The Original Screenplay</td><td>4.41</td></tr>",
                            "<tr><td>877752</td><td>Natsuki Takaya, Alethea Nibley, Athena Nibley</td><td>Fruits Basket, Vol. 7</td><td>4.41</td></tr>",
                            "<tr><td>13621</td><td>Tsugumi Ohba, Takeshi Obata</td><td>Death Note, Vol. 7: Zero (Death Note, #7)</td><td>4.41</td></tr>",
                            "<tr><td>58033</td><td>William Shakespeare, Sylvan Barnet, Alvin Kernan, Russell Fraser</td><td>Four Great Tragedies: Hamlet / Othello / King Lear / Macbeth</td><td>4.41</td></tr>",
                            "<tr><td>121715</td><td>C.S. Lewis</td><td>The Weight of Glory</td><td>4.41</td></tr>",
                            "<tr><td>13167796</td><td>W. Bruce Cameron</td><td>A Dog's Journey (A Dog's Purpose, #2)</td><td>4.41</td></tr>",
                            "<tr><td>434535</td><td>James L. Ferrell</td><td>The Peacegiver: How Christ Offers to Heal Our Hearts and Homes</td><td>4.41</td></tr>",
                            "<tr><td>13070346</td><td>Quinn Loftis</td><td>Blood Rites (The Grey Wolves, #2)</td><td>4.41</td></tr>",
                            "<tr><td>12677913</td><td>Colleen Houck</td><td>Tiger's Destiny (The Tiger Saga, #4)</td><td>4.41</td></tr>",
                            "<tr><td>13605727</td><td>Jennifer L. Armentrout</td><td>Elixir (Covenant, #3.5)</td><td>4.41</td></tr>",
                            "<tr><td>86525</td><td>Robert A. Caro</td><td>Master of the Senate (The Years of Lyndon Johnson, #3)</td><td>4.41</td></tr>",
                            "<tr><td>14403</td><td>Robert Coles, George Ford</td><td>The Story of Ruby Bridges</td><td>4.41</td></tr>",
                            "<tr><td>22421</td><td>Warren Ellis, Darick Robertson, Rodney Ramos, Keith Akin</td><td>Transmetropolitan, Vol. 4: The New Scum (Transmetropolitan, #4)</td><td>4.41</td></tr>",
                            "<tr><td>16084702</td><td>E.L. James</td><td>Fifty Shades Duo: Fifty Shades Darker / Fifty Shades Freed (Fifty Shades, #2-3)</td><td>4.41</td></tr>",
                            "<tr><td>359461</td><td>Dee Henderson</td><td>The Guardian (O'Malley #2)</td><td>4.4</td></tr>",
                            "<tr><td>426030</td><td>Dee Henderson</td><td>The Healer (O'Malley #5)</td><td>4.4</td></tr>",
                            "<tr><td>17903381</td><td>HaveYouSeenThisGirL, Jan Irene Villar</td><td>Diary ng Panget</td><td>4.4</td></tr>",
                            "<tr><td>19286674</td><td>Darynda Jones</td><td>Seventh Grave and No Body (Charley Davidson, #7)</td><td>4.4</td></tr>",
                            "<tr><td>76248</td><td>William S. Baring-Gould</td><td>Sherlock Holmes of Baker Street: A Life of the World's First Consulting Detective</td><td>4.4</td></tr>",
                            "<tr><td>672948</td><td>Erich Maria Remarque</td><td>Arch of Triumph: A Novel of a Man Without a Country</td><td>4.4</td></tr>",
                            "<tr><td>4893390</td><td>Derek Landy</td><td>The Faceless Ones (Skulduggery Pleasant, #3)</td><td>4.4</td></tr>",
                            "<tr><td>11339</td><td>Pablo Neruda, Stephen Tapscott</td><td>100 Love Sonnets</td><td>4.4</td></tr>",
                            "<tr><td>13419891</td><td>Sarah J. Maas</td><td>The Assassin and the Desert (Throne of Glass, #0.3)</td><td>4.4</td></tr>",
                            "<tr><td>22420</td><td>Warren Ellis, Darick Robertson, Rodney Ramos, Patrick Stewart</td><td>Transmetropolitan, Vol. 5: Lonely City (Transmetropolitan, #5)</td><td>4.4</td></tr>",
                            "<tr><td>17465470</td><td>John Flanagan</td><td>The Royal Ranger (Ranger's Apprentice, #12)</td><td>4.4</td></tr>",
                            "<tr><td>2002</td><td>J.K. Rowling</td><td>Harry Potter Schoolbooks Box Set: Two Classic Books from the Library of Hogwarts School of Witchcraft and Wizardry</td><td>4.4</td></tr>",
                            "<tr><td>46201</td><td>Rainer Maria Rilke, Stephen Mitchell, Robert Hass</td><td>The Selected Poetry of Rainer Maria Rilke</td><td>4.4</td></tr>",
                            "<tr><td>94807</td><td>Arnold Lobel</td><td>The Frog and Toad Treasury: Frog and Toad are Friends/Frog and Toad Together/Frog and Toad All Year  (Frog and Toad #1-3)</td><td>4.4</td></tr>",
                            "<tr><td>13003565</td><td>John Flanagan</td><td>The Invaders (Brotherband Chronicles, #2)</td><td>4.4</td></tr>",
                            "<tr><td>22418</td><td>Warren Ellis, Darick Robertson, Rodney Ramos</td><td>Transmetropolitan, Vol. 3: Year of the Bastard (Transmetropolitan, #3)</td><td>4.4</td></tr>",
                            "<tr><td>771332</td><td>Eugene B. Sledge, Paul Fussell</td><td>With the Old Breed: At Peleliu and Okinawa</td><td>4.4</td></tr>",
                            "<tr><td>9897164</td><td>Jennifer L. Armentrout</td><td>Apollyon (Covenant, #4)</td><td>4.4</td></tr>",
                            "<tr><td>1305</td><td>Steven Pressfield</td><td>Gates of Fire: An Epic Novel of the Battle of Thermopylae</td><td>4.4</td></tr>",
                            "<tr><td>8811139</td><td>Michael  Grant</td><td>Light (Gone, #6)</td><td>4.4</td></tr>",
                            "<tr><td>3492020</td><td>J.D. Robb</td><td>Promises in Death (In Death, #28)</td><td>4.4</td></tr>",
                            "<tr><td>16090981</td><td>Tarryn Fisher</td><td>Thief (Love Me with Lies, #3)</td><td>4.4</td></tr>",
                            "<tr><td>119829</td><td>Sharon Kay Penman</td><td>The Sunne in Splendour</td><td>4.4</td></tr>",
                            "<tr><td>13538992</td><td>Darynda Jones</td><td>Fourth Grave Beneath My Feet (Charley Davidson, #4)</td><td>4.4</td></tr>",
                            "<tr><td>1128437</td><td>Andrzej Sapkowski</td><td>Miecz przeznaczenia (Saga o Wiedźminie, #2)</td><td>4.4</td></tr>",
                            "<tr><td>11281852</td><td>Katie J. Davis, Beth Clark</td><td>Kisses from Katie: A Story of Relentless Love and Redemption</td><td>4.4</td></tr>",
                            "<tr><td>831194</td><td>Erin Hunter</td><td>Forest of Secrets (Warriors, #3)</td><td>4.4</td></tr>",
                            "<tr><td>14118</td><td>Teddy Slater, Ron Dias, Ric González</td><td>Beauty and the Beast (Disney)</td><td>4.4</td></tr>",
                            "<tr><td>6081685</td><td>Hiro Fujiwara</td><td>Maid-sama! Vol. 01 (Maid-sama!, #1)</td><td>4.4</td></tr>",
                            "<tr><td>76237</td><td>Richard Lancelyn Green, Ronald Knox, Julian Symons, Various</td><td>The Further Adventures of Sherlock Holmes: After Sir Arthur Conan Doyle (Classic Crime)</td><td>4.4</td></tr>",
                            "<tr><td>76104</td><td>Adrian Conan Doyle, John Dickson Carr</td><td>The Exploits of Sherlock Holmes</td><td>4.4</td></tr>",
                            "<tr><td>25489625</td><td>Ta-Nehisi Coates</td><td>Between the World and Me</td><td>4.4</td></tr>",
                            "<tr><td>8664353</td><td>Laura Hillenbrand</td><td>Unbroken: A World War II Story of Survival, Resilience, and Redemption</td><td>4.4</td></tr>",
                            "<tr><td>10572</td><td>George R.R. Martin</td><td>A Clash of Kings  (A Song of Ice and Fire, #2)</td><td>4.4</td></tr>",
                            "<tr><td>2454986</td><td>Hiro Mashima, William Flanagan</td><td>Fairy Tail, Vol. 1 (Fairy Tail, #1)</td><td>4.4</td></tr>",
                            "<tr><td>20696006</td><td>Atul Gawande</td><td>Being Mortal: Medicine and What Matters in the End</td><td>4.4</td></tr>",
                            "<tr><td>13027304</td><td>Emily Seife</td><td>The Hunger Games Tribute Guide</td><td>4.4</td></tr>",
                            "<tr><td>46654</td><td>Isaac Asimov</td><td>The Foundation Trilogy (Foundation, #1-3)</td><td>4.39</td></tr>",
                            "<tr><td>17340050</td><td>Colleen Hoover</td><td>Losing Hope (Hopeless, #2)</td><td>4.39</td></tr>",
                            "<tr><td>175510</td><td>Oswald Chambers</td><td>My Utmost for His Highest</td><td>4.39</td></tr>",
                            "<tr><td>18007564</td><td>Andy Weir</td><td>The Martian</td><td>4.39</td></tr>",
                            "<tr><td>2120932</td><td>Rick Riordan</td><td>The Battle of the Labyrinth (Percy Jackson and the Olympians, #4)</td><td>4.39</td></tr>",
                            "<tr><td>7557548</td><td>Terry Pratchett, Stephen Briggs</td><td>Men at Arms: The Play</td><td>4.39</td></tr>",
                            "<tr><td>175983</td><td>Steven Erikson</td><td>Memories of Ice (The Malazan Book of the Fallen, #3)</td><td>4.39</td></tr>",
                            "<tr><td>9833184</td><td>Richelle Mead</td><td>The Fiery Heart (Bloodlines, #4)</td><td>4.39</td></tr>",
                            "<tr><td>84145</td><td>Sherrilyn Kenyon</td><td>Dance with the Devil (Dark-Hunter #3)</td><td>4.39</td></tr>",
                            "<tr><td>9409469</td><td>Cinda Williams Chima</td><td>The Gray Wolf Throne (Seven Realms, #3)</td><td>4.39</td></tr>",
                            "<tr><td>25242224</td><td>Elena Ferrante, Ann Goldstein</td><td>The Story of the Lost Child (The Neapolitan Novels, #4)</td><td>4.39</td></tr>",
                            "<tr><td>6547188</td><td>Kim Harrison</td><td>Black Magic Sanction (The Hollows, #8)</td><td>4.39</td></tr>",
                            "<tr><td>95621</td><td>Francine Rivers</td><td>As Sure as the Dawn (Mark of the Lion, #3)</td><td>4.39</td></tr>",
                            "<tr><td>5787</td><td>Jorge Luis Borges, Andrew Hurley</td><td>The Aleph and Other Stories </td><td>4.39</td></tr>",
                            "<tr><td>8462184</td><td>Rachel Caine</td><td>The Morganville Vampires, Volume 3 (The Morganville Vampires, #5-6)</td><td>4.39</td></tr>",
                            "<tr><td>2617684</td><td>Walt Disney Company</td><td>Winnie the Pooh and Tigger Too (Disney's Wonderful World of Reading)</td><td>4.39</td></tr>",
                            "<tr><td>1603923</td><td>Walt Disney Company, Ellen Titlebaum</td><td>Beauty and the Beast</td><td>4.39</td></tr>",
                            "<tr><td>12043770</td><td>Darynda Jones</td><td>Third Grave Dead Ahead (Charley Davidson, #3)</td><td>4.39</td></tr>",
                            "<tr><td>42909</td><td>James Herriot</td><td>All Things Wise and Wonderful</td><td>4.39</td></tr>",
                            "<tr><td>8534799</td><td>Kresley Cole</td><td>Dreams of a Dark Warrior (Immortals After Dark #11)</td><td>4.39</td></tr>",
                            "<tr><td>6441654</td><td>Rebecca Housel, J. Jeremy Wisnewski, William Irwin</td><td>Twilight and Philosophy: Vampires, Vegetarians, and the Pursuit of Immortality</td><td>4.39</td></tr>",
                            "<tr><td>3116205</td><td>Timothy J. Keller</td><td>The Prodigal God: Recovering the Heart of the Christian Faith</td><td>4.39</td></tr>",
                            "<tr><td>16175040</td><td>Kresley Cole</td><td>Endless Knight (The Arcana Chronicles, #2)</td><td>4.39</td></tr>",
                            "<tr><td>38739</td><td>James Herriot</td><td>The Lord God Made Them All</td><td>4.39</td></tr>",
                            "<tr><td>232958</td><td>Bernadette Rossetti-Shustak, Caroline Jayne Church</td><td>I Love You Through and Through</td><td>4.39</td></tr>",
                            "<tr><td>10659536</td><td>Shel Silverstein</td><td>Every Thing on It</td><td>4.39</td></tr>",
                            "<tr><td>13620</td><td>Tsugumi Ohba, Takeshi Obata</td><td>Death Note, Vol. 6: Give-and-Take (Death Note, #6)</td><td>4.39</td></tr>",
                            "<tr><td>22609522</td><td>Bill Browder</td><td>Red Notice: A True Story of High Finance, Murder, and One Man’s Fight for Justice</td><td>4.39</td></tr>",
                            "<tr><td>370057</td><td>Dee Henderson</td><td>The Truth Seeker (O'Malley #3)</td><td>4.39</td></tr>",
                            "<tr><td>17163514</td><td>Michael J. Sullivan</td><td>The Rose and the Thorn (The Riyria Chronicles, #2)</td><td>4.39</td></tr>",
                            "<tr><td>19534</td><td>David James Duncan</td><td>The Brothers K</td><td>4.39</td></tr>",
                            "<tr><td>11233988</td><td>Jon Klassen</td><td>I Want My Hat Back</td><td>4.39</td></tr>",
                            "<tr><td>929782</td><td>Jack London, Andrew Sinclair</td><td>Martin Eden</td><td>4.39</td></tr>",
                            "<tr><td>25711641</td><td>T.M. Frazier</td><td>Tyrant (King, #2)</td><td>4.39</td></tr>",
                            "<tr><td>10537195</td><td>Kazu Kibuishi</td><td>The Last Council (Amulet, #4)</td><td>4.39</td></tr>",
                            "<tr><td>1145862</td><td>Patty Lovell, David Catrow</td><td>Stand Tall, Molly Lou Melon</td><td>4.39</td></tr>",
                            "<tr><td>132152</td><td>Lettie B. Cowman, James Reimann</td><td>Streams in the Desert</td><td>4.39</td></tr>",
                            "<tr><td>836611</td><td>Natsuki Takaya, Alethea Nibley, Athena Nibley</td><td>Fruits Basket, Vol. 4</td><td>4.39</td></tr>",
                            "<tr><td>7894870</td><td>Jeff Smith, Thomas E. Sniegoski, Steve Hamaker</td><td>Bone: Tall Tales</td><td>4.38</td></tr>",
                            "<tr><td>595822</td><td>Dee Henderson</td><td>The Protector (O'Malley #4)</td><td>4.38</td></tr>",
                            "<tr><td>836607</td><td>Natsuki Takaya, Alethea Nibley, Athena Nibley</td><td>Fruits Basket, Vol. 3</td><td>4.38</td></tr>",
                            "<tr><td>23168817</td><td>Liu Cixin, Joel Martinsen</td><td>The Dark Forest (Remembrance of Earth’s Past, #2)</td><td>4.38</td></tr>",
                            "<tr><td>13616</td><td>Tsugumi Ohba, Takeshi Obata</td><td>Death Note, Vol. 4: Love (Death Note, #4)</td><td>4.38</td></tr>",
                            "<tr><td>821000</td><td>A.A. Milne, Ernest H. Shepard</td><td>Now We Are Six (Winnie-the-Pooh, #4)</td><td>4.38</td></tr>",
                            "<tr><td>7140220</td><td>Nancy Reagin</td><td>Twilight and History</td><td>4.38</td></tr>",
                            "<tr><td>166580</td><td>Neil Gaiman, Yoshitaka Amano</td><td>The Sandman: The Dream Hunters</td><td>4.38</td></tr>",
                            "<tr><td>16061295</td><td>Darynda Jones</td><td>Sixth Grave on the Edge (Charley Davidson, #6)</td><td>4.38</td></tr>",
                            "<tr><td>7967299</td><td>Crissy Calhoun</td><td>Love You to Death: The Unofficial Companion to the Vampire Diaries</td><td>4.38</td></tr>",
                            "<tr><td>175113</td><td>Henri J.M. Nouwen</td><td>The Return of the Prodigal Son: A Story of Homecoming</td><td>4.38</td></tr>",
                            "<tr><td>28698036</td><td>Brandon Sanderson</td><td>Secret History (Mistborn, #3.5)</td><td>4.38</td></tr>",
                            "<tr><td>68524</td><td>Bernard Cornwell</td><td>Enemy of God (The Warlord Chronicles, #2)</td><td>4.38</td></tr>",
                            "<tr><td>18956</td><td>David Simon</td><td>Homicide: A Year on the Killing Streets</td><td>4.38</td></tr>",
                            "<tr><td>17455815</td><td>Jennifer L. Armentrout</td><td>Stone Cold Touch (The Dark Elements, #2)</td><td>4.38</td></tr>",
                            "<tr><td>16150996</td><td>Aleatha Romig</td><td>Convicted (Consequences, #3)</td><td>4.38</td></tr>",
                            "<tr><td>13416236</td><td>C.C. Hunter</td><td>Whispers at Moonrise (Shadow Falls, #4)</td><td>4.38</td></tr>",
                            "<tr><td>295086</td><td>Erin Hunter</td><td>Rising Storm (Warriors, #4)</td><td>4.38</td></tr>",
                            "<tr><td>16070018</td><td>Aleatha Romig</td><td>Truth (Consequences, #2)</td><td>4.38</td></tr>",
                            "<tr><td>10599805</td><td>Kim Harrison</td><td>A Perfect Blood (The Hollows, #10)</td><td>4.38</td></tr>",
                            "<tr><td>56634</td><td>Elisabeth Elliot</td><td>Through Gates of Splendor</td><td>4.38</td></tr>",
                            "<tr><td>8230409</td><td>Julietta Suzuki, Tomo Kimura</td><td>Kamisama Kiss, Vol. 1</td><td>4.38</td></tr>",
                            "<tr><td>13545345</td><td>Rachel Renée Russell</td><td>Tales from a Not-So-Graceful Ice Princess (Dork Diaries, #4)</td><td>4.38</td></tr>",
                            "<tr><td>16114861</td><td>Madeline Sheehan</td><td>Unbeautifully (Undeniable, #2)</td><td>4.38</td></tr>",
                            "<tr><td>68521</td><td>Bernard Cornwell</td><td>Excalibur (The Warlord Chronicles, #3)</td><td>4.38</td></tr>",
                            "<tr><td>109367</td><td>J.D. Robb</td><td>Survivor In Death (In Death, #20)</td><td>4.38</td></tr>",
                            "<tr><td>15742039</td><td>Kristen Ashley</td><td>Breathe (Colorado Mountain, #4)</td><td>4.38</td></tr>",
                            "<tr><td>676555</td><td>The Beatles, Paul McCartney, Ringo Starr, John Lennon, George Harrison</td><td>The Beatles Anthology</td><td>4.38</td></tr>",
                            "<tr><td>110890</td><td>Lawrence Wright</td><td>The Looming Tower: Al-Qaeda and the Road to 9/11</td><td>4.38</td></tr>",
                            "<tr><td>42986</td><td>Herman Wouk</td><td>War and Remembrance (The Henry Family, #2)</td><td>4.38</td></tr>",
                            "<tr><td>17831614</td><td>Christina Lauren</td><td>Beautiful Player (Beautiful Bastard, #3)</td><td>4.38</td></tr>",
                            "<tr><td>2003625</td><td>Kresley Cole</td><td>Dark Desires After Dusk (Immortals After Dark #6)</td><td>4.38</td></tr>",
                            "<tr><td>838917</td><td>Stormie Omartian</td><td>The Power of a Praying Woman</td><td>4.38</td></tr>",
                            "<tr><td>346087</td><td>Jim Butcher</td><td>Captain's Fury (Codex Alera, #4)</td><td>4.38</td></tr>",
                            "<tr><td>45108</td><td>Robin Hobb</td><td>Fool's Fate (Tawny Man, #3)</td><td>4.38</td></tr>",
                            "<tr><td>1225621</td><td>Kim Harrison</td><td>The Outlaw Demon Wails (The Hollows, #6)</td><td>4.38</td></tr>",
                            "<tr><td>6348045</td><td>John Flanagan</td><td>Halt's Peril (Ranger's Apprentice, #9)</td><td>4.38</td></tr>",
                            "<tr><td>370493</td><td>Shel Silverstein</td><td>The Giving Tree</td><td>4.38</td></tr>",
                            "<tr><td>10987</td><td>Diana Gabaldon</td><td>Voyager (Outlander, #3)</td><td>4.38</td></tr>",
                            "<tr><td>6587387</td><td>Patricia Briggs</td><td>Silver Borne (Mercy Thompson, #5)</td><td>4.38</td></tr>",
                            "<tr><td>672493</td><td>A.W. Tozer</td><td>The Pursuit of God</td><td>4.38</td></tr>",
                            "<tr><td>5098079</td><td>J.R. Ward</td><td>Lover Avenged (Black Dagger Brotherhood, #7)</td><td>4.38</td></tr>",
                            "<tr><td>6609765</td><td>Sharon M. Draper</td><td>Out of My Mind</td><td>4.37</td></tr>",
                            "<tr><td>6690979</td><td>Yana Toboso, Tomo Kimura</td><td>Black Butler, Vol. 1 (Black Butler, #1)</td><td>4.37</td></tr>",
                            "<tr><td>323355</td><td>Anonymous, Joseph Smith Jr.</td><td>The Book of Mormon: Another Testament of Jesus Christ</td><td>4.37</td></tr>",
                            "<tr><td>4499669</td><td>Stephen Kendrick, Alex Kendrick</td><td>The Love Dare</td><td>4.37</td></tr>",
                            "<tr><td>14290364</td><td>Marie Lu</td><td>Champion (Legend, #3)</td><td>4.37</td></tr>",
                            "<tr><td>15842441</td><td>S.C. Stephens</td><td>Effortless (Thoughtless, #2)</td><td>4.37</td></tr>",
                            "<tr><td>402093</td><td>James Clavell</td><td>Shōgun (Asian Saga, #1)</td><td>4.37</td></tr>",
                            "<tr><td>15881</td><td>J.K. Rowling, Mary GrandPré</td><td>Harry Potter and the Chamber of Secrets (Harry Potter, #2)</td><td>4.37</td></tr>",
                            "<tr><td>23919</td><td>Edgar Allan Poe</td><td>The Complete Stories and Poems</td><td>4.37</td></tr>",
                            "<tr><td>6479259</td><td>Richelle Mead</td><td>Spirit Bound (Vampire Academy, #5)</td><td>4.37</td></tr>",
                            "<tr><td>2802316</td><td>Richelle Mead</td><td>Shadow Kiss (Vampire Academy, #3)</td><td>4.37</td></tr>",
                            "<tr><td>13</td><td>Douglas Adams</td><td>The Ultimate Hitchhiker's Guide to the Galaxy</td><td>4.37</td></tr>",
                            "<tr><td>17465515</td><td>Elena Ferrante, Ann Goldstein</td><td>The Story of a New Name (The Neapolitan Novels #2)</td><td>4.37</td></tr>",
                            "<tr><td>6316821</td><td>Jim Butcher</td><td>First Lord's Fury (Codex Alera, #6)</td><td>4.37</td></tr>",
                            "<tr><td>6393082</td><td>Christopher Yost, Orson Scott Card, Pasqual Ferry, Frank D'Armata</td><td>Ender's Game, Volume 1: Battle School (Ender's Saga)</td><td>4.37</td></tr>",
                            "<tr><td>18108281</td><td>J.R. Ward</td><td>The King (Black Dagger Brotherhood, #12)</td><td>4.37</td></tr>",
                            "<tr><td>29430012</td><td>Amor Towles</td><td>A Gentleman in Moscow</td><td>4.37</td></tr>",
                            "<tr><td>8709524</td><td>Richelle Mead</td><td>Silver Shadows (Bloodlines, #5)</td><td>4.37</td></tr>",
                            "<tr><td>435045</td><td>Kresley Cole</td><td>Wicked Deeds on a Winter's Night (Immortals After Dark #4)</td><td>4.37</td></tr>",
                            "<tr><td>40223</td><td>Jacqueline Carey</td><td>Kushiel's Avatar (Phèdre's Trilogy, #3)</td><td>4.37</td></tr>",
                            "<tr><td>22886612</td><td>James S.A. Corey</td><td>Nemesis Games (The Expanse, #5)</td><td>4.37</td></tr>",
                            "<tr><td>281512</td><td>Max Lucado</td><td>He Chose the Nails</td><td>4.37</td></tr>",
                            "<tr><td>6758331</td><td>Gena Showalter</td><td>The Darkest Passion (Lords of the Underworld #5)</td><td>4.37</td></tr>",
                            "<tr><td>6167746</td><td>P.C. Cast, Kristin Cast</td><td>Marked / Betrayed / Chosen / Untamed (House of Night, #1-4)</td><td>4.37</td></tr>",
                            "<tr><td>1055617</td><td>Spencer W. Kimball</td><td>The Miracle of Forgiveness</td><td>4.37</td></tr>",
                            "<tr><td>47959</td><td>Anne Bishop</td><td>Queen of the Darkness (The Black Jewels, #3)</td><td>4.37</td></tr>",
                            "<tr><td>13502963</td><td>Amy A. Bartol</td><td>Indebted (The Premonition, #3)</td><td>4.37</td></tr>",
                            "<tr><td>10551947</td><td>John Flanagan</td><td>The Outcasts (Brotherband Chronicles, #1)</td><td>4.37</td></tr>",
                            "<tr><td>40159</td><td>Megan Whalen Turner</td><td>The King of Attolia (The Queen's Thief, #3)</td><td>4.37</td></tr>",
                            "<tr><td>15745371</td><td>C.C. Hunter</td><td>Chosen at Nightfall (Shadow Falls, #5)</td><td>4.37</td></tr>",
                            "<tr><td>28212</td><td>Randy Shilts, William Greider</td><td>And the Band Played On: Politics, People, and the AIDS Epidemic</td><td>4.37</td></tr>",
                            "<tr><td>268604</td><td>J.D. Robb</td><td>Portrait in Death (In Death, #16)</td><td>4.37</td></tr>",
                            "<tr><td>6390031</td><td>John Joseph Adams, Robert J. Sawyer, Stephen King, Michael Moorcock, Sharyn McCrumb, Stephen Baxter, Anne Perry, Barbara Hambly, Tanith Lee, Neil Gaiman, Rob Rogers, Naomi Novik, Anthony Burgess, Dominic Green, Laurie R. King, Barbara Roden, Peter Tremayne, Tim Lebbon, Bradley H. Sinor, Edward D. Hoch, Vonda N. McIntyre, Darrell Schweitzer, Mary Robinette Kowal, H.Paul Jeffers, Geoffrey A. Landis, Amy Myers, Tony Pi, Chris Roberson, Mark Valentine</td><td>The Improbable Adventures of Sherlock Holmes</td><td>4.37</td></tr>",
                            "<tr><td>17201110</td><td>Kristen Proby</td><td>Safe with Me (With Me in Seattle, #5)</td><td>4.37</td></tr>",
                            "<tr><td>2147714</td><td>Bill Willingham, Mark Buckingham, Steve Leialoha, Aaron Alexovich, Andrew Pepoy</td><td>Fables, Vol. 10: The Good Prince</td><td>4.37</td></tr>",
                            "<tr><td>13546173</td><td>Sarah J. Maas</td><td>The Assassin and the Underworld (Throne of Glass, #0.4)</td><td>4.37</td></tr>",
                            "<tr><td>23252517</td><td>Amy Harmon</td><td>The Law of Moses (The Law of Moses, #1)</td><td>4.37</td></tr>",
                            "<tr><td>1908511</td><td>Mo Willems</td><td>The Pigeon Wants a Puppy!</td><td>4.37</td></tr>",
                            "<tr><td>1398034</td><td>Pramoedya Ananta Toer</td><td>Bumi Manusia</td><td>4.37</td></tr>",
                            "<tr><td>666758</td><td>A.W. Tozer</td><td>The Knowledge of the Holy</td><td>4.37</td></tr>",
                            "<tr><td>27904311</td><td>Rick Riordan</td><td>The Hammer of Thor (Magnus Chase and the Gods of Asgard, #2)</td><td>4.37</td></tr>",
                            "<tr><td>248871</td><td>Kentaro Miura, Jason DeAngelis</td><td>Berserk, Vol. 1 (Berserk, #1)</td><td>4.37</td></tr>",
                            "<tr><td>1111600</td><td>Robert Jordan</td><td>The Wheel of Time: Boxed Set  (Wheel of Time, #1-8)</td><td>4.37</td></tr>",
                            "<tr><td>12042279</td><td>Lara Adrian</td><td>Darker After Midnight (Midnight Breed, #10)</td><td>4.37</td></tr>",
                            "<tr><td>24044596</td><td>Mariana Zapata</td><td>Kulti</td><td>4.36</td></tr>",
                            "<tr><td>26228034</td><td>N.K. Jemisin</td><td>The Obelisk Gate (The Broken Earth, #2)</td><td>4.36</td></tr>",
                            "<tr><td>7955881</td><td>Kazu Kibuishi</td><td>The Cloud Searchers (Amulet, #3)</td><td>4.36</td></tr>",
                            "<tr><td>105986</td><td>P.G. Wodehouse</td><td>The Code of the Woosters (Jeeves, #7)</td><td>4.36</td></tr>",
                            "<tr><td>4961959</td><td>Jim Butcher, Mark Powers, Ardian Syaf</td><td>The Dresden Files:  Storm Front, Volume 1-  The Gathering Storm</td><td>4.36</td></tr>",
                            "<tr><td>192510</td><td>José Mauro de Vasconcelos, قاسم صنعوی</td><td>درخت زیبای من</td><td>4.36</td></tr>",
                            "<tr><td>12019355</td><td>Sherrilyn Kenyon</td><td>Infamous (Chronicles of Nick, #3)</td><td>4.36</td></tr>",
                            "<tr><td>25451852</td><td>Jonathan Renshaw</td><td>Dawn of Wonder (The Wakening, #1)</td><td>4.36</td></tr>",
                            "<tr><td>3710603</td><td>Brian K. Vaughan, Pia Guerra, José Marzán Jr., Pamela Rambo, Clem Robins, J.G. Jones</td><td>Y: The Last Man - The Deluxe Edition Book One</td><td>4.36</td></tr>",
                            "<tr><td>7818881</td><td>Heather Brewer</td><td>Twelfth Grade Kills (The Chronicles of Vladimir Tod, #5)</td><td>4.36</td></tr>",
                            "<tr><td>22749539</td><td>Pam Muñoz Ryan</td><td>Echo</td><td>4.36</td></tr>",
                            "<tr><td>22886113</td><td>Connor Franta</td><td>A Work in Progress</td><td>4.36</td></tr>",
                            "<tr><td>20803962</td><td>Penelope Douglas, Nelson Hobbs</td><td>Until You (Fall Away, #1.5)</td><td>4.36</td></tr>",
                            "<tr><td>16150831</td><td>Alexandra Bracken</td><td>In The Afterlight (The Darkest Minds, #3)</td><td>4.36</td></tr>",
                            "<tr><td>6120349</td><td>Joe Hill, Gabriel Rodríguez</td><td>Locke &amp; Key, Vol. 2: Head Games</td><td>4.36</td></tr>",
                            "<tr><td>29154543</td><td>Michael Connelly</td><td>The Wrong Side of Goodbye (Harry Bosch, #21; Harry Bosch Universe, #26)</td><td>4.36</td></tr>",
                            "<tr><td>646056</td><td>Michael Teitelbaum, Sue DiCicco</td><td>The Little Mermaid</td><td>4.36</td></tr>",
                            "<tr><td>6571723</td><td>Rachel Caine</td><td>The Morganville Vampires, Volume 1 (The Morganville Vampires, #1-2)</td><td>4.36</td></tr>",
                            "<tr><td>1876770</td><td>Andrzej Sapkowski</td><td>Chrzest ognia (Saga o Wiedźminie, #5)</td><td>4.36</td></tr>",
                            "<tr><td>6660747</td><td>Larissa Ione</td><td>Ecstasy Unveiled (Demonica #4)</td><td>4.36</td></tr>",
                            "<tr><td>985386</td><td>Gosho Aoyama</td><td>Case Closed, Vol. 1</td><td>4.36</td></tr>",
                            "<tr><td>74033</td><td>J.D. Robb</td><td>Innocent in Death (In Death, #24)</td><td>4.36</td></tr>",
                            "<tr><td>206236</td><td>Don Winslow</td><td>The Power of the Dog</td><td>4.36</td></tr>",
                            "<tr><td>93371</td><td>Katsuhiro Otomo, Yoko Umezawa, Linda M. York, Jo Duffy</td><td>Akira, Vol. 1</td><td>4.36</td></tr>",
                            "<tr><td>6609490</td><td>Annette Pollert, L.J. Smith</td><td>Night World: The Ultimate Fan Guide</td><td>4.36</td></tr>",
                            "<tr><td>84144</td><td>Sherrilyn Kenyon</td><td>Seize the Night (Dark-Hunter #6)</td><td>4.36</td></tr>",
                            "<tr><td>18301124</td><td>Amy Harmon</td><td>Making Faces</td><td>4.36</td></tr>",
                            "<tr><td>747061</td><td>The Church of Jesus Christ of Latter-day Saints</td><td>Book of Mormon, Doctrine and Covenants, Pearl of Great Price</td><td>4.36</td></tr>",
                            "<tr><td>5693</td><td>Anton Chekhov, Richard Pevear, Larissa Volokhonsky</td><td>Selected Stories</td><td>4.36</td></tr>",
                            "<tr><td>11433</td><td>Karen Kingsbury, Gary Smalley</td><td>Redemption (Redemption, #1)</td><td>4.36</td></tr>",
                            "<tr><td>765281</td><td>Teddy Slater, Bill Langley, Ron Dias, Walt Disney Company</td><td>Lady and the Tramp</td><td>4.36</td></tr>",
                            "<tr><td>30071</td><td>Robert Kirkman, Tony Moore, Charlie Adlard, Cliff Rathburn</td><td>The Walking Dead, Book One (The Walking Dead #1-12)</td><td>4.36</td></tr>",
                            "<tr><td>275000</td><td>Erin Hunter</td><td>Fire and Ice (Warriors, #2)</td><td>4.36</td></tr>",
                            "<tr><td>29394</td><td>Jim Butcher</td><td>Cursor's Fury (Codex Alera, #3)</td><td>4.36</td></tr>",
                            "<tr><td>154424</td><td>Vince Flynn</td><td>Consent to Kill (Mitch Rapp, #8)</td><td>4.36</td></tr>",
                            "<tr><td>9876989</td><td>Kazue Kato, John Werry</td><td>Blue Exorcist, Vol. 1  (Blue Exorcist, #1)</td><td>4.36</td></tr>",
                            "<tr><td>21484</td><td>Herman Wouk</td><td>The Winds of War (The Henry Family, #1)</td><td>4.36</td></tr>",
                            "<tr><td>25614492</td><td>Ruta Sepetys</td><td>Salt to the Sea</td><td>4.36</td></tr>",
                            "<tr><td>84151</td><td>Sherrilyn Kenyon</td><td>Night Play (Dark-Hunter #5, Were-Hunter #1)</td><td>4.36</td></tr>",
                            "<tr><td>113946</td><td>Dr. Seuss</td><td>How the Grinch Stole Christmas!</td><td>4.36</td></tr>",
                            "<tr><td>19063</td><td>Markus Zusak</td><td>The Book Thief</td><td>4.36</td></tr>",
                            "<tr><td>22034</td><td>Mario Puzo, Robert Thompson, Peter Bart</td><td>The Godfather</td><td>4.36</td></tr>",
                            "<tr><td>301736</td><td>Sam McBratney, Anita Jeram</td><td>Guess How Much I Love You</td><td>4.36</td></tr>",
                            "<tr><td>8621462</td><td>Patrick Ness, Jim Kay, Siobhan Dowd</td><td>A Monster Calls</td><td>4.36</td></tr>",
                            "<tr><td>96358</td><td>Alan Moore, Brian Bolland, Tim Sale</td><td>Batman: The Killing Joke</td><td>4.36</td></tr>",
                            "<tr><td>1087204</td><td>Bisco Hatori</td><td>Ouran High School Host Club, Vol. 1 (Ouran High School Host Club, #1)</td><td>4.36</td></tr>",
                            "<tr><td>139069</td><td>Alfred Lansing</td><td>Endurance: Shackleton's Incredible Voyage</td><td>4.36</td></tr>",
                            "<tr><td>400354</td><td>Terry Pratchett</td><td>Men at Arms (Discworld, #15; City Watch #2)</td><td>4.36</td></tr>",
                            "<tr><td>19330</td><td>Beatrix Potter</td><td>The Complete Tales</td><td>4.36</td></tr>",
                            "<tr><td>64222</td><td>Terry Pratchett</td><td>Going Postal (Discworld, #33; Moist von Lipwig, #1)</td><td>4.36</td></tr>",
                            "<tr><td>196970</td><td>Clement C. Moore, Jan Brett</td><td>The Night Before Christmas</td><td>4.36</td></tr>",
                            "<tr><td>7824322</td><td>Ruta Sepetys</td><td>Between Shades of Gray</td><td>4.36</td></tr>",
                            "<tr><td>1412138</td><td>Patricia Briggs</td><td>Iron Kissed (Mercy Thompson, #3)</td><td>4.36</td></tr>",
                            "<tr><td>776407</td><td>A.A. Milne, Ernest H. Shepard</td><td>The House at Pooh Corner (Winnie-the-Pooh, #2)</td><td>4.36</td></tr>",
                            "<tr><td>991197</td><td>Marjane Satrapi, Mattias Ripa, Blake Ferris, Anjali Singh</td><td>The Complete Persepolis</td><td>4.36</td></tr>",
                            "<tr><td>8709523</td><td>Richelle Mead</td><td>The Golden Lily (Bloodlines, #2)</td><td>4.36</td></tr>",
                            "<tr><td>7723542</td><td>W. Bruce Cameron</td><td>A Dog's Purpose (A Dog's Purpose, #1)</td><td>4.35</td></tr>",
                            "<tr><td>28587957</td><td>Jodi Picoult</td><td>Small Great Things</td><td>4.35</td></tr>",
                            "<tr><td>5217282</td><td>Brandon Mull</td><td>Secrets of the Dragon Sanctuary (Fablehaven, #4)</td><td>4.35</td></tr>",
                            "<tr><td>53764</td><td>Frank Herbert</td><td>The Great Dune Trilogy  </td><td>4.35</td></tr>",
                            "<tr><td>773951</td><td>Munro Leaf, Robert Lawson</td><td>The Story of Ferdinand</td><td>4.35</td></tr>",
                            "<tr><td>55030</td><td>Carl Sagan</td><td>Cosmos</td><td>4.35</td></tr>",
                            "<tr><td>10993282</td><td>J.R. Ward</td><td>Lover Reborn (Black Dagger Brotherhood, #10)</td><td>4.35</td></tr>",
                            "<tr><td>32552</td><td>Edgar Allan Poe, Benjamin F. Fisher</td><td>Essential Tales and Poems</td><td>4.35</td></tr>",
                            "<tr><td>348225</td><td>Nancy E. Turner</td><td>These Is My Words: The Diary of Sarah Agnes Prine, 1881-1901, Arizona Territories (Sarah Agnes Prine, #1)</td><td>4.35</td></tr>",
                            "<tr><td>204042</td><td>Masashi Kishimoto, Katy Bridges</td><td>Naruto, Vol. 01: The Tests of the Ninja (Naruto, #1)</td><td>4.35</td></tr>",
                            "<tr><td>68429</td><td>Brandon Sanderson</td><td>The Well of Ascension (Mistborn, #2)</td><td>4.35</td></tr>",
                            "<tr><td>35729</td><td>J.R. Ward</td><td>Lover Eternal (Black Dagger Brotherhood, #2)</td><td>4.35</td></tr>",
                            "<tr><td>4406</td><td>John Steinbeck</td><td>East of Eden</td><td>4.35</td></tr>",
                            "<tr><td>7736182</td><td>Rick Riordan</td><td>The Lost Hero (The Heroes of Olympus, #1)</td><td>4.35</td></tr>",
                            "<tr><td>472331</td><td>Alan Moore, Dave Gibbons, John Higgins</td><td>Watchmen</td><td>4.35</td></tr>",
                            "<tr><td>7784</td><td>Dr. Seuss</td><td>The Lorax</td><td>4.35</td></tr>",
                            "<tr><td>5996153</td><td>Richelle Mead</td><td>Blood Promise (Vampire Academy, #4)</td><td>4.35</td></tr>",
                            "<tr><td>18774964</td><td>Fredrik Backman, Henning Koch</td><td>A Man Called Ove</td><td>4.35</td></tr>",
                            "<tr><td>15196</td><td>Art Spiegelman</td><td>Maus I: A Survivor's Tale: My Father Bleeds History (Maus, #1)</td><td>4.35</td></tr>",
                            "<tr><td>13413589</td><td>Patricia Briggs</td><td>Frost Burned (Mercy Thompson, #7)</td><td>4.35</td></tr>",
                            "<tr><td>6339304</td><td>Vince Flynn</td><td>Pursuit of Honor (Mitch Rapp, #12)</td><td>4.35</td></tr>",
                            "<tr><td>4983</td><td>Harold Bloom, Terry Southern, David H. Goldsmith, James Lundquist, Lawrence R. Broer, Peter J. Reed, Loree Rackstraw, William S. Doxey, Jerome Klinkowitz, Richard Giannone, John L. Simons, Leonard Mustazza, Zoltan Ab di-Nagy, Peter Freese, Wendy B. Faris</td><td>Kurt Vonnegut's Cat's Cradle (Modern Critical Interpretations)</td><td>4.35</td></tr>",
                            "<tr><td>2903736</td><td>Jim Butcher</td><td>Princeps' Fury (Codex Alera, #5)</td><td>4.35</td></tr>",
                            "<tr><td>174834</td><td>Dietrich Bonhoeffer</td><td>The Cost of Discipleship</td><td>4.35</td></tr>",
                            "<tr><td>4692</td><td>Noah Gordon</td><td>The Physician (Cole Family Trilogy, #1)</td><td>4.35</td></tr>",
                            "<tr><td>7576115</td><td>Terry Pratchett</td><td>I Shall Wear Midnight (Discworld, #38; Tiffany Aching, #4)</td><td>4.35</td></tr>",
                            "<tr><td>10790277</td><td>Michael J. Sullivan</td><td>Rise of Empire (The Riyria Revelations, #3-4)</td><td>4.35</td></tr>",
                            "<tr><td>10560331</td><td>Ally Carter</td><td>Out of Sight, Out of Time (Gallagher Girls, #5)</td><td>4.35</td></tr>",
                            "<tr><td>3475268</td><td>Kim Harrison</td><td>White Witch, Black Curse (The Hollows, #7)</td><td>4.35</td></tr>",
                            "<tr><td>19288321</td><td>Robin Hobb</td><td>Fool's Assassin (The Fitz and the Fool, #1)</td><td>4.35</td></tr>",
                            "<tr><td>17608111</td><td>Brian  McClellan</td><td>The Crimson Campaign (Powder Mage, #2)</td><td>4.35</td></tr>",
                            "<tr><td>16007855</td><td>Wendy Higgins</td><td>Sweet Reckoning (Sweet, #3)</td><td>4.35</td></tr>",
                            "<tr><td>197459</td><td>Erin Hunter</td><td>Sunset (Warriors: The New Prophecy, #6)</td><td>4.35</td></tr>",
                            "<tr><td>7715664</td><td>Larissa Ione</td><td>Sin Undone (Demonica #5)</td><td>4.35</td></tr>",
                            "<tr><td>25776210</td><td>Patricia Briggs</td><td>Fire Touched (Mercy Thompson, #9)</td><td>4.35</td></tr>",
                            "<tr><td>21420473</td><td>Laurelin Paige</td><td>The Fixed Trilogy (Fixed, #1-3)</td><td>4.35</td></tr>",
                            "<tr><td>116295</td><td>Stephen Briggs, Terry Pratchett</td><td>Guards! Guards!: The Play</td><td>4.35</td></tr>",
                            "<tr><td>197512</td><td>Mo Willems</td><td>The Pigeon Finds a Hot Dog!</td><td>4.35</td></tr>",
                            "<tr><td>172691</td><td>J.D. Robb</td><td>Conspiracy in Death (In Death, #8)</td><td>4.35</td></tr>",
                            "<tr><td>18115061</td><td>Samantha Young</td><td>Before Jamaica Lane (On Dublin Street, #3)</td><td>4.35</td></tr>",
                            "<tr><td>3585344</td><td>Kresley Cole</td><td>Kiss of a Demon King (Immortals After Dark #7)</td><td>4.35</td></tr>",
                            "<tr><td>26596</td><td>E.E. Cummings</td><td>Complete Poems, 1904-1962</td><td>4.35</td></tr>",
                            "<tr><td>7849341</td><td>Colleen Houck</td><td>Tiger's Voyage (The Tiger Saga, #3)</td><td>4.35</td></tr>",
                            "<tr><td>191117</td><td>Mo Willems</td><td>Don't Let the Pigeon Stay Up Late!</td><td>4.35</td></tr>",
                            "<tr><td>9917945</td><td>Ellen Hopkins</td><td>Perfect (Impulse, #2)</td><td>4.35</td></tr>",
                            "<tr><td>13617</td><td>Tsugumi Ohba, Takeshi Obata</td><td>Death Note, Vol. 5: Whiteout (Death Note, #5)</td><td>4.35</td></tr>",
                            "<tr><td>138399</td><td>Robert Kirkman, Charlie Adlard</td><td>The Walking Dead, Book Two (The Walking Dead #13-24)</td><td>4.35</td></tr>",
                            "<tr><td>25337081</td><td>J.D. Robb</td><td>Brotherhood in Death (In Death, #42)</td><td>4.35</td></tr>",
                            "<tr><td>15801381</td><td>Brandon Mull</td><td>Chasing the Prophecy (Beyonders, #3)</td><td>4.35</td></tr>",
                            "<tr><td>9995135</td><td>Gena Showalter</td><td>The Darkest Seduction (Lords of the Underworld #9)</td><td>4.35</td></tr>",
                            "<tr><td>7942008</td><td>Hidekaz Himaruya</td><td>Hetalia: Axis Powers, Vol. 1 (Hetalia: Axis Powers, #1)</td><td>4.35</td></tr>",
                            "<tr><td>20883847</td><td>Brian  McClellan</td><td>The Autumn Republic (Powder Mage, #3)</td><td>4.35</td></tr>",
                            "<tr><td>24903031</td><td>J.R. Ward</td><td>Blood Kiss (Black Dagger Legacy, #1)</td><td>4.35</td></tr>",
                            "<tr><td>6692041</td><td>Susan Abulhawa</td><td>Mornings in Jenin</td><td>4.35</td></tr>",
                            "<tr><td>556629</td><td>R.C. Sproul</td><td>The Holiness of God</td><td>4.35</td></tr>",
                            "<tr><td>19312</td><td>Astrid Lindgren, Ilon Wikland, Jill M. Morgan</td><td>The Brothers Lionheart</td><td>4.35</td></tr>",
                            "<tr><td>22417</td><td>Warren Ellis, Darick Robertson</td><td>Transmetropolitan, Vol. 2: Lust for Life (Transmetropolitan, #2)</td><td>4.35</td></tr>",
                            "<tr><td>37377</td><td>Nancy Tillman</td><td>On the Night You Were Born</td><td>4.35</td></tr>",
                            "<tr><td>183092</td><td>Terri Blackstock</td><td>Night Light (Restoration #2)</td><td>4.35</td></tr>",
                            "<tr><td>77431</td><td>Patrick O'Brian</td><td>The Mauritius Command</td><td>4.35</td></tr>",
                            "<tr><td>5295735</td><td>Naguib Mahfouz, نجيب محفوظ</td><td>الحرافيش</td><td>4.34</td></tr>",
                            "<tr><td>22474626</td><td>Meredith Wild</td><td>Hard Limit (Hacker, #4)</td><td>4.34</td></tr>",
                            "<tr><td>50091</td><td>Isaac Asimov</td><td>The Complete Robot (Robot #0.3)</td><td>4.34</td></tr>",
                            "<tr><td>17853024</td><td>Bernard Cornwell</td><td>The Pagan Lord (The Saxon Stories, #7)</td><td>4.34</td></tr>",
                            "<tr><td>32848471</td><td>Vi Keeland</td><td>Egomaniac</td><td>4.34</td></tr>",
                            "<tr><td>17352874</td><td>R.L. Mathewson</td><td>Truce (Neighbor from Hell, #4)</td><td>4.34</td></tr>",
                            "<tr><td>182683</td><td>Karen Kingsbury</td><td>Fame (Firstborn, #1)</td><td>4.34</td></tr>",
                            "<tr><td>229149</td><td>CLAMP, Anita Sengupta</td><td>Cardcaptor Sakura: Master of the Clow, Vol. 1 (Cardcaptor Sakura, #7)</td><td>4.34</td></tr>",
                            "<tr><td>68455</td><td>Andrzej Sapkowski</td><td>Wieża Jaskółki (Saga o Wiedźminie, #6)</td><td>4.34</td></tr>",
                            "<tr><td>27213121</td><td>Daniel Silva</td><td>The Black Widow (Gabriel Allon, #16)</td><td>4.34</td></tr>",
                            "<tr><td>356824</td><td>Ramachandra Guha</td><td>India After Gandhi: The History of the World's Largest Democracy</td><td>4.34</td></tr>",
                            "<tr><td>270435</td><td>Louise L. Hay</td><td>Heal Your Body: The Mental Causes for Physical Illness and the Metaphysical Way to Overcome Them</td><td>4.34</td></tr>",
                            "<tr><td>184324</td><td>Christine Feehan</td><td>Dark Demon (Dark, #16)</td><td>4.34</td></tr>",
                            "<tr><td>10822174</td><td>Robert Kirkman, Charlie Adlard, Cliff Rathburn</td><td>The Walking Dead, Vol. 14: No Way Out</td><td>4.34</td></tr>",
                            "<tr><td>238139</td><td>J.D. Robb</td><td>Imitation in Death (In Death, #17)</td><td>4.34</td></tr>",
                            "<tr><td>20821299</td><td>B.J. Novak</td><td>The Book with No Pictures</td><td>4.34</td></tr>",
                            "<tr><td>78629</td><td>Richard Wurmbrand</td><td>Tortured for Christ N/E</td><td>4.34</td></tr>",
                            "<tr><td>1566705</td><td>J.D. Robb</td><td>Creation in Death (In Death, #25)</td><td>4.34</td></tr>",
                            "<tr><td>210243</td><td>J.D. Robb</td><td>Origin in Death (In Death, #21)</td><td>4.34</td></tr>",
                            "<tr><td>511240</td><td>Kiyohiko Azuma, あずま きよひこ</td><td>Yotsuba&amp;!, Vol. 01 (Yotsuba&amp;! #1)</td><td>4.34</td></tr>",
                            "<tr><td>8142508</td><td>Francine Rivers</td><td>Her Daughter's Dream (Marta's Legacy, #2)</td><td>4.34</td></tr>",
                            "<tr><td>836606</td><td>Natsuki Takaya, Alethea Nibley, Athena Nibley</td><td>Fruits Basket, Vol. 2</td><td>4.34</td></tr>",
                            "<tr><td>20705702</td><td>Ilona Andrews</td><td>Burn for Me (Hidden Legacy, #1)</td><td>4.34</td></tr>",
                            "<tr><td>22886868</td><td>Terry Pratchett</td><td>The Shepherd's Crown (Discworld, #41; Tiffany Aching, #5)</td><td>4.34</td></tr>",
                            "<tr><td>11851522</td><td>H.P. Lovecraft</td><td>The Complete Works of H.P. Lovecraft</td><td>4.34</td></tr>",
                            "<tr><td>2202230</td><td>Brian K. Vaughan, Pia Guerra, José Marzán Jr.</td><td>Y: The Last Man, Vol. 10: Whys and Wherefores (Y: The Last Man, #10)</td><td>4.34</td></tr>",
                            "<tr><td>132778</td><td>J.D. Robb</td><td>Vengeance in Death (In Death, #6)</td><td>4.34</td></tr>",
                            "<tr><td>112752</td><td>Karen Marie Moning</td><td>The Immortal Highlander (Highlander, #6)</td><td>4.34</td></tr>",
                            "<tr><td>769212</td><td>Willy Lindwer</td><td>The Last Seven Months of Anne Frank</td><td>4.34</td></tr>",
                            "<tr><td>459064</td><td>Steven Erikson</td><td>Reaper's Gale (The Malazan Book of the Fallen, #7)</td><td>4.34</td></tr>",
                            "<tr><td>7942786</td><td>Patricia Briggs</td><td>Fair Game (Alpha &amp; Omega, #3)</td><td>4.34</td></tr>",
                            "<tr><td>14572</td><td>Thich Nhat Hanh, Arnold Kotler, Dalai Lama XIV</td><td>Peace Is Every Step: The Path of Mindfulness in Everyday Life</td><td>4.34</td></tr>",
                            "<tr><td>22904</td><td>Franz Kafka, Nahum N. Glatzer, John Updike, Willa Muir, Edwin Muir, Tania Stern, James Stern, Ernst Kaiser, Eithne Wilkins</td><td>The Complete Stories</td><td>4.34</td></tr>",
                            "<tr><td>7783920</td><td>Rob Buyea</td><td>Because of Mr. Terupt</td><td>4.34</td></tr>",
                            "<tr><td>1279686</td><td>Conn Iggulden</td><td>Genghis: Birth of an Empire (Conqueror, #1)</td><td>4.34</td></tr>",
                            "<tr><td>84139</td><td>Sherrilyn Kenyon</td><td>Unleash the Night (Dark Hunter, #8; Were-Hunter, #2)</td><td>4.34</td></tr>",
                            "<tr><td>345299</td><td>Steven Erikson</td><td>Midnight Tides (The Malazan Book of the Fallen, #5)</td><td>4.34</td></tr>",
                            "<tr><td>437885</td><td>Diane Muldrow</td><td>Frosty the Snowman (Frosty the Snowman)</td><td>4.34</td></tr>",
                            "<tr><td>102957</td><td>Garth Ennis, Steve Dillon, Peter Snejbjerg</td><td>Preacher, Volume 6: War in the Sun</td><td>4.34</td></tr>",
                            "<tr><td>7469664</td><td>Robert Kirkman, Charlie Adlard</td><td>The Walking Dead, Vol. 12: Life Among Them</td><td>4.34</td></tr>",
                            "<tr><td>47720</td><td>Neil Gaiman, Barron Storey, Bill Sienkiewicz, Glenn Fabry, Dave McKean, P. Craig Russell, Milo Manara, Miguelanxo Prado, Frank Quitely, Todd Klein</td><td>The Sandman: Endless Nights</td><td>4.34</td></tr>",
                            "<tr><td>29367958</td><td>Mariana Zapata</td><td>The Wall of Winnipeg and Me</td><td>4.34</td></tr>",
                            "<tr><td>6907672</td><td>Robin Furth, Stephen King, Peter Straub, Tony Shasteen, Nei Ruffino</td><td>The Talisman (Volume 1): The Road of Trials</td><td>4.34</td></tr>",
                            "<tr><td>13573622</td><td>Vince Flynn</td><td>The Last Man (Mitch Rapp, #13)</td><td>4.34</td></tr>",
                            "<tr><td>833549</td><td>Arnold Lobel</td><td>Frog and Toad All Year (Frog and Toad, #3)</td><td>4.34</td></tr>",
                            "<tr><td>25558608</td><td>Sabaa Tahir</td><td>A Torch Against the Night (An Ember in the Ashes, #2)</td><td>4.34</td></tr>",
                            "<tr><td>13235</td><td>Lewis Carroll</td><td>The Complete Stories and Poems</td><td>4.34</td></tr>",
                            "<tr><td>9662386</td><td>Colleen Houck</td><td>Tiger's Quest (The Tiger Saga, #2)</td><td>4.34</td></tr>",
                            "<tr><td>7801229</td><td>Cinda Williams Chima</td><td>The Exiled Queen (Seven Realms, #2)</td><td>4.34</td></tr>",
                            "<tr><td>46199</td><td>Rainer Maria Rilke, Reginald Snell, Franz Xaver Kappus</td><td>Letters to a Young Poet</td><td>4.34</td></tr>",
                            "<tr><td>12820360</td><td>Julianne Donaldson</td><td>Edenbrooke (Edenbrooke, #1)</td><td>4.34</td></tr>",
                            "<tr><td>504420</td><td>Vince Flynn</td><td>Protect and Defend (Mitch Rapp, #10)</td><td>4.34</td></tr>",
                            "<tr><td>5604848</td><td>Jeaniene Frost</td><td>Destined for an Early Grave (Night Huntress, #4)</td><td>4.34</td></tr>",
                            "<tr><td>16151178</td><td>Katja Millay</td><td>The Sea of Tranquility</td><td>4.34</td></tr>",
                            "<tr><td>83144</td><td>Paullina Simons</td><td>The Bronze Horseman (The Bronze Horseman, #1)</td><td>4.34</td></tr>",
                            "<tr><td>9761771</td><td>Jennifer L. Armentrout</td><td>Pure (Covenant, #2)</td><td>4.34</td></tr>",
                            "<tr><td>15717943</td><td>Colleen Hoover</td><td>Hopeless (Hopeless, #1)</td><td>4.34</td></tr>",
                            "<tr><td>99107</td><td>A.A. Milne, Ernest H. Shepard</td><td>Winnie-the-Pooh (Winnie-the-Pooh, #1)</td><td>4.34</td></tr>",
                            "<tr><td>191139</td><td>Dr. Seuss</td><td>Oh, The Places You'll Go!</td><td>4.34</td></tr>",
                            "<tr><td>30118</td><td>Shel Silverstein</td><td>A Light in the Attic</td><td>4.34</td></tr>",
                            "<tr><td>149267</td><td>Stephen King, Bernie Wrightson</td><td>The Stand</td><td>4.34</td></tr>",
                            "<tr><td>128029</td><td>Khaled Hosseini</td><td>A Thousand Splendid Suns</td><td>4.34</td></tr>",
                            "<tr><td>34</td><td>J.R.R. Tolkien</td><td>The Fellowship of the Ring (The Lord of the Rings, #1)</td><td>4.34</td></tr>",
                            "<tr><td>2767052</td><td>Suzanne Collins</td><td>The Hunger Games (The Hunger Games, #1)</td><td>4.34</td></tr>",
                            "<tr><td>3777732</td><td>Cassandra Clare</td><td>City of Glass (The Mortal Instruments, #3)</td><td>4.34</td></tr>",
                            "<tr><td>1166599</td><td>Robert Jordan, Brandon Sanderson</td><td>The Gathering Storm (Wheel of Time, #12)</td><td>4.34</td></tr>",
                            "<tr><td>6466909</td><td>Mark Cotta Vaz</td><td>New Moon: The Complete Illustrated Movie Companion (The Twilight Saga: The Official Illustrated Movie Companion, #2)</td><td>4.34</td></tr>",
                            "<tr><td>310259</td><td>Robert Munsch, Sheila McGraw</td><td>Love You Forever</td><td>4.34</td></tr>",
                            "<tr><td>5211</td><td>Rohinton Mistry</td><td>A Fine Balance</td><td>4.34</td></tr>",
                            "<tr><td>39662</td><td>Stephen King</td><td>Different Seasons</td><td>4.34</td></tr>",
                            "<tr><td>375013</td><td>Thomas Keneally</td><td>Schindler's List</td><td>4.34</td></tr>",
                            "<tr><td>10988</td><td>Diana Gabaldon</td><td>Drums of Autumn (Outlander, #4)</td><td>4.34</td></tr>",
                            "<tr><td>2702704</td><td>Karen Marie Moning</td><td>Faefever (Fever, #3)</td><td>4.34</td></tr>",
                            "<tr><td>3128411</td><td>Patricia Briggs</td><td>Bone Crossed (Mercy Thompson, #4)</td><td>4.34</td></tr>",
                            "<tr><td>646462</td><td>Anonymous</td><td>The Qur'an / القرآن الكريم</td><td>4.34</td></tr>",
                            "<tr><td>2241059</td><td>Ellen Hopkins</td><td>Identical</td><td>4.34</td></tr>",
                            "<tr><td>37186</td><td>Kate DiCamillo, Bagram Ibatoulline</td><td>The Miraculous Journey of Edward Tulane</td><td>4.34</td></tr>",
                            "<tr><td>12000020</td><td>Benjamin Alire Sáenz</td><td>Aristotle and Dante Discover the Secrets of the Universe (Aristotle and Dante Discover the Secrets of the Universe, #1)</td><td>4.34</td></tr>",
                            "<tr><td>147074</td><td>Janet Evanovich</td><td>Janet Evanovich Three and Four Two-Book Set (Stephanie Plum, #3-4)</td><td>4.34</td></tr>",
                            "<tr><td>122</td><td>Bryce Courtenay</td><td>The Power of One (The Power of One, #1)</td><td>4.34</td></tr>",
                            "<tr><td>13362536</td><td>Jennifer L. Armentrout</td><td>Opal (Lux, #3)</td><td>4.34</td></tr>",
                            "<tr><td>711901</td><td>Marcus Luttrell, Patrick Robinson</td><td>Lone Survivor: The Eyewitness Account of Operation Redwing and the Lost Heroes of SEAL Team 10</td><td>4.34</td></tr>",
                            "<tr><td>304027</td><td>J.R. Ward</td><td>Lover Unbound (Black Dagger Brotherhood, #5)</td><td>4.33</td></tr>",
                            "<tr><td>99383</td><td>Jim Butcher</td><td>Blood Rites (The Dresden Files, #6)</td><td>4.33</td></tr>",
                            "<tr><td>42697</td><td>Leon Uris</td><td>Exodus</td><td>4.33</td></tr>",
                            "<tr><td>13047090</td><td>Jennifer L. Armentrout</td><td>Onyx (Lux, #2)</td><td>4.33</td></tr>",
                            "<tr><td>13454149</td><td>Rebecca Donovan</td><td>Barely Breathing (Breathing, #2)</td><td>4.33</td></tr>",
                            "<tr><td>13360</td><td>Joyce Meyer</td><td>Battlefield of the Mind: Winning the Battle in Your Mind</td><td>4.33</td></tr>",
                            "<tr><td>13643567</td><td>Michelle Hodkin</td><td>The Evolution of Mara Dyer (Mara Dyer, #2)</td><td>4.33</td></tr>",
                            "<tr><td>114345</td><td>Laura Ingalls Wilder, Garth Williams</td><td>The Little House Collection (Little House, #1-9)</td><td>4.33</td></tr>",
                            "<tr><td>30120</td><td>Shel Silverstein</td><td>Falling Up</td><td>4.33</td></tr>",
                            "<tr><td>24445517</td><td>Colleen Hoover</td><td>Maybe Someday (Maybe, #1)</td><td>4.33</td></tr>",
                            "<tr><td>7171637</td><td>Cassandra Clare</td><td>Clockwork Angel (The Infernal Devices, #1)</td><td>4.33</td></tr>",
                            "<tr><td>561456</td><td>Rick Riordan</td><td>The Titan's Curse (Percy Jackson and the Olympians, #3)</td><td>4.33</td></tr>",
                            "<tr><td>13596809</td><td>Sylvia Day</td><td>Reflected in You (Crossfire, #2)</td><td>4.33</td></tr>",
                            "<tr><td>4069</td><td>Viktor E. Frankl</td><td>Man's Search for Meaning</td><td>4.33</td></tr>",
                            "<tr><td>777211</td><td>Vince Flynn</td><td>Executive Power (Mitch Rapp, #6)</td><td>4.33</td></tr>",
                            "<tr><td>920607</td><td>Shaun Tan</td><td>The Arrival</td><td>4.33</td></tr>",
                            "<tr><td>13578175</td><td>Brandon Sanderson</td><td>The Emperor's Soul</td><td>4.33</td></tr>",
                            "<tr><td>16150830</td><td>Alexandra Bracken</td><td>Never Fade (The Darkest Minds, #2)</td><td>4.33</td></tr>",
                            "<tr><td>30259</td><td>Kim Harrison</td><td>For a Few Demons More (The Hollows, #5)</td><td>4.33</td></tr>",
                            "<tr><td>1811543</td><td>Ilona Andrews</td><td>Magic Burns (Kate Daniels, #2)</td><td>4.33</td></tr>",
                            "<tr><td>129650</td><td>Julia Child, Simone Beck, Louisette Bertholle</td><td>Mastering the Art of French Cooking</td><td>4.33</td></tr>",
                            "<tr><td>294963</td><td>Nobuhiro Watsuki, Kenichiro Yagi</td><td>Rurouni Kenshin, Vol. 1: Meiji Swordsman Romantic Story (Rurouni Kenshin, #1)</td><td>4.33</td></tr>",
                            "<tr><td>1814843</td><td>John Flanagan</td><td>The Siege of Macindaw (Ranger's Apprentice, #6)</td><td>4.33</td></tr>",
                            "<tr><td>5932</td><td>Pablo Neruda, W.S. Merwin, Cristina García</td><td>Twenty Love Poems and a Song of Despair</td><td>4.33</td></tr>",
                            "<tr><td>178357</td><td>David Sedaris</td><td>SantaLand Diaries</td><td>4.33</td></tr>",
                            "<tr><td>1001896</td><td>Blanche Fisher Wright</td><td>The Real Mother Goose</td><td>4.33</td></tr>",
                            "<tr><td>5509920</td><td>Gena Showalter</td><td>The Darkest Whisper (Lords of the Underworld #4)</td><td>4.33</td></tr>",
                            "<tr><td>12866426</td><td>C.C. Hunter</td><td>Taken at Dusk (Shadow Falls, #3)</td><td>4.33</td></tr>",
                            "<tr><td>26252859</td><td>Rick Riordan</td><td>The Hidden Oracle (The Trials of Apollo, #1)</td><td>4.33</td></tr>",
                            "<tr><td>24215</td><td>Robert Sabuda, Lewis Carroll</td><td>Alice's Adventures in Wonderland: A Pop-Up Adaptation</td><td>4.33</td></tr>",
                            "<tr><td>20764879</td><td>V.E. Schwab, Victoria Schwab</td><td>A Gathering of Shadows (Shades of Magic, #2)</td><td>4.33</td></tr>",
                            "<tr><td>279692</td><td>Harry Allard, James  Marshall</td><td>Miss Nelson Is Back (Miss Nelson, #2)</td><td>4.33</td></tr>",
                            "<tr><td>68418</td><td>R.A. Salvatore</td><td>The Dark Elf Trilogy Collector's Edition (Forgotten Realms: Dark Elf Trilogy, #1-3; Legend of Drizzt, #1-3)</td><td>4.33</td></tr>",
                            "<tr><td>79421</td><td>Paul Hattaway, Brother Yun</td><td>The Heavenly Man: The Remarkable True Story of Chinese Christian Brother Yun</td><td>4.33</td></tr>",
                            "<tr><td>89160</td><td>J.D. Robb, Nora Roberts</td><td>Judgment in Death (In Death, #11)</td><td>4.33</td></tr>",
                            "<tr><td>17377032</td><td>R.K. Lilley</td><td>Bad Things (Tristan &amp; Danika, #1)</td><td>4.33</td></tr>",
                            "<tr><td>107776</td><td>Julie Garwood</td><td>Ransom (Highlands' Lairds, #2)</td><td>4.33</td></tr>",
                            "<tr><td>16053316</td><td>Samantha Towle</td><td>Wethering the Storm (The Storm, #2)</td><td>4.33</td></tr>",
                            "<tr><td>129621</td><td>Judith McNaught</td><td>Almost Heaven (Sequels, #3)</td><td>4.33</td></tr>",
                            "<tr><td>938544</td><td>Steven Erikson</td><td>Toll the Hounds (The Malazan Book of the Fallen, #8)</td><td>4.33</td></tr>",
                            "<tr><td>10762697</td><td>Robin Hobb</td><td>The Farseer Trilogy (Farseer Trilogy #1-3)</td><td>4.33</td></tr>",
                            "<tr><td>102958</td><td>Garth Ennis, Steve Dillon</td><td>Preacher, Volume 9: Alamo</td><td>4.33</td></tr>",
                            "<tr><td>7945049</td><td>Louise Penny</td><td>Bury Your Dead (Chief Inspector Armand Gamache, #6)</td><td>4.33</td></tr>",
                            "<tr><td>19095025</td><td>Kylie Scott</td><td>Play (Stage Dive, #2)</td><td>4.33</td></tr>",
                            "<tr><td>5989573</td><td>Bryan Lee O'Malley</td><td>Scott Pilgrim, Volume 5: Scott Pilgrim Vs. the Universe</td><td>4.33</td></tr>",
                            "<tr><td>21535019</td><td>Jeff Kinney</td><td>The Long Haul (Diary of a Wimpy Kid, #9)</td><td>4.33</td></tr>",
                            "<tr><td>13412515</td><td>Kristen Ashley</td><td>Law Man (Dream Man, #3)</td><td>4.33</td></tr>",
                            "<tr><td>17201095</td><td>Kristen Proby</td><td>Play with Me (With Me in Seattle, #3)</td><td>4.33</td></tr>",
                            "<tr><td>6277410</td><td>Kazu Kibuishi</td><td>The Stonekeeper's Curse (Amulet, #2)</td><td>4.33</td></tr>",
                            "<tr><td>252999</td><td>Christine Feehan</td><td>Dark Legend (Dark, #8)</td><td>4.33</td></tr>",
                            "<tr><td>238142</td><td>J.D. Robb</td><td>Visions in Death (In Death, #19)</td><td>4.33</td></tr>",
                            "<tr><td>238140</td><td>J.D. Robb</td><td>Reunion in Death (In Death, #14)</td><td>4.33</td></tr>",
                            "<tr><td>17257990</td><td>Kristen Ashley</td><td>Fire Inside (Chaos, #2)</td><td>4.33</td></tr>",
                            "<tr><td>238137</td><td>J.D. Robb</td><td>Purity in Death (In Death, #15)</td><td>4.33</td></tr>",
                            "<tr><td>94813</td><td>Christine Feehan</td><td>Dark Guardian (Dark, #9)</td><td>4.33</td></tr>",
                            "<tr><td>9366879</td><td>Tom Sniegoski, Jeff Smith, Thomas E. Sniegoski, Steve Hamaker</td><td>Bone: Quest for the Spark, Vol. 1</td><td>4.33</td></tr>",
                            "<tr><td>102857</td><td>J.D. Robb, Susan Ericksen</td><td>Born in Death (In Death, #23)</td><td>4.33</td></tr>",
                            "<tr><td>6488483</td><td>Robert Kirkman, Charlie Adlard, Cliff Rathburn</td><td>The Walking Dead, Vol. 11: Fear the Hunters</td><td>4.33</td></tr>",
                            "<tr><td>18687079</td><td>Gene Luen Yang, Michael Dante DiMartino, Bryan Konietzko, Gurihiru</td><td>Avatar: The Last Airbender (The Rift, #1)</td><td>4.33</td></tr>",
                            "<tr><td>129616</td><td>Judith McNaught</td><td>Something Wonderful (Sequels, #2)</td><td>4.33</td></tr>",
                            "<tr><td>17346698</td><td>John             Lewis, Andrew Aydin, Nate Powell</td><td>March: Book One (March, #1)</td><td>4.33</td></tr>",
                            "<tr><td>458034</td><td>Nalini Singh</td><td>Caressed by Ice (Psy-Changeling #3)</td><td>4.33</td></tr>",
                            "<tr><td>18138755</td><td>Laurelin Paige</td><td>Forever with You (Fixed, #3)</td><td>4.33</td></tr>",
                            "<tr><td>102955</td><td>Garth Ennis, Steve Dillon, John McCrea</td><td>Preacher, Volume 8: All Hell's a-Coming</td><td>4.33</td></tr>",
                            "<tr><td>2249196</td><td>Grant Morrison, Frank Quitely</td><td>All-Star Superman, Vol. 2</td><td>4.33</td></tr>",
                            "<tr><td>47957</td><td>Anne Bishop</td><td>Heir to the Shadows (The Black Jewels, #2)</td><td>4.33</td></tr>",
                            "<tr><td>8696</td><td>Douglas Adams, Mark Carwardine</td><td>Last Chance to See</td><td>4.33</td></tr>",
                            "<tr><td>17342700</td><td>Morgan Rhodes, Michelle Rowen</td><td>Gathering Darkness (Falling Kingdoms, #3)</td><td>4.33</td></tr>",
                            "<tr><td>22571696</td><td>J.D. Robb</td><td>Obsession in Death (In Death, #40)</td><td>4.33</td></tr>",
                            "<tr><td>96259</td><td>Richard Siken</td><td>Crush</td><td>4.33</td></tr>",
                            "<tr><td>18781543</td><td>Aurora Rose Reynolds</td><td>Until Nico (Until, #4)</td><td>4.33</td></tr>",
                            "<tr><td>106124</td><td>Jeff Smith, Steve Hamaker</td><td>The Dragonslayer (Bone, #4)</td><td>4.33</td></tr>",
                            "<tr><td>765193</td><td>Mary Hoffman, Caroline Binch</td><td>Amazing Grace</td><td>4.33</td></tr>",
                            "<tr><td>533675</td><td>Eugene Bradley Coco, Ron Dias</td><td>Pinocchio</td><td>4.33</td></tr>",
                            "<tr><td>17671913</td><td>Scott Snyder, Greg Capullo, Jonathan Glapion</td><td>Batman, Volume 3: Death of the Family</td><td>4.33</td></tr>",
                            "<tr><td>359463</td><td>Dee Henderson</td><td>Danger in the Shadows (O'Malley #0.5)</td><td>4.33</td></tr>",
                            "<tr><td>4769651</td><td>Michael Buckley, Peter Ferguson</td><td>The Everafter War (The Sisters Grimm, #7)</td><td>4.32</td></tr>",
                            "<tr><td>8803932</td><td>Rachel Vincent</td><td>If I Die (Soul Screamers, #5)</td><td>4.32</td></tr>",
                            "<tr><td>18232495</td><td>Joel C. Rosenberg</td><td>The Auschwitz Escape</td><td>4.32</td></tr>",
                            "<tr><td>6403690</td><td>Timothy J. Keller</td><td>Counterfeit Gods: The Empty Promises of Money, Sex, and Power, and the Only Hope that Matters</td><td>4.32</td></tr>",
                            "<tr><td>13519844</td><td>Shelly Crane</td><td>Independence (Significance, #4)</td><td>4.32</td></tr>",
                            "<tr><td>71787</td><td>Jan Karon</td><td>In This Mountain (Mitford Years, #7)</td><td>4.32</td></tr>",
                            "<tr><td>8086216</td><td>Yotam Ottolenghi</td><td>Plenty</td><td>4.32</td></tr>",
                            "<tr><td>1422252</td><td>Lynsay Sands</td><td>Vampire, Interrupted (Argeneau #9)</td><td>4.32</td></tr>",
                            "<tr><td>3276637</td><td>Conn Iggulden</td><td>Bones of the Hills (Conqueror, #3)</td><td>4.32</td></tr>",
                            "<tr><td>7685763</td><td>J.D. Robb</td><td>Indulgence in Death (In Death, #31)</td><td>4.32</td></tr>",
                            "<tr><td>845403</td><td>John Steptoe</td><td>Mufaro's Beautiful Daughters: An African Tale</td><td>4.32</td></tr>",
                            "<tr><td>3331756</td><td>غسان كنفاني</td><td>عائد إلى حيفا</td><td>4.32</td></tr>",
                            "<tr><td>118389</td><td>T.S. Eliot</td><td>The Love Song of J. Alfred Prufrock and Other Poems</td><td>4.32</td></tr>",
                            "<tr><td>15808816</td><td>Adam Makos, Larry Alexander</td><td>A Higher Call: An Incredible True Story of Combat and Chivalry in the War-Torn Skies of World War II</td><td>4.32</td></tr>",
                            "<tr><td>129523</td><td>J.D. Robb</td><td>Divided in Death (In Death, #18)</td><td>4.32</td></tr>",
                            "<tr><td>821003</td><td>A.A. Milne, Ernest H. Shepard</td><td>When We Were Very Young (Winnie-the-Pooh, #3)</td><td>4.32</td></tr>",
                            "<tr><td>22471294</td><td>Alessandra Torre</td><td>Black Lies</td><td>4.32</td></tr>",
                            "<tr><td>820480</td><td>C.J. Sansom</td><td>Revelation (Matthew Shardlake, #4)</td><td>4.32</td></tr>",
                            "<tr><td>56594</td><td>Sheldon Vanauken, C.S. Lewis</td><td>A Severe Mercy: A Story of Faith, Tragedy and Triumph</td><td>4.32</td></tr>",
                            "<tr><td>30125</td><td>Shel Silverstein</td><td>The Missing Piece Meets the Big O </td><td>4.32</td></tr>",
                            "<tr><td>608906</td><td>Erin Hunter</td><td>Firestar's Quest (Warriors Super Edition, #1)</td><td>4.32</td></tr>",
                            "<tr><td>61909</td><td>Lois McMaster Bujold</td><td>Mirror Dance (Vorkosigan Saga, #8)</td><td>4.32</td></tr>",
                            "<tr><td>15823426</td><td>Tyler Hamilton, Daniel Coyle</td><td>The Secret Race: Inside the Hidden World of the Tour de France: Doping, Cover-ups, and Winning at All Costs</td><td>4.32</td></tr>",
                            "<tr><td>9529502</td><td>Lincoln Peirce</td><td>Big Nate on a Roll (Big Nate Novels, #3)</td><td>4.32</td></tr>",
                            "<tr><td>131830</td><td>Christiane Northrup</td><td>Women's Bodies, Women's Wisdom: Creating Physical and Emotional Health and Healing</td><td>4.32</td></tr>",
                            "<tr><td>473623</td><td>Enid Blyton</td><td>The Folk of the Faraway Tree (The Faraway Tree, #3)</td><td>4.32</td></tr>",
                            "<tr><td>84133</td><td>Sherrilyn Kenyon</td><td>Devil May Cry (Dark-Hunter, #11)</td><td>4.32</td></tr>",
                            "<tr><td>7519472</td><td>Gena Showalter</td><td>The Darkest Lie (Lords of the Underworld #6)</td><td>4.32</td></tr>",
                            "<tr><td>68453</td><td>Andrzej Sapkowski</td><td>Czas pogardy (Saga o Wiedźminie, #4)</td><td>4.32</td></tr>",
                            "<tr><td>16006</td><td>Judith McNaught</td><td>Paradise (Second Opportunities, #1)</td><td>4.32</td></tr>",
                            "<tr><td>4701550</td><td>Larissa Ione</td><td>Passion Unleashed (Demonica #3)</td><td>4.32</td></tr>",
                            "<tr><td>285011</td><td>Dee Henderson</td><td>The Negotiator (O'Malley, #1)</td><td>4.32</td></tr>",
                            "<tr><td>2880715</td><td>J.R. Ward</td><td>The Black Dagger Brotherhood: An Insider's Guide</td><td>4.32</td></tr>",
                            "<tr><td>226004</td><td>Vernor Vinge</td><td>A Deepness in the Sky (Zones of Thought, #2)</td><td>4.32</td></tr>",
                            "<tr><td>35100</td><td>James M. McPherson</td><td>Battle Cry of Freedom</td><td>4.32</td></tr>",
                            "<tr><td>61663</td><td>Carl Sagan, Ann Druyan</td><td>Pale Blue Dot: A Vision of the Human Future in Space</td><td>4.32</td></tr>",
                            "<tr><td>138395</td><td>Robert Kirkman, Charlie Adlard, Cliff Rathburn</td><td>The Walking Dead, Vol. 06: This Sorrowful Life</td><td>4.32</td></tr>",
                            "<tr><td>19286623</td><td>Kylie Scott</td><td>Lead (Stage Dive, #3)</td><td>4.32</td></tr>",
                            "<tr><td>13927</td><td>Juliet Marillier</td><td>Son of the Shadows (Sevenwaters, #2)</td><td>4.32</td></tr>",
                            "<tr><td>21569527</td><td>Mary E. Pearson</td><td>The Heart of Betrayal (The Remnant Chronicles, #2)</td><td>4.32</td></tr>",
                            "<tr><td>11553</td><td>Robert McCammon</td><td>Boy's Life</td><td>4.32</td></tr>",
                            "<tr><td>299384</td><td>Michael Teitelbaum, Walt Disney Company</td><td>Sleeping Beauty: a Little Golden Book (Disney Princess)</td><td>4.32</td></tr>",
                            "<tr><td>8239301</td><td>Radwa Ashour, رضوى عاشور</td><td>الطنطورية</td><td>4.32</td></tr>",
                            "<tr><td>25142924</td><td>Mitch Albom</td><td>The Magic Strings of Frankie Presto</td><td>4.32</td></tr>",
                            "<tr><td>16884</td><td>Richard Rhodes</td><td>The Making of the Atomic Bomb</td><td>4.32</td></tr>",
                            "<tr><td>9394010</td><td>Gena Showalter</td><td>The Darkest Secret (Lords of the Underworld #7)</td><td>4.32</td></tr>",
                            "<tr><td>13337715</td><td>George R.R. Martin</td><td>A Dance with Dragons: Dreams and Dust (A Song of Ice and Fire #5, Part 1 of 2)</td><td>4.32</td></tr>",
                            "<tr><td>24488476</td><td>Pittacus Lore</td><td>The Fate of Ten (Lorien Legacies, #6)</td><td>4.32</td></tr>",
                            "<tr><td>133906</td><td>Langston Hughes</td><td>The Collected Poems</td><td>4.32</td></tr>",
                            "<tr><td>10549501</td><td>Rachel Caine</td><td>Last Breath (The Morganville Vampires, #11)</td><td>4.32</td></tr>",
                            "<tr><td>744615</td><td>Bryan Lee O'Malley, Steve Buccellato</td><td>Scott Pilgrim, Volume 4: Scott Pilgrim Gets It Together</td><td>4.32</td></tr>",
                            "<tr><td>824062</td><td>Brother Andrew, Elizabeth Sherrill, John Sherrill</td><td>God's Smuggler</td><td>4.32</td></tr>",
                            "<tr><td>76889</td><td>E.E. Cummings</td><td>100 Selected Poems</td><td>4.32</td></tr>",
                            "<tr><td>93000</td><td>Harry Gregson-Williams</td><td>Piano/Vocal/Guitar Sheet Music: The Chronicles of Narnia: The Lion, the Witch and The Wardrobe</td><td>4.32</td></tr>",
                            "<tr><td>68526</td><td>Bernard Cornwell</td><td>Lords of the North (The Saxon Stories, #3)</td><td>4.32</td></tr>",
                            "<tr><td>17378527</td><td>Maggie Stiefvater</td><td>The Raven King (The Raven Cycle, #4)</td><td>4.32</td></tr>",
                            "<tr><td>1728744</td><td>A.L. Singer, Walt Disney Company</td><td>Sleeping Beauty (Disney Princess, 5)</td><td>4.32</td></tr>",
                            "<tr><td>13638570</td><td>Rebecca Donovan</td><td>Out of Breath (Breathing, #3)</td><td>4.32</td></tr>",
                            "<tr><td>55398</td><td>Steven Erikson</td><td>House of Chains (The Malazan Book of the Fallen, #4)</td><td>4.32</td></tr>",
                            "<tr><td>498641</td><td>Brother Lawrence</td><td>The Practice of the Presence of God</td><td>4.32</td></tr>",
                            "<tr><td>356373</td><td>Henry T. Blackaby, Claude V. King, Richard Blackaby</td><td>Experiencing God: Knowing and Doing the Will of God, Workbook</td><td>4.32</td></tr>",
                            "<tr><td>1611656</td><td>Kresley Cole</td><td>Dark Needs at Night's Edge (Immortals After Dark #5)</td><td>4.32</td></tr>",
                            "<tr><td>23395680</td><td>Amie Kaufman, Jay Kristoff</td><td>Illuminae (The Illuminae Files, #1)</td><td>4.32</td></tr>",
                            "<tr><td>17378508</td><td>Maggie Stiefvater</td><td>Blue Lily, Lily Blue (The Raven Cycle, #3)</td><td>4.32</td></tr>",
                            "<tr><td>13836</td><td>Tamora Pierce</td><td>Wild Magic (Immortals, #1)</td><td>4.32</td></tr>",
                            "<tr><td>937249</td><td>Vince Flynn</td><td>Separation of Power (Mitch Rapp, #5)</td><td>4.32</td></tr>",
                            "<tr><td>1335184</td><td>Eugene Bradley Coco, Ron Dias, Walt Disney Company</td><td>Peter Pan (A Little Golden Book)</td><td>4.32</td></tr>",
                            "<tr><td>45109</td><td>Robin Hobb</td><td>Golden Fool (Tawny Man, #2)</td><td>4.32</td></tr>",
                            "<tr><td>240130</td><td>Robert Munsch, Michael Martchenko</td><td>The Paper Bag Princess</td><td>4.32</td></tr>",
                            "<tr><td>17383994</td><td>Veronica Roth</td><td>Divergent Series Complete Box Set (Divergent, #1-3)</td><td>4.32</td></tr>",
                            "<tr><td>13612739</td><td>C.J. Roberts</td><td>Seduced in the Dark (The Dark Duet, #2)</td><td>4.32</td></tr>",
                            "<tr><td>13834</td><td>Tamora Pierce</td><td>The Realms of the Gods (Immortals, #4)</td><td>4.32</td></tr>",
                            "<tr><td>3313418</td><td>Vince Flynn</td><td>Extreme Measures (Mitch Rapp, #11)</td><td>4.32</td></tr>",
                            "<tr><td>64216</td><td>Terry Pratchett</td><td>Guards! Guards! (Discworld, #8)</td><td>4.32</td></tr>",
                            "<tr><td>25899336</td><td>Paul Kalanithi, Abraham Verghese</td><td>When Breath Becomes Air</td><td>4.32</td></tr>",
                            "<tr><td>16158542</td><td>Daniel James Brown</td><td>The Boys in the Boat: Nine Americans and Their Epic Quest for Gold at the 1936 Berlin Olympics</td><td>4.32</td></tr>",
                            "<tr><td>117833</td><td>Mikhail Bulgakov, Katherine Tiernan O'Connor, Diana Burgin, Ellendea Proffer</td><td>The Master and Margarita</td><td>4.32</td></tr>",
                            "<tr><td>43916</td><td>Raymond E. Feist</td><td>Magician (The Riftwar Saga, #1-2)</td><td>4.32</td></tr>",
                            "<tr><td>91479</td><td>Jim Butcher</td><td>Death Masks (The Dresden Files, #5)</td><td>4.32</td></tr>",
                            "<tr><td>20560137</td><td>Sabaa Tahir</td><td>An Ember in the Ashes (An Ember in the Ashes, #1)</td><td>4.32</td></tr>",
                            "<tr><td>194373</td><td>Arthur Conan Doyle</td><td>The Memoirs of Sherlock Holmes</td><td>4.32</td></tr>",
                            "<tr><td>144350</td><td>John Flanagan</td><td>The Battle for Skandia (Ranger's Apprentice, #4)</td><td>4.32</td></tr>",
                            "<tr><td>318431</td><td>Nelson Mandela</td><td>Long Walk to Freedom</td><td>4.31</td></tr>",
                            "<tr><td>8726744</td><td>Stephenie Meyer</td><td>The Twilight Saga Complete Collection  (Twilight, #1-4 + 3.5)</td><td>4.31</td></tr>",
                            "<tr><td>285205</td><td>Patricia Briggs</td><td>Blood Bound (Mercy Thompson, #2)</td><td>4.31</td></tr>",
                            "<tr><td>6759</td><td>David Foster Wallace</td><td>Infinite Jest</td><td>4.31</td></tr>",
                            "<tr><td>105549</td><td>Dr. Seuss</td><td>The Sneetches and Other Stories</td><td>4.31</td></tr>",
                            "<tr><td>833253</td><td>Stormie Omartian</td><td>The Power of a Praying Wife</td><td>4.31</td></tr>",
                            "<tr><td>2168860</td><td>Jeaniene Frost</td><td>One Foot in the Grave (Night Huntress, #2)</td><td>4.31</td></tr>",
                            "<tr><td>10569</td><td>Stephen King</td><td>On Writing: A Memoir of the Craft</td><td>4.31</td></tr>",
                            "<tr><td>22917</td><td>Jacob Grimm, Wilhelm Grimm, Josef Scharl, Padraic Colum, Joseph Campbell, Margaret Raine Hunt, James Stern</td><td>The Complete Grimm's Fairy Tales</td><td>4.31</td></tr>",
                            "<tr><td>57854</td><td>Lao Tzu, Gia-Fu Feng, Jane English, Chungliang Al Huang, Rowena Pattee Kryder, Toinette Lippe</td><td>Tao Te Ching</td><td>4.31</td></tr>",
                            "<tr><td>32085</td><td>James Herriot</td><td>All Creatures Great and Small (All Creatures Great and Small, #1-2)</td><td>4.31</td></tr>",
                            "<tr><td>5364</td><td>Diana Gabaldon</td><td>Dragonfly in Amber (Outlander, #2)</td><td>4.31</td></tr>",
                            "<tr><td>11138</td><td>C.S. Lewis</td><td>Mere Christianity</td><td>4.31</td></tr>",
                            "<tr><td>9969571</td><td>Ernest Cline</td><td>Ready Player One</td><td>4.31</td></tr>",
                            "<tr><td>10664113</td><td>George R.R. Martin</td><td>A Dance with Dragons (A Song of Ice and Fire, #5)</td><td>4.31</td></tr>",
                            "<tr><td>18143977</td><td>Anthony Doerr</td><td>All the Light We Cannot See</td><td>4.31</td></tr>",
                            "<tr><td>2836109</td><td>John Flanagan</td><td>Erak's Ransom (Ranger's Apprentice, #7)</td><td>4.31</td></tr>",
                            "<tr><td>139855</td><td>J.I. Packer</td><td>Knowing God</td><td>4.31</td></tr>",
                            "<tr><td>17798287</td><td>K. Bromberg</td><td>Driven (Driven, #1)</td><td>4.31</td></tr>",
                            "<tr><td>184655</td><td>Vince Flynn</td><td>Transfer of Power (Mitch Rapp, #3)</td><td>4.31</td></tr>",
                            "<tr><td>858513</td><td>Kevin Henkes</td><td>Chrysanthemum</td><td>4.31</td></tr>",
                            "<tr><td>3570231</td><td>Jeaniene Frost</td><td>At Grave's End (Night Huntress, #3)</td><td>4.31</td></tr>",
                            "<tr><td>8171378</td><td>Isabel Wilkerson</td><td>The Warmth of Other Suns: The Epic Story of America's Great Migration</td><td>4.31</td></tr>",
                            "<tr><td>25893693</td><td>Martha Hall Kelly</td><td>Lilac Girls</td><td>4.31</td></tr>",
                            "<tr><td>6260997</td><td>Nicholas D. Kristof, Sheryl WuDunn</td><td>Half the Sky: Turning Oppression into Opportunity for Women Worldwide</td><td>4.31</td></tr>",
                            "<tr><td>36315</td><td>H.P. Lovecraft, August Derleth, Robert Bloch</td><td>The Best of H.P. Lovecraft: Bloodcurdling Tales of Horror and the Macabre</td><td>4.31</td></tr>",
                            "<tr><td>9635657</td><td>Rachel Renée Russell</td><td>Tales from a Not-So-Talented Pop Star (Dork Diaries, #3)</td><td>4.31</td></tr>",
                            "<tr><td>682920</td><td>Don    Wood, Audrey Wood</td><td>The Little Mouse, the Red Ripe Strawberry, and the Big Hungry Bear</td><td>4.31</td></tr>",
                            "<tr><td>30069</td><td>Robert Kirkman, Charlie Adlard</td><td>The Walking Dead, Vol. 03: Safety Behind Bars</td><td>4.31</td></tr>",
                            "<tr><td>112754</td><td>Karen Marie Moning</td><td>Kiss of the Highlander (Highlander, #4)</td><td>4.31</td></tr>",
                            "<tr><td>395962</td><td>Jacqueline Carey</td><td>Kushiel's Chosen (Phèdre's Trilogy, #2)</td><td>4.31</td></tr>",
                            "<tr><td>7405450</td><td>Kristen Ashley</td><td>Rock Chick Rescue (Rock Chick, #2)</td><td>4.31</td></tr>",
                            "<tr><td>537375</td><td>Caroline Alexander</td><td>The Endurance: Shackleton's Legendary Antarctic Expedition</td><td>4.31</td></tr>",
                            "<tr><td>8112318</td><td>Wendy Mass</td><td>The Candymakers (The Candymakers, #1)</td><td>4.31</td></tr>",
                            "<tr><td>61905</td><td>Lois McMaster Bujold</td><td>Barrayar (Vorkosigan Saga, #7)</td><td>4.31</td></tr>",
                            "<tr><td>17563080</td><td>Anne Bishop</td><td>Murder of Crows (The Others, #2)</td><td>4.31</td></tr>",
                            "<tr><td>905382</td><td>Melissa Müller, Rita Kimber, Robert Kimber</td><td>Anne Frank : The Biography</td><td>4.31</td></tr>",
                            "<tr><td>4703427</td><td>Steven Erikson</td><td>Dust of Dreams (The Malazan Book of the Fallen, #9)</td><td>4.31</td></tr>",
                            "<tr><td>111021</td><td>Erin Hunter</td><td>Dawn (Warriors: The New Prophecy, #3)</td><td>4.31</td></tr>",
                            "<tr><td>238141</td><td>J.D. Robb</td><td>Memory in Death (In Death, #22)</td><td>4.31</td></tr>",
                            "<tr><td>161156</td><td>Cornelius Ryan</td><td>The Longest Day</td><td>4.31</td></tr>",
                            "<tr><td>823411</td><td>Joseph Boyden</td><td>Three Day Road</td><td>4.31</td></tr>",
                            "<tr><td>12072362</td><td>Ree Drummond</td><td>The Pioneer Woman Cooks: Food from My Frontier </td><td>4.31</td></tr>",
                            "<tr><td>12706435</td><td>Shelly Crane</td><td>Defiance (Significance, #3)</td><td>4.31</td></tr>",
                            "<tr><td>16043804</td><td>Michael J. Sullivan</td><td>The Crown Tower (The Riyria Chronicles, #1)</td><td>4.31</td></tr>",
                            "<tr><td>8477057</td><td>Fábio Moon, Gabriel Bá, Craig Thompson, Dave Stewart, Sean Konot</td><td>Daytripper</td><td>4.31</td></tr>",
                            "<tr><td>18035</td><td>P.G. Wodehouse</td><td>Right Ho, Jeeves (Jeeves, #6)</td><td>4.31</td></tr>",
                            "<tr><td>296942</td><td>Erin Hunter</td><td>Moonrise (Warriors: The New Prophecy, #2)</td><td>4.31</td></tr>",
                            "<tr><td>19161852</td><td>N.K. Jemisin</td><td>The Fifth Season (The Broken Earth, #1)</td><td>4.31</td></tr>",
                            "<tr><td>5367</td><td>Roger Zelazny</td><td>The Great Book of Amber (The Chronicles of Amber, #1-10)</td><td>4.31</td></tr>",
                            "<tr><td>112755</td><td>Karen Marie Moning</td><td>The Dark Highlander (Highlander, #5)</td><td>4.31</td></tr>",
                            "<tr><td>79257</td><td>Neil Gaiman</td><td>Don't Panic: The Official Hitchhiker's Guide to the Galaxy Companion</td><td>4.31</td></tr>",
                            "<tr><td>238125</td><td>J.D. Robb</td><td>Holiday in Death (In Death, #7)</td><td>4.31</td></tr>",
                            "<tr><td>16114862</td><td>Madeline Sheehan</td><td>Unattainable (Undeniable, #3)</td><td>4.31</td></tr>",
                            "<tr><td>4099</td><td>Andrew Hunt, Dave Thomas</td><td>The Pragmatic Programmer: From Journeyman to Master</td><td>4.31</td></tr>",
                            "<tr><td>1898916</td><td>Matsuri Hino, Tomo Kimura</td><td>Vampire Knight, Vol. 4 (Vampire Knight, #4)</td><td>4.31</td></tr>",
                            "<tr><td>13252406</td><td>J.D. Robb</td><td>Delusion in Death (In Death, #35)</td><td>4.31</td></tr>",
                            "<tr><td>18752959</td><td>Rick Riordan</td><td>The Staff of Serapis (Percy Jackson &amp; Kane Chronicles Crossover #2)</td><td>4.31</td></tr>",
                            "<tr><td>129565</td><td>Dave Ramsey</td><td>Financial Peace Revisited</td><td>4.31</td></tr>",
                            "<tr><td>20878809</td><td>R.J. Palacio</td><td>The Julian Chapter (Wonder Story)</td><td>4.31</td></tr>",
                            "<tr><td>6681333</td><td>Heather Brewer</td><td>Eleventh Grade Burns (The Chronicles of Vladimir Tod, #4)</td><td>4.31</td></tr>",
                            "<tr><td>132688</td><td>Julia Child</td><td>The Way to Cook</td><td>4.31</td></tr>",
                            "<tr><td>6801652</td><td>Matsuri Hino, Tomo Kimura</td><td>Vampire Knight, Vol. 9</td><td>4.31</td></tr>",
                            "<tr><td>3888</td><td>America's Test Kitchen, Carl Tremblay, Daniel J. Van Ackere</td><td>The America's Test Kitchen Family Cookbook</td><td>4.31</td></tr>",
                            "<tr><td>12926804</td><td>Lynda Mullaly Hunt</td><td>One for the Murphys</td><td>4.31</td></tr>",
                            "<tr><td>762064</td><td>J.D. Robb, Nora Roberts</td><td>Betrayal in Death (In Death, #12)</td><td>4.31</td></tr>",
                            "<tr><td>17830559</td><td>Katy Evans</td><td>Remy (Real, #3)</td><td>4.31</td></tr>",
                            "<tr><td>2157243</td><td>Derek Landy</td><td>Playing with Fire (Skulduggery Pleasant, #2)</td><td>4.31</td></tr>",
                            "<tr><td>1632833</td><td>Conn Iggulden</td><td>Genghis: Lords of the Bow (Conqueror, #2)</td><td>4.31</td></tr>",
                            "<tr><td>42547</td><td>Martin Luther King Jr., Clayborne Carson</td><td>The Autobiography of Martin Luther King, Jr.</td><td>4.31</td></tr>",
                            "<tr><td>11429</td><td>Karen Kingsbury</td><td>Ever After (Lost Love, #2)</td><td>4.31</td></tr>",
                            "<tr><td>298816</td><td>Don Richardson</td><td>Peace Child: An Unforgettable Story of Primitive Jungle Treachery in the 20th Century</td><td>4.31</td></tr>",
                            "<tr><td>72855</td><td>Sara Donati</td><td>Lake in the Clouds (Wilderness, #3)</td><td>4.31</td></tr>",
                            "<tr><td>22062202</td><td>Anne Bishop</td><td>Marked in Flesh (The Others, #4)</td><td>4.31</td></tr>",
                            "<tr><td>201145</td><td>Else Holmelund Minarik, Maurice Sendak</td><td>A Kiss for Little Bear (An I Can Read Book) by Minarik, Else Holmelund [1984]</td><td>4.31</td></tr>",
                            "<tr><td>271264</td><td>Tite Kubo</td><td>Bleach, Volume 03</td><td>4.31</td></tr>",
                            "<tr><td>7027569</td><td>C.J. Sansom</td><td>Heartstone (Matthew Shardlake, #5)</td><td>4.31</td></tr>",
                            "<tr><td>5943970</td><td>J.D. Robb</td><td>Kindred in Death (In Death, #29)</td><td>4.31</td></tr>",
                            "<tr><td>136977</td><td>Pema Chödrön</td><td>The Places That Scare You: A Guide to Fearlessness in Difficult Times</td><td>4.3</td></tr>",
                            "<tr><td>10165727</td><td>Melina Marchetta</td><td>Froi of the Exiles (Lumatere Chronicles, #2)</td><td>4.3</td></tr>",
                            "<tr><td>90420</td><td>Sharon M. Draper</td><td>Copper Sun</td><td>4.3</td></tr>",
                            "</table>"
                        ]
                    }
                }
            ],
            "execution_count": 22
        },
        {
            "cell_type": "markdown",
            "source": [
                "Question 2: Write a query to find the least popular book."
            ],
            "metadata": {
                "azdata_cell_guid": "777429b8-8622-489d-9c49-e2acecd7f17e"
            },
            "attachments": {}
        },
        {
            "cell_type": "code",
            "source": [
                "-- return least popular book\n",
                "SELECT MIN(average_rating) AS 'Least Popular'\n",
                "FROM BooksDB.dbo.books;"
            ],
            "metadata": {
                "azdata_cell_guid": "c78a1779-db74-470f-a60a-7c72a43d774b",
                "tags": []
            },
            "outputs": [
                {
                    "output_type": "display_data",
                    "data": {
                        "text/html": "(1 row affected)"
                    },
                    "metadata": {}
                },
                {
                    "output_type": "display_data",
                    "data": {
                        "text/html": "Total execution time: 00:00:00.061"
                    },
                    "metadata": {}
                },
                {
                    "output_type": "execute_result",
                    "metadata": {},
                    "execution_count": 23,
                    "data": {
                        "application/vnd.dataresource+json": {
                            "schema": {
                                "fields": [
                                    {
                                        "name": "Least Popular"
                                    }
                                ]
                            },
                            "data": [
                                {
                                    "0": "2.47"
                                }
                            ]
                        },
                        "text/html": [
                            "<table>",
                            "<tr><th>Least Popular</th></tr>",
                            "<tr><td>2.47</td></tr>",
                            "</table>"
                        ]
                    }
                }
            ],
            "execution_count": 23
        },
        {
            "cell_type": "markdown",
            "source": [
                "Question 3: Which tag is the most popular?"
            ],
            "metadata": {
                "azdata_cell_guid": "a370909d-5d64-49e2-8fec-5220730c8ca7"
            },
            "attachments": {}
        },
        {
            "cell_type": "code",
            "source": [
                "-- return most popular tag\n",
                "SELECT top 5 tag_id, count AS 'Most Popular'\n",
                "FROM BooksDB.dbo.book_tags\n",
                "ORDER BY [count] DESC;"
            ],
            "metadata": {
                "azdata_cell_guid": "9e0451dc-c4d3-4775-9eb1-904854f459ff",
                "tags": [
                    "hide_input"
                ]
            },
            "outputs": [
                {
                    "output_type": "display_data",
                    "data": {
                        "text/html": "(5 rows affected)"
                    },
                    "metadata": {}
                },
                {
                    "output_type": "display_data",
                    "data": {
                        "text/html": "Total execution time: 00:00:00.333"
                    },
                    "metadata": {}
                },
                {
                    "output_type": "execute_result",
                    "metadata": {},
                    "execution_count": 38,
                    "data": {
                        "application/vnd.dataresource+json": {
                            "schema": {
                                "fields": [
                                    {
                                        "name": "tag_id"
                                    },
                                    {
                                        "name": "Most Popular"
                                    }
                                ]
                            },
                            "data": [
                                {
                                    "0": "30574",
                                    "1": "596234"
                                },
                                {
                                    "0": "30574",
                                    "1": "586235"
                                },
                                {
                                    "0": "30574",
                                    "1": "505884"
                                },
                                {
                                    "0": "30574",
                                    "1": "496107"
                                },
                                {
                                    "0": "30574",
                                    "1": "488469"
                                }
                            ]
                        },
                        "text/html": [
                            "<table>",
                            "<tr><th>tag_id</th><th>Most Popular</th></tr>",
                            "<tr><td>30574</td><td>596234</td></tr>",
                            "<tr><td>30574</td><td>586235</td></tr>",
                            "<tr><td>30574</td><td>505884</td></tr>",
                            "<tr><td>30574</td><td>496107</td></tr>",
                            "<tr><td>30574</td><td>488469</td></tr>",
                            "</table>"
                        ]
                    }
                }
            ],
            "execution_count": 38
        },
        {
            "cell_type": "markdown",
            "source": [
                "Question 4: What is the name of the most popular tag?"
            ],
            "metadata": {
                "azdata_cell_guid": "3cdfa7e6-c5a6-49fb-aa27-afeece881627"
            },
            "attachments": {}
        },
        {
            "cell_type": "code",
            "source": [
                "-- return name of most popular tag\n",
                "SELECT tag_id, tag_name\n",
                "FROM BooksDB.dbo.tags\n",
                "WHERE tag_id = 30574\n",
                ""
            ],
            "metadata": {
                "azdata_cell_guid": "3cd3a3ec-4ce2-49b6-b714-44179eed00e1"
            },
            "outputs": [
                {
                    "output_type": "display_data",
                    "data": {
                        "text/html": "(1 row affected)"
                    },
                    "metadata": {}
                },
                {
                    "output_type": "display_data",
                    "data": {
                        "text/html": "Total execution time: 00:00:00.437"
                    },
                    "metadata": {}
                },
                {
                    "output_type": "execute_result",
                    "metadata": {},
                    "execution_count": 39,
                    "data": {
                        "application/vnd.dataresource+json": {
                            "schema": {
                                "fields": [
                                    {
                                        "name": "tag_id"
                                    },
                                    {
                                        "name": "tag_name"
                                    }
                                ]
                            },
                            "data": [
                                {
                                    "0": "30574",
                                    "1": "to-read"
                                }
                            ]
                        },
                        "text/html": [
                            "<table>",
                            "<tr><th>tag_id</th><th>tag_name</th></tr>",
                            "<tr><td>30574</td><td>to-read</td></tr>",
                            "</table>"
                        ]
                    }
                }
            ],
            "execution_count": 39
        },
        {
            "cell_type": "markdown",
            "source": [
                "Question 5: How many books where released in the first decade of 2000?"
            ],
            "metadata": {
                "azdata_cell_guid": "b3962545-c0c2-47ca-a3c4-299c2c0a4b0c"
            },
            "attachments": {}
        },
        {
            "cell_type": "code",
            "source": [
                "-- return number of books published in the first decade of 2000\n",
                "SELECT COUNT(title) FROM BooksDB.dbo.books\n",
                "WHERE original_publication_year > 2000 and original_publication_year <= 2010"
            ],
            "metadata": {
                "azdata_cell_guid": "8dcd65e9-1b3e-4cf8-b726-26729a1225f2"
            },
            "outputs": [
                {
                    "output_type": "display_data",
                    "data": {
                        "text/html": "(1 row affected)"
                    },
                    "metadata": {}
                },
                {
                    "output_type": "display_data",
                    "data": {
                        "text/html": "Total execution time: 00:00:00.343"
                    },
                    "metadata": {}
                },
                {
                    "output_type": "execute_result",
                    "metadata": {},
                    "execution_count": 61,
                    "data": {
                        "application/vnd.dataresource+json": {
                            "schema": {
                                "fields": [
                                    {
                                        "name": "(No column name)"
                                    }
                                ]
                            },
                            "data": [
                                {
                                    "0": "3385"
                                }
                            ]
                        },
                        "text/html": [
                            "<table>",
                            "<tr><th>(No column name)</th></tr>",
                            "<tr><td>3385</td></tr>",
                            "</table>"
                        ]
                    }
                }
            ],
            "execution_count": 61
        },
        {
            "cell_type": "markdown",
            "source": [
                "Question 6: How many book titles contain the word Happy?"
            ],
            "metadata": {
                "azdata_cell_guid": "5080d6de-2775-4055-97ae-f93fce97a426"
            },
            "attachments": {}
        },
        {
            "cell_type": "code",
            "source": [
                "-- return number of books that contain the word Happy\n",
                "Select COUNT(*) \n",
                "FROM BooksDB.dbo.books \n",
                "WHERE original_title LIKE '%Happy%'"
            ],
            "metadata": {
                "azdata_cell_guid": "f55f18b9-91b1-4761-ad8c-4758434d7827",
                "tags": []
            },
            "outputs": [
                {
                    "output_type": "display_data",
                    "data": {
                        "text/html": "(1 row affected)"
                    },
                    "metadata": {}
                },
                {
                    "output_type": "display_data",
                    "data": {
                        "text/html": "Total execution time: 00:00:00.105"
                    },
                    "metadata": {}
                },
                {
                    "output_type": "execute_result",
                    "metadata": {},
                    "execution_count": 53,
                    "data": {
                        "application/vnd.dataresource+json": {
                            "schema": {
                                "fields": [
                                    {
                                        "name": "(No column name)"
                                    }
                                ]
                            },
                            "data": [
                                {
                                    "0": "11"
                                }
                            ]
                        },
                        "text/html": [
                            "<table>",
                            "<tr><th>(No column name)</th></tr>",
                            "<tr><td>11</td></tr>",
                            "</table>"
                        ]
                    }
                }
            ],
            "execution_count": 53
        },
        {
            "cell_type": "markdown",
            "source": [
                "Question 7: List the books from the top 3 authors from question 1.  If there is more than one author just use the first one. Sort the titles <span style=\"background-color: rgba(127, 127, 127, 0.1); font-family: -apple-system, BlinkMacSystemFont, sans-serif;\">alphabetically by author and then by average_rating, best rated to lowest. Does order matter in sorting?</span>"
            ],
            "metadata": {
                "azdata_cell_guid": "d38270ef-da5a-42b4-802a-506acb8b9e4b"
            },
            "attachments": {}
        },
        {
            "cell_type": "code",
            "source": [
                "----- return all books from the top 3 authors, sort by author and rating\n",
                "-- SELECT authors, title, average_rating as rating\n",
                "-- From BooksDB.dbo.books\n",
                "-- WHERE authors = 'Bill Watterson' or authors = 'J.K. Rowling' or authors = 'Brandon Sanderson'\n",
                "-- ORDER BY authors DESC, rating DESC;\n",
                "\n",
                "SELECT top 3 authors, average_rating\n",
                "FROM BooksDB.dbo.books\n",
                "ORDER BY average_rating DESC;"
            ],
            "metadata": {
                "azdata_cell_guid": "47466fac-5d8d-491d-bd3c-2f8496f55e6b",
                "tags": []
            },
            "outputs": [
                {
                    "output_type": "display_data",
                    "data": {
                        "text/html": "(3 rows affected)"
                    },
                    "metadata": {}
                },
                {
                    "output_type": "display_data",
                    "data": {
                        "text/html": "Total execution time: 00:00:00.071"
                    },
                    "metadata": {}
                },
                {
                    "output_type": "execute_result",
                    "metadata": {},
                    "execution_count": 48,
                    "data": {
                        "application/vnd.dataresource+json": {
                            "schema": {
                                "fields": [
                                    {
                                        "name": "authors"
                                    },
                                    {
                                        "name": "average_rating"
                                    }
                                ]
                            },
                            "data": [
                                {
                                    "0": "Bill Watterson",
                                    "1": "4.82"
                                },
                                {
                                    "0": "Brandon Sanderson",
                                    "1": "4.77"
                                },
                                {
                                    "0": "J.K. Rowling, Mary GrandPré",
                                    "1": "4.77"
                                }
                            ]
                        },
                        "text/html": [
                            "<table>",
                            "<tr><th>authors</th><th>average_rating</th></tr>",
                            "<tr><td>Bill Watterson</td><td>4.82</td></tr>",
                            "<tr><td>Brandon Sanderson</td><td>4.77</td></tr>",
                            "<tr><td>J.K. Rowling, Mary GrandPré</td><td>4.77</td></tr>",
                            "</table>"
                        ]
                    }
                }
            ],
            "execution_count": 48
        },
        {
            "cell_type": "markdown",
            "source": [
                "Question 8: Take a close look at J.K. Rowling.  Is her top rated book on this list from question 1?  Why might this be? How could we account for this?\n",
                "\n",
                "> Click here to add your answer."
            ],
            "metadata": {
                "azdata_cell_guid": "db907c70-0bbd-4121-ac91-ae814f703243"
            },
            "attachments": {}
        },
        {
            "cell_type": "markdown",
            "source": [
                "Try updating your above query to include all of J.K. Rowling's books.\n",
                "\n",
                "Are there any other issues?\n",
                "\n",
                "> Click here to add your answer."
            ],
            "metadata": {
                "azdata_cell_guid": "35ee4a48-8e84-4eb5-95ca-f5cdddc8d682"
            },
            "attachments": {}
        },
        {
            "cell_type": "code",
            "source": [
                "-- Try updating your above query to include all of J.K. Rowling's books\n",
                "-- SELECT authors, title, average_rating as rating\n",
                "-- From BooksDB.dbo.books\n",
                "-- WHERE authors LIKE 'J.K. Rowling%'\n",
                "-- ORDER BY authors DESC, rating DESC;\n",
                "\n",
                "SELECT authors, title, average_rating as rating\n",
                "From BooksDB.dbo.books\n",
                "WHERE authors = 'Bill Watterson' or authors LIKE '%J.K. Rowling%' or authors = 'Brandon Sanderson'\n",
                "ORDER BY authors DESC, rating DESC;"
            ],
            "metadata": {
                "azdata_cell_guid": "ce489012-fce9-435c-b570-7734223a0678",
                "tags": []
            },
            "outputs": [
                {
                    "output_type": "display_data",
                    "data": {
                        "text/html": "(60 rows affected)"
                    },
                    "metadata": {}
                },
                {
                    "output_type": "display_data",
                    "data": {
                        "text/html": "Total execution time: 00:00:00.281"
                    },
                    "metadata": {}
                },
                {
                    "output_type": "execute_result",
                    "metadata": {},
                    "execution_count": 62,
                    "data": {
                        "application/vnd.dataresource+json": {
                            "schema": {
                                "fields": [
                                    {
                                        "name": "authors"
                                    },
                                    {
                                        "name": "title"
                                    },
                                    {
                                        "name": "rating"
                                    }
                                ]
                            },
                            "data": [
                                {
                                    "0": "Robert Galbraith, J.K. Rowling",
                                    "1": "Career of Evil (Cormoran Strike, #3)",
                                    "2": "4.21"
                                },
                                {
                                    "0": "Robert Galbraith, J.K. Rowling",
                                    "1": "The Silkworm (Cormoran Strike, #2)",
                                    "2": "4.03"
                                },
                                {
                                    "0": "Robert Galbraith, J.K. Rowling",
                                    "1": "The Cuckoo's Calling (Cormoran Strike, #1)",
                                    "2": "3.83"
                                },
                                {
                                    "0": "Newt Scamander, J.K. Rowling, Albus Dumbledore",
                                    "1": "Fantastic Beasts and Where to Find Them",
                                    "2": "3.95"
                                },
                                {
                                    "0": "Melissa Anelli, J.K. Rowling",
                                    "1": "Harry, a History: The True Story of a Boy Wizard, His Fans, and Life Inside the Harry Potter Phenomenon",
                                    "2": "4.09"
                                },
                                {
                                    "0": "Kennilworthy Whisp, J.K. Rowling",
                                    "1": "Quidditch Through the Ages",
                                    "2": "3.85"
                                },
                                {
                                    "0": "John Tiffany, Jack Thorne, J.K. Rowling",
                                    "1": "Harry Potter and the Cursed Child - Parts One and Two (Harry Potter, #8)",
                                    "2": "3.75"
                                },
                                {
                                    "0": "J.K. Rowling, MinaLima",
                                    "1": "Short Stories from Hogwarts of Heroism, Hardship and Dangerous Hobbies (Pottermore Presents, #1)",
                                    "2": "4.22"
                                },
                                {
                                    "0": "J.K. Rowling, MinaLima",
                                    "1": "Short Stories from Hogwarts of Power, Politics and Pesky Poltergeists (Pottermore Presents, #2)",
                                    "2": "4.2"
                                },
                                {
                                    "0": "J.K. Rowling, Mary GrandPré, Rufus Beck",
                                    "1": "Harry Potter and the Prisoner of Azkaban (Harry Potter, #3)",
                                    "2": "4.53"
                                },
                                {
                                    "0": "J.K. Rowling, Mary GrandPré",
                                    "1": "Harry Potter Boxed Set, Books 1-5 (Harry Potter, #1-5)",
                                    "2": "4.77"
                                },
                                {
                                    "0": "J.K. Rowling, Mary GrandPré",
                                    "1": "The Harry Potter Collection 1-4 (Harry Potter, #1-4)",
                                    "2": "4.66"
                                },
                                {
                                    "0": "J.K. Rowling, Mary GrandPré",
                                    "1": "Harry Potter and the Deathly Hallows (Harry Potter, #7)",
                                    "2": "4.61"
                                },
                                {
                                    "0": "J.K. Rowling, Mary GrandPré",
                                    "1": "Harry Potter and the Half-Blood Prince (Harry Potter, #6)",
                                    "2": "4.54"
                                },
                                {
                                    "0": "J.K. Rowling, Mary GrandPré",
                                    "1": "Harry Potter and the Goblet of Fire (Harry Potter, #4)",
                                    "2": "4.53"
                                },
                                {
                                    "0": "J.K. Rowling, Mary GrandPré",
                                    "1": "Harry Potter and the Order of the Phoenix (Harry Potter, #5)",
                                    "2": "4.46"
                                },
                                {
                                    "0": "J.K. Rowling, Mary GrandPré",
                                    "1": "Harry Potter and the Sorcerer's Stone (Harry Potter, #1)",
                                    "2": "4.44"
                                },
                                {
                                    "0": "J.K. Rowling, Mary GrandPré",
                                    "1": "Harry Potter and the Chamber of Secrets (Harry Potter, #2)",
                                    "2": "4.37"
                                },
                                {
                                    "0": "J.K. Rowling, Joel Holland",
                                    "1": "Very Good Lives: The Fringe Benefits of Failure and the Importance of Imagination",
                                    "2": "4.26"
                                },
                                {
                                    "0": "J.K. Rowling",
                                    "1": "Harry Potter Boxset (Harry Potter, #1-7)",
                                    "2": "4.74"
                                },
                                {
                                    "0": "J.K. Rowling",
                                    "1": "Harry Potter Collection (Harry Potter, #1-6)",
                                    "2": "4.73"
                                },
                                {
                                    "0": "J.K. Rowling",
                                    "1": "Harry Potter and the Order of the Phoenix (Harry Potter, #5, Part 1)",
                                    "2": "4.56"
                                },
                                {
                                    "0": "J.K. Rowling",
                                    "1": "Fantastic Beasts and Where to Find Them: The Original Screenplay",
                                    "2": "4.41"
                                },
                                {
                                    "0": "J.K. Rowling",
                                    "1": "Harry Potter Schoolbooks Box Set: Two Classic Books from the Library of Hogwarts School of Witchcraft and Wizardry",
                                    "2": "4.4"
                                },
                                {
                                    "0": "J.K. Rowling",
                                    "1": "Hogwarts: An Incomplete and Unreliable Guide (Pottermore Presents, #3)",
                                    "2": "4.21"
                                },
                                {
                                    "0": "J.K. Rowling",
                                    "1": "The Tales of Beedle the Bard",
                                    "2": "4.06"
                                },
                                {
                                    "0": "J.K. Rowling",
                                    "1": "The Casual Vacancy",
                                    "2": "3.28"
                                },
                                {
                                    "0": "Brandon Sanderson",
                                    "1": "Words of Radiance (The Stormlight Archive, #2)",
                                    "2": "4.77"
                                },
                                {
                                    "0": "Brandon Sanderson",
                                    "1": "The Way of Kings, Part 1 (The Stormlight Archive #1.1)",
                                    "2": "4.67"
                                },
                                {
                                    "0": "Brandon Sanderson",
                                    "1": "The Way of Kings (The Stormlight Archive, #1)",
                                    "2": "4.64"
                                },
                                {
                                    "0": "Brandon Sanderson",
                                    "1": "Mistborn Trilogy Boxed Set (Mistborn, #1-3)",
                                    "2": "4.55"
                                },
                                {
                                    "0": "Brandon Sanderson",
                                    "1": "The Hero of Ages (Mistborn, #3)",
                                    "2": "4.46"
                                },
                                {
                                    "0": "Brandon Sanderson",
                                    "1": "The Bands of Mourning (Mistborn, #6)",
                                    "2": "4.45"
                                },
                                {
                                    "0": "Brandon Sanderson",
                                    "1": "The Final Empire (Mistborn, #1)",
                                    "2": "4.43"
                                },
                                {
                                    "0": "Brandon Sanderson",
                                    "1": "Secret History (Mistborn, #3.5)",
                                    "2": "4.38"
                                },
                                {
                                    "0": "Brandon Sanderson",
                                    "1": "The Well of Ascension (Mistborn, #2)",
                                    "2": "4.35"
                                },
                                {
                                    "0": "Brandon Sanderson",
                                    "1": "The Emperor's Soul",
                                    "2": "4.33"
                                },
                                {
                                    "0": "Brandon Sanderson",
                                    "1": "Shadows of Self (Mistborn, #5)",
                                    "2": "4.3"
                                },
                                {
                                    "0": "Brandon Sanderson",
                                    "1": "Firefight (The Reckoners, #2)",
                                    "2": "4.29"
                                },
                                {
                                    "0": "Brandon Sanderson",
                                    "1": "The Rithmatist (The Rithmatist, #1)",
                                    "2": "4.25"
                                },
                                {
                                    "0": "Brandon Sanderson",
                                    "1": "Warbreaker (Warbreaker, #1)",
                                    "2": "4.22"
                                },
                                {
                                    "0": "Brandon Sanderson",
                                    "1": "The Alloy of Law (Mistborn, #4)",
                                    "2": "4.2"
                                },
                                {
                                    "0": "Brandon Sanderson",
                                    "1": "Calamity (The Reckoners, #3)",
                                    "2": "4.2"
                                },
                                {
                                    "0": "Brandon Sanderson",
                                    "1": "Elantris (Elantris, #1)",
                                    "2": "4.17"
                                },
                                {
                                    "0": "Brandon Sanderson",
                                    "1": "Steelheart (The Reckoners, #1)",
                                    "2": "4.16"
                                },
                                {
                                    "0": "Brandon Sanderson",
                                    "1": "Legion (Legion, #1)",
                                    "2": "4.13"
                                },
                                {
                                    "0": "Brandon Sanderson",
                                    "1": "Mitosis (The Reckoners, #1.5)",
                                    "2": "3.87"
                                },
                                {
                                    "0": "Brandon Sanderson",
                                    "1": "Alcatraz Versus the Evil Librarians (Alcatraz, #1)",
                                    "2": "3.87"
                                },
                                {
                                    "0": "Bill Watterson",
                                    "1": "The Complete Calvin and Hobbes",
                                    "2": "4.82"
                                },
                                {
                                    "0": "Bill Watterson",
                                    "1": "It's a Magical World: A Calvin and Hobbes Collection",
                                    "2": "4.75"
                                },
                                {
                                    "0": "Bill Watterson",
                                    "1": "There's Treasure Everywhere: A Calvin and Hobbes Collection",
                                    "2": "4.74"
                                },
                                {
                                    "0": "Bill Watterson",
                                    "1": "The Authoritative Calvin and Hobbes: A Calvin and Hobbes Treasury",
                                    "2": "4.73"
                                },
                                {
                                    "0": "Bill Watterson",
                                    "1": "The Indispensable Calvin and Hobbes",
                                    "2": "4.73"
                                },
                                {
                                    "0": "Bill Watterson",
                                    "1": "Attack of the Deranged Mutant Killer Monster Snow Goons",
                                    "2": "4.72"
                                },
                                {
                                    "0": "Bill Watterson",
                                    "1": "The Revenge of the Baby-Sat",
                                    "2": "4.71"
                                },
                                {
                                    "0": "Bill Watterson",
                                    "1": "Homicidal Psycho Jungle Cat: A Calvin and Hobbes Collection",
                                    "2": "4.71"
                                },
                                {
                                    "0": "Bill Watterson",
                                    "1": "The Days Are Just Packed: A Calvin and Hobbes Collection",
                                    "2": "4.68"
                                },
                                {
                                    "0": "Bill Watterson",
                                    "1": "The Calvin and Hobbes Lazy Sunday Book",
                                    "2": "4.66"
                                },
                                {
                                    "0": "Bill Watterson",
                                    "1": "The Essential Calvin and Hobbes: A Calvin and Hobbes Treasury",
                                    "2": "4.65"
                                },
                                {
                                    "0": "Bill Watterson",
                                    "1": "The Calvin and Hobbes Tenth Anniversary Book",
                                    "2": "4.63"
                                }
                            ]
                        },
                        "text/html": [
                            "<table>",
                            "<tr><th>authors</th><th>title</th><th>rating</th></tr>",
                            "<tr><td>Robert Galbraith, J.K. Rowling</td><td>Career of Evil (Cormoran Strike, #3)</td><td>4.21</td></tr>",
                            "<tr><td>Robert Galbraith, J.K. Rowling</td><td>The Silkworm (Cormoran Strike, #2)</td><td>4.03</td></tr>",
                            "<tr><td>Robert Galbraith, J.K. Rowling</td><td>The Cuckoo's Calling (Cormoran Strike, #1)</td><td>3.83</td></tr>",
                            "<tr><td>Newt Scamander, J.K. Rowling, Albus Dumbledore</td><td>Fantastic Beasts and Where to Find Them</td><td>3.95</td></tr>",
                            "<tr><td>Melissa Anelli, J.K. Rowling</td><td>Harry, a History: The True Story of a Boy Wizard, His Fans, and Life Inside the Harry Potter Phenomenon</td><td>4.09</td></tr>",
                            "<tr><td>Kennilworthy Whisp, J.K. Rowling</td><td>Quidditch Through the Ages</td><td>3.85</td></tr>",
                            "<tr><td>John Tiffany, Jack Thorne, J.K. Rowling</td><td>Harry Potter and the Cursed Child - Parts One and Two (Harry Potter, #8)</td><td>3.75</td></tr>",
                            "<tr><td>J.K. Rowling, MinaLima</td><td>Short Stories from Hogwarts of Heroism, Hardship and Dangerous Hobbies (Pottermore Presents, #1)</td><td>4.22</td></tr>",
                            "<tr><td>J.K. Rowling, MinaLima</td><td>Short Stories from Hogwarts of Power, Politics and Pesky Poltergeists (Pottermore Presents, #2)</td><td>4.2</td></tr>",
                            "<tr><td>J.K. Rowling, Mary GrandPré, Rufus Beck</td><td>Harry Potter and the Prisoner of Azkaban (Harry Potter, #3)</td><td>4.53</td></tr>",
                            "<tr><td>J.K. Rowling, Mary GrandPré</td><td>Harry Potter Boxed Set, Books 1-5 (Harry Potter, #1-5)</td><td>4.77</td></tr>",
                            "<tr><td>J.K. Rowling, Mary GrandPré</td><td>The Harry Potter Collection 1-4 (Harry Potter, #1-4)</td><td>4.66</td></tr>",
                            "<tr><td>J.K. Rowling, Mary GrandPré</td><td>Harry Potter and the Deathly Hallows (Harry Potter, #7)</td><td>4.61</td></tr>",
                            "<tr><td>J.K. Rowling, Mary GrandPré</td><td>Harry Potter and the Half-Blood Prince (Harry Potter, #6)</td><td>4.54</td></tr>",
                            "<tr><td>J.K. Rowling, Mary GrandPré</td><td>Harry Potter and the Goblet of Fire (Harry Potter, #4)</td><td>4.53</td></tr>",
                            "<tr><td>J.K. Rowling, Mary GrandPré</td><td>Harry Potter and the Order of the Phoenix (Harry Potter, #5)</td><td>4.46</td></tr>",
                            "<tr><td>J.K. Rowling, Mary GrandPré</td><td>Harry Potter and the Sorcerer's Stone (Harry Potter, #1)</td><td>4.44</td></tr>",
                            "<tr><td>J.K. Rowling, Mary GrandPré</td><td>Harry Potter and the Chamber of Secrets (Harry Potter, #2)</td><td>4.37</td></tr>",
                            "<tr><td>J.K. Rowling, Joel Holland</td><td>Very Good Lives: The Fringe Benefits of Failure and the Importance of Imagination</td><td>4.26</td></tr>",
                            "<tr><td>J.K. Rowling</td><td>Harry Potter Boxset (Harry Potter, #1-7)</td><td>4.74</td></tr>",
                            "<tr><td>J.K. Rowling</td><td>Harry Potter Collection (Harry Potter, #1-6)</td><td>4.73</td></tr>",
                            "<tr><td>J.K. Rowling</td><td>Harry Potter and the Order of the Phoenix (Harry Potter, #5, Part 1)</td><td>4.56</td></tr>",
                            "<tr><td>J.K. Rowling</td><td>Fantastic Beasts and Where to Find Them: The Original Screenplay</td><td>4.41</td></tr>",
                            "<tr><td>J.K. Rowling</td><td>Harry Potter Schoolbooks Box Set: Two Classic Books from the Library of Hogwarts School of Witchcraft and Wizardry</td><td>4.4</td></tr>",
                            "<tr><td>J.K. Rowling</td><td>Hogwarts: An Incomplete and Unreliable Guide (Pottermore Presents, #3)</td><td>4.21</td></tr>",
                            "<tr><td>J.K. Rowling</td><td>The Tales of Beedle the Bard</td><td>4.06</td></tr>",
                            "<tr><td>J.K. Rowling</td><td>The Casual Vacancy</td><td>3.28</td></tr>",
                            "<tr><td>Brandon Sanderson</td><td>Words of Radiance (The Stormlight Archive, #2)</td><td>4.77</td></tr>",
                            "<tr><td>Brandon Sanderson</td><td>The Way of Kings, Part 1 (The Stormlight Archive #1.1)</td><td>4.67</td></tr>",
                            "<tr><td>Brandon Sanderson</td><td>The Way of Kings (The Stormlight Archive, #1)</td><td>4.64</td></tr>",
                            "<tr><td>Brandon Sanderson</td><td>Mistborn Trilogy Boxed Set (Mistborn, #1-3)</td><td>4.55</td></tr>",
                            "<tr><td>Brandon Sanderson</td><td>The Hero of Ages (Mistborn, #3)</td><td>4.46</td></tr>",
                            "<tr><td>Brandon Sanderson</td><td>The Bands of Mourning (Mistborn, #6)</td><td>4.45</td></tr>",
                            "<tr><td>Brandon Sanderson</td><td>The Final Empire (Mistborn, #1)</td><td>4.43</td></tr>",
                            "<tr><td>Brandon Sanderson</td><td>Secret History (Mistborn, #3.5)</td><td>4.38</td></tr>",
                            "<tr><td>Brandon Sanderson</td><td>The Well of Ascension (Mistborn, #2)</td><td>4.35</td></tr>",
                            "<tr><td>Brandon Sanderson</td><td>The Emperor's Soul</td><td>4.33</td></tr>",
                            "<tr><td>Brandon Sanderson</td><td>Shadows of Self (Mistborn, #5)</td><td>4.3</td></tr>",
                            "<tr><td>Brandon Sanderson</td><td>Firefight (The Reckoners, #2)</td><td>4.29</td></tr>",
                            "<tr><td>Brandon Sanderson</td><td>The Rithmatist (The Rithmatist, #1)</td><td>4.25</td></tr>",
                            "<tr><td>Brandon Sanderson</td><td>Warbreaker (Warbreaker, #1)</td><td>4.22</td></tr>",
                            "<tr><td>Brandon Sanderson</td><td>The Alloy of Law (Mistborn, #4)</td><td>4.2</td></tr>",
                            "<tr><td>Brandon Sanderson</td><td>Calamity (The Reckoners, #3)</td><td>4.2</td></tr>",
                            "<tr><td>Brandon Sanderson</td><td>Elantris (Elantris, #1)</td><td>4.17</td></tr>",
                            "<tr><td>Brandon Sanderson</td><td>Steelheart (The Reckoners, #1)</td><td>4.16</td></tr>",
                            "<tr><td>Brandon Sanderson</td><td>Legion (Legion, #1)</td><td>4.13</td></tr>",
                            "<tr><td>Brandon Sanderson</td><td>Mitosis (The Reckoners, #1.5)</td><td>3.87</td></tr>",
                            "<tr><td>Brandon Sanderson</td><td>Alcatraz Versus the Evil Librarians (Alcatraz, #1)</td><td>3.87</td></tr>",
                            "<tr><td>Bill Watterson</td><td>The Complete Calvin and Hobbes</td><td>4.82</td></tr>",
                            "<tr><td>Bill Watterson</td><td>It's a Magical World: A Calvin and Hobbes Collection</td><td>4.75</td></tr>",
                            "<tr><td>Bill Watterson</td><td>There's Treasure Everywhere: A Calvin and Hobbes Collection</td><td>4.74</td></tr>",
                            "<tr><td>Bill Watterson</td><td>The Authoritative Calvin and Hobbes: A Calvin and Hobbes Treasury</td><td>4.73</td></tr>",
                            "<tr><td>Bill Watterson</td><td>The Indispensable Calvin and Hobbes</td><td>4.73</td></tr>",
                            "<tr><td>Bill Watterson</td><td>Attack of the Deranged Mutant Killer Monster Snow Goons</td><td>4.72</td></tr>",
                            "<tr><td>Bill Watterson</td><td>The Revenge of the Baby-Sat</td><td>4.71</td></tr>",
                            "<tr><td>Bill Watterson</td><td>Homicidal Psycho Jungle Cat: A Calvin and Hobbes Collection</td><td>4.71</td></tr>",
                            "<tr><td>Bill Watterson</td><td>The Days Are Just Packed: A Calvin and Hobbes Collection</td><td>4.68</td></tr>",
                            "<tr><td>Bill Watterson</td><td>The Calvin and Hobbes Lazy Sunday Book</td><td>4.66</td></tr>",
                            "<tr><td>Bill Watterson</td><td>The Essential Calvin and Hobbes: A Calvin and Hobbes Treasury</td><td>4.65</td></tr>",
                            "<tr><td>Bill Watterson</td><td>The Calvin and Hobbes Tenth Anniversary Book</td><td>4.63</td></tr>",
                            "</table>"
                        ]
                    }
                }
            ],
            "execution_count": 62
        },
        {
            "cell_type": "markdown",
            "source": [
                "Question 9: Write a query that returns the number of Authors whose first name is between rock and roll."
            ],
            "metadata": {
                "azdata_cell_guid": "75bf5054-4918-4e9e-8e03-24a38ffab9cc"
            },
            "attachments": {}
        },
        {
            "cell_type": "code",
            "source": [
                "-- return number of authors whose first name is between rock and roll\n",
                "SELECT authors, title, average_rating as rating\n",
                "From BooksDB.dbo.books\n",
                "WHERE authors LIKE '%Happy%'\n",
                ""
            ],
            "metadata": {
                "azdata_cell_guid": "491b2492-95d4-4078-b319-386b0c5592ec"
            },
            "outputs": [],
            "execution_count": null
        },
        {
            "cell_type": "markdown",
            "source": [
                "## Part 2. Write your own question and write a query to answer it.\n",
                "\n",
                "Your Question:  Click here to add"
            ],
            "metadata": {
                "azdata_cell_guid": "1ba1363a-4f02-4962-a95a-93b80c5926b1"
            },
            "attachments": {}
        },
        {
            "cell_type": "code",
            "source": [
                "-- Add your querry here\n"
            ],
            "metadata": {
                "azdata_cell_guid": "607f1a61-b306-42bf-a20c-60ec3a6ba86a"
            },
            "outputs": [],
            "execution_count": null
        },
        {
            "cell_type": "markdown",
            "source": [
                "Your Question: Click here to add"
            ],
            "metadata": {
                "azdata_cell_guid": "9386ad04-a016-44d4-8c5c-d25a102d47b4"
            }
        },
        {
            "cell_type": "code",
            "source": [
                "-- Add your querry here\n"
            ],
            "metadata": {
                "azdata_cell_guid": "15f249cf-aad7-468d-92e1-429b2a09f285"
            },
            "outputs": [],
            "execution_count": null
        },
        {
            "cell_type": "markdown",
            "source": [
                "**Some Question Examples:**\n",
                "\n",
                "Write a query that returns the longest title?\n",
                "\n",
                "Which Author has written the most books?  \n",
                "\n",
                "Top  ten books written the year I was born?"
            ],
            "metadata": {
                "azdata_cell_guid": "7160362b-7127-4123-bd1d-95a94ae38a07"
            }
        }
    ]
}